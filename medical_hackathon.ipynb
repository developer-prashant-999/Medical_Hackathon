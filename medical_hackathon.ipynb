{
 "cells": [
  {
   "cell_type": "markdown",
   "id": "4131aa59",
   "metadata": {},
   "source": [
    "# Random Forest"
   ]
  },
  {
   "cell_type": "markdown",
   "id": "8c6d60da",
   "metadata": {},
   "source": [
    "### Importing packages"
   ]
  },
  {
   "cell_type": "code",
   "execution_count": 1,
   "id": "048bab02",
   "metadata": {},
   "outputs": [],
   "source": [
    "import pandas as pd\n",
    "import numpy as np\n",
    "import matplotlib.pyplot as plt\n",
    "from sklearn.model_selection import train_test_split\n",
    "from sklearn.ensemble import RandomForestClassifier\n",
    "from sklearn.metrics import accuracy_score\n",
    "from sklearn.model_selection import cross_val_score, KFold"
   ]
  },
  {
   "cell_type": "markdown",
   "id": "fd0006f6",
   "metadata": {},
   "source": [
    "### Reading dataset"
   ]
  },
  {
   "cell_type": "code",
   "execution_count": 2,
   "id": "0e23d2d0",
   "metadata": {},
   "outputs": [],
   "source": [
    "df = pd.read_csv(r\"E:\\medical hackathon\\heart_training.csv\")"
   ]
  },
  {
   "cell_type": "code",
   "execution_count": 3,
   "id": "ebf626ec",
   "metadata": {},
   "outputs": [
    {
     "data": {
      "text/html": [
       "<div>\n",
       "<style scoped>\n",
       "    .dataframe tbody tr th:only-of-type {\n",
       "        vertical-align: middle;\n",
       "    }\n",
       "\n",
       "    .dataframe tbody tr th {\n",
       "        vertical-align: top;\n",
       "    }\n",
       "\n",
       "    .dataframe thead th {\n",
       "        text-align: right;\n",
       "    }\n",
       "</style>\n",
       "<table border=\"1\" class=\"dataframe\">\n",
       "  <thead>\n",
       "    <tr style=\"text-align: right;\">\n",
       "      <th></th>\n",
       "      <th>Name</th>\n",
       "      <th>Gender</th>\n",
       "      <th>Age</th>\n",
       "      <th>Chest pain</th>\n",
       "      <th>Shortness of breath</th>\n",
       "      <th>Fatigue</th>\n",
       "      <th>Systolic</th>\n",
       "      <th>Diastolic</th>\n",
       "      <th>Heart rate (bpm)</th>\n",
       "      <th>Lung sounds</th>\n",
       "      <th>...</th>\n",
       "      <th>Cardiac CT</th>\n",
       "      <th>Obesity</th>\n",
       "      <th>Murmur</th>\n",
       "      <th>Chest x-ray</th>\n",
       "      <th>Previous illnesses</th>\n",
       "      <th>Pulmonary function tests</th>\n",
       "      <th>Spirometry</th>\n",
       "      <th>Diagnosis</th>\n",
       "      <th>Medications</th>\n",
       "      <th>Treatment</th>\n",
       "    </tr>\n",
       "  </thead>\n",
       "  <tbody>\n",
       "    <tr>\n",
       "      <th>0</th>\n",
       "      <td>Jane Doe</td>\n",
       "      <td>Female</td>\n",
       "      <td>55</td>\n",
       "      <td>1</td>\n",
       "      <td>1</td>\n",
       "      <td>1</td>\n",
       "      <td>140</td>\n",
       "      <td>90</td>\n",
       "      <td>100</td>\n",
       "      <td>1</td>\n",
       "      <td>...</td>\n",
       "      <td>Shows a 50% blockage in the left anterior desc...</td>\n",
       "      <td>0</td>\n",
       "      <td>1</td>\n",
       "      <td>0</td>\n",
       "      <td>0</td>\n",
       "      <td>0</td>\n",
       "      <td>0</td>\n",
       "      <td>Coronary artery disease (CAD)</td>\n",
       "      <td>Aspirin, metoprolol, atorvastatin</td>\n",
       "      <td>0</td>\n",
       "    </tr>\n",
       "    <tr>\n",
       "      <th>1</th>\n",
       "      <td>Mark Johnson</td>\n",
       "      <td>Male</td>\n",
       "      <td>57</td>\n",
       "      <td>1</td>\n",
       "      <td>1</td>\n",
       "      <td>1</td>\n",
       "      <td>150</td>\n",
       "      <td>80</td>\n",
       "      <td>110</td>\n",
       "      <td>1</td>\n",
       "      <td>...</td>\n",
       "      <td>Shows a 60% blockage in the right coronary artery</td>\n",
       "      <td>0</td>\n",
       "      <td>1</td>\n",
       "      <td>0</td>\n",
       "      <td>0</td>\n",
       "      <td>0</td>\n",
       "      <td>0</td>\n",
       "      <td>Coronary artery disease (CAD)</td>\n",
       "      <td>Aspirin, ramipril, atorvastatin</td>\n",
       "      <td>0</td>\n",
       "    </tr>\n",
       "    <tr>\n",
       "      <th>2</th>\n",
       "      <td>Emily Davis</td>\n",
       "      <td>Female</td>\n",
       "      <td>60</td>\n",
       "      <td>1</td>\n",
       "      <td>1</td>\n",
       "      <td>1</td>\n",
       "      <td>130</td>\n",
       "      <td>85</td>\n",
       "      <td>95</td>\n",
       "      <td>1</td>\n",
       "      <td>...</td>\n",
       "      <td>Shows a 75% blockage in the left anterior desc...</td>\n",
       "      <td>0</td>\n",
       "      <td>1</td>\n",
       "      <td>0</td>\n",
       "      <td>0</td>\n",
       "      <td>0</td>\n",
       "      <td>0</td>\n",
       "      <td>Coronary artery disease (CAD)</td>\n",
       "      <td>Aspirin, lisinopril, rosuvastatin</td>\n",
       "      <td>0</td>\n",
       "    </tr>\n",
       "    <tr>\n",
       "      <th>3</th>\n",
       "      <td>William Thompson</td>\n",
       "      <td>Male</td>\n",
       "      <td>62</td>\n",
       "      <td>1</td>\n",
       "      <td>1</td>\n",
       "      <td>1</td>\n",
       "      <td>145</td>\n",
       "      <td>90</td>\n",
       "      <td>100</td>\n",
       "      <td>1</td>\n",
       "      <td>...</td>\n",
       "      <td>Shows a 80% blockage in the left circumflex co...</td>\n",
       "      <td>0</td>\n",
       "      <td>1</td>\n",
       "      <td>0</td>\n",
       "      <td>0</td>\n",
       "      <td>0</td>\n",
       "      <td>0</td>\n",
       "      <td>Coronary artery disease (CAD)</td>\n",
       "      <td>Aspirin, metoprolol, atorvastatin</td>\n",
       "      <td>0</td>\n",
       "    </tr>\n",
       "    <tr>\n",
       "      <th>4</th>\n",
       "      <td>Ashley Johnson</td>\n",
       "      <td>Female</td>\n",
       "      <td>58</td>\n",
       "      <td>1</td>\n",
       "      <td>1</td>\n",
       "      <td>1</td>\n",
       "      <td>135</td>\n",
       "      <td>80</td>\n",
       "      <td>105</td>\n",
       "      <td>1</td>\n",
       "      <td>...</td>\n",
       "      <td>Shows a 90% blockage in the right coronary artery</td>\n",
       "      <td>0</td>\n",
       "      <td>1</td>\n",
       "      <td>0</td>\n",
       "      <td>0</td>\n",
       "      <td>0</td>\n",
       "      <td>0</td>\n",
       "      <td>Coronary artery disease (CAD)</td>\n",
       "      <td>Aspirin, simvastatin, lisinopril</td>\n",
       "      <td>0</td>\n",
       "    </tr>\n",
       "  </tbody>\n",
       "</table>\n",
       "<p>5 rows × 49 columns</p>\n",
       "</div>"
      ],
      "text/plain": [
       "               Name  Gender  Age  Chest pain  Shortness of breath  Fatigue  \\\n",
       "0          Jane Doe  Female   55           1                    1        1   \n",
       "1      Mark Johnson    Male   57           1                    1        1   \n",
       "2       Emily Davis  Female   60           1                    1        1   \n",
       "3  William Thompson    Male   62           1                    1        1   \n",
       "4    Ashley Johnson  Female   58           1                    1        1   \n",
       "\n",
       "   Systolic  Diastolic  Heart rate (bpm)  Lung sounds  ...  \\\n",
       "0       140         90               100            1  ...   \n",
       "1       150         80               110            1  ...   \n",
       "2       130         85                95            1  ...   \n",
       "3       145         90               100            1  ...   \n",
       "4       135         80               105            1  ...   \n",
       "\n",
       "                                          Cardiac CT  Obesity  Murmur  \\\n",
       "0  Shows a 50% blockage in the left anterior desc...        0       1   \n",
       "1  Shows a 60% blockage in the right coronary artery        0       1   \n",
       "2  Shows a 75% blockage in the left anterior desc...        0       1   \n",
       "3  Shows a 80% blockage in the left circumflex co...        0       1   \n",
       "4  Shows a 90% blockage in the right coronary artery        0       1   \n",
       "\n",
       "   Chest x-ray  Previous illnesses  Pulmonary function tests  Spirometry  \\\n",
       "0            0                   0                         0           0   \n",
       "1            0                   0                         0           0   \n",
       "2            0                   0                         0           0   \n",
       "3            0                   0                         0           0   \n",
       "4            0                   0                         0           0   \n",
       "\n",
       "                       Diagnosis                        Medications  Treatment  \n",
       "0  Coronary artery disease (CAD)  Aspirin, metoprolol, atorvastatin          0  \n",
       "1  Coronary artery disease (CAD)    Aspirin, ramipril, atorvastatin          0  \n",
       "2  Coronary artery disease (CAD)  Aspirin, lisinopril, rosuvastatin          0  \n",
       "3  Coronary artery disease (CAD)  Aspirin, metoprolol, atorvastatin          0  \n",
       "4  Coronary artery disease (CAD)   Aspirin, simvastatin, lisinopril          0  \n",
       "\n",
       "[5 rows x 49 columns]"
      ]
     },
     "execution_count": 3,
     "metadata": {},
     "output_type": "execute_result"
    }
   ],
   "source": [
    "df.head()"
   ]
  },
  {
   "cell_type": "markdown",
   "id": "ea9dc005",
   "metadata": {},
   "source": [
    "### Label Encoding"
   ]
  },
  {
   "cell_type": "code",
   "execution_count": 4,
   "id": "d6f64c5c",
   "metadata": {
    "scrolled": false
   },
   "outputs": [],
   "source": [
    "df.replace({'Gender':{\"Male\":0,\"Female\":1}},inplace=True)\n",
    "df.replace({'Echocardiogram':{\"Shows increased pressure in the right ventricle\":1,\"Shows increased pressure in the right ventricle and decreased function of the right ventricle\":2,\"Shows vegetation on the aortic valve\":3,\"Shows vegetation on the aortic valve and pulmonic valve\":4,\"Shows vegetation on the mitral valve\":5,\"Shows vegetation on the mitral valve and aortic valve\":6,\"Shows vegetation on the mitral valve and pulmonary valve\":7,\"Shows vegetation on the mitral valve and tricuspid valve\":8,\"Shows vegetation on the mitral valve, aortic valve and tricuspid valve\":9,\"Shows vegetation on the mitral valve, aortic valve, and pulmonary valve\":10,\"Shows vegetation on the mitral valve, aortic valve, tricuspid valve, and pulmonary valve\":11,\"Shows vegetation on the mitral valve, tricuspid valve, and pulmonary valve\":12,\"Shows vegetation on the pulmonary valve\":13,\"Shows vegetation on the tricuspid valve\":14,\"Shows vegetation on the tricuspid valve and pulmonary valve\":15, \"Shows increased pressure in the right ventricle and decreased function of the left ventricle\":16}},inplace=True)\n",
    "df.replace({'Blood culture':{\"Positive for Candida albicans\":1,\"Positive for Candida dubliniensis\":2,\"Positive for Candida glabrata\":3,\"Positive for Candida guilliermondii\":4,\"Positive for Candida krusei\":5,\"Positive for Candida lusitaniae\":6,\"Positive for Candida parapsilosis\":7,\"Positive for Candida rugosa\":8,\"Positive for Candida tropicalis\":9,\"Positive for Enterococcus faecalis\":10,\"Positive for Staphylococcus aureus\":11,\"Positive for Staphylococcus epidermidis\":12,\"Positive for Streptococcus anginosus\":13,\"Positive for Streptococcus bovis\":14,\"Positive for Streptococcus mitis\":15,\"Positive for Streptococcus oralis\":16,\"Positive for Streptococcus pneumonia\":17,\"Positive for Streptococcus pneumoniae\":18,\"Positive for Streptococcus salivarius\":19,\"Positive for Streptococcus sanguinis\":20,\"Positive for Streptococcus viridans\":21\n",
    "}},inplace=True)\n",
    "df.replace({'EKG':{\"Abnormal\":1,\"Normal\":2,\"Shows an elevated ST segment and PR interval consistent with pericarditis\":3,\"Shows atrial fibrillation\":4,\"Shows diffuse ST depression and PR elevation consistent with pericarditis\":5,\"Shows electrical alternans consistent with pericarditis\":6,\"Shows evidence of aortic stenosis\":7,\"Shows evidence of aortic valve regurgitation\":8,\"Shows evidence of arrhythmogenic right ventricular cardiomyopathy\":9,\"Shows evidence of atrial fibrillation and left ventricular hypertrophy\":10,\"Shows evidence of atrial fibrillation and valve regurgitation\":11,\"Shows evidence of dilated cardiomyopathy\":12,\"Shows evidence of endocarditis\":13,\"Shows evidence of hypertrophic cardiomyopathy\":14,\"Shows evidence of left bundle branch block\":15,\"Shows evidence of left bundle branch block and left ventricular hypertrophy\":16,\"Shows evidence of left ventricular dysfunction and valve regurgitation\":17,\"Shows evidence of left ventricular hypertrophy\":18,\"Shows evidence of left ventricular hypertrophy and atrial fibrillation\":19,\"Shows evidence of left ventricular hypertrophy and left atrial enlargement\":20,\"Shows evidence of left ventricular hypertrophy and ST-segment depression\":21,\"Shows evidence of left ventricular hypertrophy and ST-segment elevation\":22,\"Shows evidence of mitral regurgitation\":23,\"Shows evidence of mitral regurgitation and atrial fibrillation\":24,\"Shows evidence of mitral stenosis\":25,\"Shows evidence of mitral valve regurgitation\":26,\"Shows evidence of pericarditis\":27,\"Shows evidence of pericarditis and atrial fibrillation\":28,\"Shows evidence of pericarditis and left atrial enlargement\":29,\"Shows evidence of pericarditis and left bundle branch block\":30,\"Shows evidence of pericarditis and left ventricular hypertrophy\":31,\"Shows evidence of pericarditis and right bundle branch block\":32,\"Shows evidence of pericarditis and right ventricular hypertrophy\":33,\"Shows evidence of pericarditis and sinus tachycardia\":34,\"Shows evidence of pericarditis and valve regurgitation\":35,\"Shows evidence of pulmonary stenosis\":36,\"Shows evidence of restrictive cardiomyopathy\":37,\"Shows evidence of right bundle branch block\":38,\"Shows evidence of right bundle branch block and left ventricular hypertrophy\":39,\"Shows evidence of ST-segment depression in leads II, III, and aVF\":40,\"Shows evidence of Takotsubo cardiomyopathy\":41,\"Shows evidence of tricuspid stenosis\":42,\"Shows evidence of tricuspid valve regurgitation\":43,\"Shows evidence of T-wave inversion in leads V1-V4\":44,\"Shows left bundle branch block\":45,\"Shows left ventricular hypertrophy\":46,\"Shows low voltage QRS consistent with pericarditis\":47,\"Shows sinus tachycardia\":48,\"Shows sinus tachycardia and diffuse ST elevation consistent with pericarditis\":49,\"Shows ST-segment elevation\":50}},inplace=True)\n",
    "df.replace({'Cardiac CT':{\"Shows a 100% dilation of the proximal aorta\":1,\"Shows a 110% dilation of the proximal aorta\":2,\"Shows a 120% dilation of the proximal aorta\":3,\"Shows a 130% dilation of the proximal aorta\":4,\"Shows a 25% dilation of the infrarenal aorta\":5,\"Shows a 30% dilation of the abdominal aorta\":6,\"Shows a 30% dilation of the infrarenal aorta\":7,\"Shows a 35% dilation of the infrarenal aorta\":8,\"Shows a 38% dilation of the infrarenal aorta\":9,\"Shows a 40% dilation of the abdominal aorta\":10,\"Shows a 40% dilation of the infrarenal aorta\":11,\"Shows a 40% dilation of the thoracic aorta\":12,\"Shows a 40% dilation of the thoracoabdominal aorta\":13,\"Shows a 42% dilation of the infrarenal aorta\":14,\"Shows a 45% dilation of the infrarenal aorta\":15,\"Shows a 45% dilation of the thoracic aorta\":16,\"Shows a 50% blockage in the left anterior descending coronary artery\":17,\"Shows a 50% dilation of the abdominal aorta\":18,\"Shows a 50% dilation of the proximal aorta\":19,\"Shows a 50% dilation of the thoracic aorta\":20,\"Shows a 50% dilation of the thoracoabdominal aorta\":21,\"Shows a 55% dilation of the proximal aorta\":22,\"Shows a 55% dilation of the thoracic aorta\":23,\"Shows a 60% blockage in the left main coronary artery\":24,\"Shows a 60% blockage in the right coronary artery\":25,\"Shows a 60% dilation of the abdominal aorta\":26,\"Shows a 60% dilation of the proximal aorta\":27,\"Shows a 60% dilation of the thoracic aorta\":28,\"Shows a 60% dilation of the thoracoabdominal aorta\":29,\"Shows a 65% dilation of the thoracic aorta\":30,\"Shows a 70% blockage in the left anterior descending coronary artery\":31,\"Shows a 70% blockage in the right coronary artery\":32,\"Shows a 70% dilation of the abdominal aorta\":33,\"Shows a 70% dilation of the proximal aorta\":34,\"Shows a 70% dilation of the thoracic aorta\":35,'Shows a 70% dilation of the thoracoabdominal aorta':36,\"Shows a 75% blockage in the left anterior descending coronary artery\":37,\"Shows a 75% dilation of the thoracic aorta\":38,\"Shows a 80% blockage in the left circumflex coronary artery\":39,\"Shows a 80% dilation of the proximal aorta\":40,\"Shows a 80% dilation of the thoracoabdominal aorta\":41,\"Shows a 80% dilation of the thoracoabdominal aorta\":42,\"Shows a 90% blockage in the right coronary artery\":43,\"Shows a 90% dilation of the proximal aorta\":44,\"Shows a 90% dilation of the thoracic aorta\":45,\"Shows a 90% dilation of the thoracoabdominal aorta\":46,\"Shows a mild dilatation in the left ventricle\":47,\"Shows a mild dysfunction of the left ventricle\":48,\"Shows a mild dysfunction of the right ventricle\":49,\"Shows a mild hypertrophy in the left ventricle\":50,\"Shows a mild regurgitation in the mitral valve\":51,\"Shows a mild restriction in the ventricular filling\":52,\"Shows a mild stenosis in the mitral valve\":53,\"Shows a mild stenosis in the pulmonary valve\":54,\"Shows a mild stenosis in the tricuspid valve\":55,\"Shows a moderate dilatation in the left ventricle\":56,\"Shows a moderate dysfunction of the left ventricle\":57,\"Shows a moderate dysfunction of the right ventricle\":58,\"Shows a moderate hypertrophy in the left ventricle\":59,\"Shows a moderate hypertrophy in the right ventricle\":60,\"Shows a moderate regurgitation in the mitral valve\":61,\"Shows a moderate restriction in the ventricular filling\":62,\"Shows a moderate stenosis in the aortic valve\":63,\"Shows a moderate stenosis in the mitral valve\":64,\"Shows a moderate stenosis in the pulmonary valve\":65,\"Shows a moderate stenosis in the tricuspid valve\":66,\"Shows a severe dilatation in the left ventricle\":67,\"Shows a severe dysfunction of the left ventricle\":68,\"Shows a severe dysfunction of the right ventricle\":69,\"Shows a severe hypertrophy in the left ventricle\":70,\"Shows a severe hypertrophy in the right ventricle\":71,\"Shows a severe regurgitation in the mitral valve\":72,\"Shows a severe restriction in the ventricular filling\":73,\"Shows a severe stenosis in the aortic valve\":74,\"Shows a severe stenosis in the mitral valve\":75,\"Shows a severe stenosis in the tricuspid valve\":76,\"Shows constrictive pericarditis\":77,\"Shows effusion in the pericardium\":78,\"Shows pericardial effusion and tamponade\":79,\"Shows pericarditis with myocarditis\":80,\"Shows thickening of the pericardium\":81}},inplace=True)\n",
    "df.replace({'Chest x-ray':{\"Shows hyperinflation and bronchial wall thickening\":1,\"Shows hyperinflation, bronchial wall thickening, and increased vascular markings\":2,\"Shows increased vascular markings and signs of chronic changes in the lungs\":3,\"Shows increased vascular markings and signs of lung restriction\":4,\"Shows increased vascular markings and small areas of consolidation in the lungs\":5,\"Shows increased vascular markings and small areas of fibrosis in the lungs\":6,\"Shows increased vascular markings in the lungs\":7,\"Shows increased vascular markings in the lungs, small areas of fibrosis, and signs of lung restriction\":8,\"Shows increased vascular markings, small areas of fibrosis and signs of lung restriction\":9,\"Shows increased vascular markings, small areas of fibrosis, and signs of chronic changes in the lungs\":10,\"Shows increased vascular markings, small areas of fibrosis, and signs of lung restriction\":11,\"Shows normal lung structures with no obvious abnormalities\":12}},inplace=True)\n",
    "df.replace({'Previous illnesses':{\"Aortic valve replacement surgery\":1,\"Mitral valve replacement surgery\":2,\"Recent chest surgery\":3,\"Recent viral infection\":4,\"Tricuspid valve replacement surgery\":5}},inplace=True)\n",
    "df.replace({'Pulmonary function tests':{\"Shows decreased lung capacity\":1,\"Shows decreased lung capacity and reduced diffusing capacity of the lung for carbon monoxide\":2,\"Shows decreased lung capacity, reduced diffusing capacity of the lung for carbon monoxide and decreased lung volumes\":3,\"Shows normal lung capacity\":4}},inplace=True)\n",
    "df.replace({'Spirometry':{\"Shows decreased lung function and increased airway resistance\":1}},inplace=True)\n",
    "df.replace({'Diagnosis':{'Coronary artery disease (CAD)':0, 'Mitral regurgitation':1, 'Mitral stenosis':2, 'Aortic stenosis':3, 'Tricuspid stenosis':4,'Pulmonary stenosis':5, 'Dilated cardiomyopathy':6, 'Hypertrophic cardiomyopathy':7, 'Restrictive cardiomyopathy':8,'Arrhythmogenic right ventricular cardiomyopathy':9, 'Takotsubo cardiomyopathy':10, 'Thoracic aortic aneurysm':11, 'Abdominal aortic aneurysm':12,'Proximal aortic aneurysm':13, 'Infrarenal aortic aneurysm':14, 'Thoracoabdominal aortic aneurysm':15, 'Acute pericarditis':16, 'Chronic pericarditis':17,'Constrictive pericarditis':18, 'Pericardial effusion with tamponade':19, 'Pericarditis with myocarditis':20, 'Acute native valve endocarditis':21,'Subacute native valve endocarditis':22, 'Infective endocarditis on prosthetic valve':23, 'Candidal endocarditis':24, 'Native valve endocarditis involving multiple valves':25,'Primary pulmonary hypertension':26, 'Secondary pulmonary hypertension due to COPD':27, 'Secondary pulmonary hypertension due to obesity and sleep apnea':28, 'Secondary pulmonary hypertension due to scleroderma':29,'Secondary pulmonary hypertension due to chronic thromboembolic disease':30}},inplace=True)\n",
    "\n",
    "\n",
    "df.tail(20)\n",
    "\n",
    "df.to_csv(r\"E:\\medical hackathon\\preprocessed_heart_training.csv\", index=False)"
   ]
  },
  {
   "cell_type": "code",
   "execution_count": 5,
   "id": "eec5475e",
   "metadata": {
    "scrolled": true
   },
   "outputs": [
    {
     "data": {
      "text/html": [
       "<div>\n",
       "<style scoped>\n",
       "    .dataframe tbody tr th:only-of-type {\n",
       "        vertical-align: middle;\n",
       "    }\n",
       "\n",
       "    .dataframe tbody tr th {\n",
       "        vertical-align: top;\n",
       "    }\n",
       "\n",
       "    .dataframe thead th {\n",
       "        text-align: right;\n",
       "    }\n",
       "</style>\n",
       "<table border=\"1\" class=\"dataframe\">\n",
       "  <thead>\n",
       "    <tr style=\"text-align: right;\">\n",
       "      <th></th>\n",
       "      <th>Name</th>\n",
       "      <th>Gender</th>\n",
       "      <th>Age</th>\n",
       "      <th>Chest pain</th>\n",
       "      <th>Shortness of breath</th>\n",
       "      <th>Fatigue</th>\n",
       "      <th>Systolic</th>\n",
       "      <th>Diastolic</th>\n",
       "      <th>Heart rate (bpm)</th>\n",
       "      <th>Lung sounds</th>\n",
       "      <th>...</th>\n",
       "      <th>Cardiac CT</th>\n",
       "      <th>Obesity</th>\n",
       "      <th>Murmur</th>\n",
       "      <th>Chest x-ray</th>\n",
       "      <th>Previous illnesses</th>\n",
       "      <th>Pulmonary function tests</th>\n",
       "      <th>Spirometry</th>\n",
       "      <th>Diagnosis</th>\n",
       "      <th>Medications</th>\n",
       "      <th>Treatment</th>\n",
       "    </tr>\n",
       "  </thead>\n",
       "  <tbody>\n",
       "    <tr>\n",
       "      <th>319</th>\n",
       "      <td>Sara Smith</td>\n",
       "      <td>1</td>\n",
       "      <td>60</td>\n",
       "      <td>1</td>\n",
       "      <td>1</td>\n",
       "      <td>1</td>\n",
       "      <td>130</td>\n",
       "      <td>80</td>\n",
       "      <td>120</td>\n",
       "      <td>1</td>\n",
       "      <td>...</td>\n",
       "      <td>0</td>\n",
       "      <td>0</td>\n",
       "      <td>0</td>\n",
       "      <td>0</td>\n",
       "      <td>1</td>\n",
       "      <td>0</td>\n",
       "      <td>0</td>\n",
       "      <td>23</td>\n",
       "      <td>Oxacillin, vancomycin</td>\n",
       "      <td>0</td>\n",
       "    </tr>\n",
       "    <tr>\n",
       "      <th>320</th>\n",
       "      <td>James Williams</td>\n",
       "      <td>0</td>\n",
       "      <td>65</td>\n",
       "      <td>1</td>\n",
       "      <td>1</td>\n",
       "      <td>1</td>\n",
       "      <td>130</td>\n",
       "      <td>80</td>\n",
       "      <td>110</td>\n",
       "      <td>1</td>\n",
       "      <td>...</td>\n",
       "      <td>0</td>\n",
       "      <td>0</td>\n",
       "      <td>0</td>\n",
       "      <td>0</td>\n",
       "      <td>2</td>\n",
       "      <td>0</td>\n",
       "      <td>0</td>\n",
       "      <td>23</td>\n",
       "      <td>Vancomycin, rifampin</td>\n",
       "      <td>0</td>\n",
       "    </tr>\n",
       "    <tr>\n",
       "      <th>321</th>\n",
       "      <td>David Thompson</td>\n",
       "      <td>0</td>\n",
       "      <td>60</td>\n",
       "      <td>1</td>\n",
       "      <td>1</td>\n",
       "      <td>1</td>\n",
       "      <td>140</td>\n",
       "      <td>90</td>\n",
       "      <td>120</td>\n",
       "      <td>1</td>\n",
       "      <td>...</td>\n",
       "      <td>0</td>\n",
       "      <td>0</td>\n",
       "      <td>0</td>\n",
       "      <td>0</td>\n",
       "      <td>1</td>\n",
       "      <td>0</td>\n",
       "      <td>0</td>\n",
       "      <td>23</td>\n",
       "      <td>Vancomycin, gentamicin</td>\n",
       "      <td>0</td>\n",
       "    </tr>\n",
       "    <tr>\n",
       "      <th>322</th>\n",
       "      <td>Kim Lee</td>\n",
       "      <td>1</td>\n",
       "      <td>55</td>\n",
       "      <td>1</td>\n",
       "      <td>1</td>\n",
       "      <td>1</td>\n",
       "      <td>130</td>\n",
       "      <td>80</td>\n",
       "      <td>100</td>\n",
       "      <td>1</td>\n",
       "      <td>...</td>\n",
       "      <td>0</td>\n",
       "      <td>0</td>\n",
       "      <td>0</td>\n",
       "      <td>0</td>\n",
       "      <td>2</td>\n",
       "      <td>0</td>\n",
       "      <td>0</td>\n",
       "      <td>23</td>\n",
       "      <td>Nafcillin, rifampin</td>\n",
       "      <td>0</td>\n",
       "    </tr>\n",
       "    <tr>\n",
       "      <th>323</th>\n",
       "      <td>Liam Thompson</td>\n",
       "      <td>0</td>\n",
       "      <td>50</td>\n",
       "      <td>1</td>\n",
       "      <td>1</td>\n",
       "      <td>1</td>\n",
       "      <td>130</td>\n",
       "      <td>80</td>\n",
       "      <td>110</td>\n",
       "      <td>1</td>\n",
       "      <td>...</td>\n",
       "      <td>0</td>\n",
       "      <td>0</td>\n",
       "      <td>0</td>\n",
       "      <td>0</td>\n",
       "      <td>1</td>\n",
       "      <td>0</td>\n",
       "      <td>0</td>\n",
       "      <td>23</td>\n",
       "      <td>Amoxicillin, gentamicin</td>\n",
       "      <td>0</td>\n",
       "    </tr>\n",
       "  </tbody>\n",
       "</table>\n",
       "<p>5 rows × 49 columns</p>\n",
       "</div>"
      ],
      "text/plain": [
       "               Name  Gender  Age  Chest pain  Shortness of breath  Fatigue  \\\n",
       "319      Sara Smith       1   60           1                    1        1   \n",
       "320  James Williams       0   65           1                    1        1   \n",
       "321  David Thompson       0   60           1                    1        1   \n",
       "322         Kim Lee       1   55           1                    1        1   \n",
       "323   Liam Thompson       0   50           1                    1        1   \n",
       "\n",
       "     Systolic  Diastolic  Heart rate (bpm)  Lung sounds  ...  Cardiac CT  \\\n",
       "319       130         80               120            1  ...           0   \n",
       "320       130         80               110            1  ...           0   \n",
       "321       140         90               120            1  ...           0   \n",
       "322       130         80               100            1  ...           0   \n",
       "323       130         80               110            1  ...           0   \n",
       "\n",
       "     Obesity  Murmur  Chest x-ray  Previous illnesses  \\\n",
       "319        0       0            0                   1   \n",
       "320        0       0            0                   2   \n",
       "321        0       0            0                   1   \n",
       "322        0       0            0                   2   \n",
       "323        0       0            0                   1   \n",
       "\n",
       "     Pulmonary function tests  Spirometry  Diagnosis              Medications  \\\n",
       "319                         0           0         23    Oxacillin, vancomycin   \n",
       "320                         0           0         23     Vancomycin, rifampin   \n",
       "321                         0           0         23   Vancomycin, gentamicin   \n",
       "322                         0           0         23      Nafcillin, rifampin   \n",
       "323                         0           0         23  Amoxicillin, gentamicin   \n",
       "\n",
       "     Treatment  \n",
       "319          0  \n",
       "320          0  \n",
       "321          0  \n",
       "322          0  \n",
       "323          0  \n",
       "\n",
       "[5 rows x 49 columns]"
      ]
     },
     "execution_count": 5,
     "metadata": {},
     "output_type": "execute_result"
    }
   ],
   "source": [
    "df.tail()"
   ]
  },
  {
   "cell_type": "code",
   "execution_count": 6,
   "id": "15cecfd5",
   "metadata": {},
   "outputs": [
    {
     "name": "stdout",
     "output_type": "stream",
     "text": [
      "<class 'pandas.core.frame.DataFrame'>\n",
      "RangeIndex: 324 entries, 0 to 323\n",
      "Data columns (total 49 columns):\n",
      " #   Column                                           Non-Null Count  Dtype \n",
      "---  ------                                           --------------  ----- \n",
      " 0   Name                                             324 non-null    object\n",
      " 1   Gender                                           324 non-null    int64 \n",
      " 2   Age                                              324 non-null    int64 \n",
      " 3   Chest pain                                       324 non-null    int64 \n",
      " 4   Shortness of breath                              324 non-null    int64 \n",
      " 5   Fatigue                                          324 non-null    int64 \n",
      " 6   Systolic                                         324 non-null    int64 \n",
      " 7   Diastolic                                        324 non-null    int64 \n",
      " 8   Heart rate (bpm)                                 324 non-null    int64 \n",
      " 9   Lung sounds                                      324 non-null    int64 \n",
      " 10  Cholesterol level (mg/dL)                        324 non-null    int64 \n",
      " 11  LDL level (mg/dL)                                324 non-null    int64 \n",
      " 12  HDL level (mg/dL)                                324 non-null    int64 \n",
      " 13  Diabetes                                         324 non-null    int64 \n",
      " 14  Atrial fibrillation                              324 non-null    int64 \n",
      " 15  Mitral valve prolapse                            324 non-null    int64 \n",
      " 16  Rheumatic fever                                  324 non-null    int64 \n",
      " 17  Mitral stenosis                                  324 non-null    int64 \n",
      " 18  Aortic stenosis                                  324 non-null    int64 \n",
      " 19  Tricuspid stenosis                               324 non-null    int64 \n",
      " 20  Pulmonary stenosis                               324 non-null    int64 \n",
      " 21  Dilated cardiomyopathy                           324 non-null    int64 \n",
      " 22  Hypertrophic cardiomyopathy                      324 non-null    int64 \n",
      " 23  Restrictive cardiomyopathy                       324 non-null    int64 \n",
      " 24  Arrhythmogenic right ventricular cardiomyopathy  324 non-null    int64 \n",
      " 25  Takotsubo cardiomyopathy                         324 non-null    int64 \n",
      " 26  Drug use                                         324 non-null    int64 \n",
      " 27  Fever                                            324 non-null    int64 \n",
      " 28  Chills                                           324 non-null    int64 \n",
      " 29  Joint pain                                       324 non-null    int64 \n",
      " 30  Alcoholism                                       324 non-null    int64 \n",
      " 31  Hypertension                                     324 non-null    int64 \n",
      " 32  Fainting                                         324 non-null    int64 \n",
      " 33  Dizziness                                        324 non-null    int64 \n",
      " 34  Smoking                                          324 non-null    int64 \n",
      " 35  High cholesterol                                 324 non-null    int64 \n",
      " 36  Echocardiogram                                   324 non-null    object\n",
      " 37  Blood culture                                    324 non-null    object\n",
      " 38  EKG                                              324 non-null    object\n",
      " 39  Cardiac CT                                       324 non-null    object\n",
      " 40  Obesity                                          324 non-null    int64 \n",
      " 41  Murmur                                           324 non-null    int64 \n",
      " 42  Chest x-ray                                      324 non-null    object\n",
      " 43  Previous illnesses                               324 non-null    object\n",
      " 44  Pulmonary function tests                         324 non-null    object\n",
      " 45  Spirometry                                       324 non-null    object\n",
      " 46  Diagnosis                                        324 non-null    int64 \n",
      " 47  Medications                                      324 non-null    object\n",
      " 48  Treatment                                        324 non-null    object\n",
      "dtypes: int64(38), object(11)\n",
      "memory usage: 124.2+ KB\n"
     ]
    }
   ],
   "source": [
    "df.info()"
   ]
  },
  {
   "cell_type": "markdown",
   "id": "72ab4900",
   "metadata": {},
   "source": [
    "### Checking for null values"
   ]
  },
  {
   "cell_type": "code",
   "execution_count": 1,
   "id": "471ba60f",
   "metadata": {},
   "outputs": [
    {
     "ename": "NameError",
     "evalue": "name 'df' is not defined",
     "output_type": "error",
     "traceback": [
      "\u001b[1;31m---------------------------------------------------------------------------\u001b[0m",
      "\u001b[1;31mNameError\u001b[0m                                 Traceback (most recent call last)",
      "\u001b[1;32m~\\AppData\\Local\\Temp/ipykernel_22548/286341606.py\u001b[0m in \u001b[0;36m<module>\u001b[1;34m\u001b[0m\n\u001b[1;32m----> 1\u001b[1;33m \u001b[0mdf\u001b[0m\u001b[1;33m.\u001b[0m\u001b[0misnull\u001b[0m\u001b[1;33m(\u001b[0m\u001b[1;33m)\u001b[0m\u001b[1;33m.\u001b[0m\u001b[0msum\u001b[0m\u001b[1;33m(\u001b[0m\u001b[1;33m)\u001b[0m\u001b[1;33m\u001b[0m\u001b[1;33m\u001b[0m\u001b[0m\n\u001b[0m",
      "\u001b[1;31mNameError\u001b[0m: name 'df' is not defined"
     ]
    }
   ],
   "source": [
    "df.isnull().sum()"
   ]
  },
  {
   "cell_type": "markdown",
   "id": "5c6ab28f",
   "metadata": {},
   "source": [
    "### Counting the number of datas for different Diagnosis"
   ]
  },
  {
   "cell_type": "code",
   "execution_count": 8,
   "id": "423675bb",
   "metadata": {},
   "outputs": [
    {
     "data": {
      "text/plain": [
       "30    12\n",
       "21    12\n",
       "29    12\n",
       "24    12\n",
       "20    12\n",
       "22    12\n",
       "19    11\n",
       "14    11\n",
       "13    11\n",
       "12    11\n",
       "23    11\n",
       "17    11\n",
       "25    11\n",
       "26    11\n",
       "27    11\n",
       "28    11\n",
       "16    11\n",
       "0     10\n",
       "1     10\n",
       "11    10\n",
       "10    10\n",
       "9     10\n",
       "8     10\n",
       "7     10\n",
       "6     10\n",
       "5     10\n",
       "4     10\n",
       "3     10\n",
       "2     10\n",
       "15    10\n",
       "18     1\n",
       "Name: Diagnosis, dtype: int64"
      ]
     },
     "execution_count": 8,
     "metadata": {},
     "output_type": "execute_result"
    }
   ],
   "source": [
    "df['Diagnosis'].value_counts()"
   ]
  },
  {
   "cell_type": "markdown",
   "id": "d770204c",
   "metadata": {},
   "source": [
    "### Splitting the input and target values"
   ]
  },
  {
   "cell_type": "code",
   "execution_count": 9,
   "id": "893534d4",
   "metadata": {},
   "outputs": [],
   "source": [
    "# iloc: takes interger values of [rows, columns]\n",
    "X = df.iloc[:, 1:46]\n",
    "\n",
    "# taking second last column\n",
    "y = df.iloc[:, -3]"
   ]
  },
  {
   "cell_type": "code",
   "execution_count": 10,
   "id": "aa6a83b2",
   "metadata": {},
   "outputs": [
    {
     "data": {
      "text/html": [
       "<div>\n",
       "<style scoped>\n",
       "    .dataframe tbody tr th:only-of-type {\n",
       "        vertical-align: middle;\n",
       "    }\n",
       "\n",
       "    .dataframe tbody tr th {\n",
       "        vertical-align: top;\n",
       "    }\n",
       "\n",
       "    .dataframe thead th {\n",
       "        text-align: right;\n",
       "    }\n",
       "</style>\n",
       "<table border=\"1\" class=\"dataframe\">\n",
       "  <thead>\n",
       "    <tr style=\"text-align: right;\">\n",
       "      <th></th>\n",
       "      <th>Gender</th>\n",
       "      <th>Age</th>\n",
       "      <th>Chest pain</th>\n",
       "      <th>Shortness of breath</th>\n",
       "      <th>Fatigue</th>\n",
       "      <th>Systolic</th>\n",
       "      <th>Diastolic</th>\n",
       "      <th>Heart rate (bpm)</th>\n",
       "      <th>Lung sounds</th>\n",
       "      <th>Cholesterol level (mg/dL)</th>\n",
       "      <th>...</th>\n",
       "      <th>Echocardiogram</th>\n",
       "      <th>Blood culture</th>\n",
       "      <th>EKG</th>\n",
       "      <th>Cardiac CT</th>\n",
       "      <th>Obesity</th>\n",
       "      <th>Murmur</th>\n",
       "      <th>Chest x-ray</th>\n",
       "      <th>Previous illnesses</th>\n",
       "      <th>Pulmonary function tests</th>\n",
       "      <th>Spirometry</th>\n",
       "    </tr>\n",
       "  </thead>\n",
       "  <tbody>\n",
       "    <tr>\n",
       "      <th>0</th>\n",
       "      <td>1</td>\n",
       "      <td>55</td>\n",
       "      <td>1</td>\n",
       "      <td>1</td>\n",
       "      <td>1</td>\n",
       "      <td>140</td>\n",
       "      <td>90</td>\n",
       "      <td>100</td>\n",
       "      <td>1</td>\n",
       "      <td>220</td>\n",
       "      <td>...</td>\n",
       "      <td>0</td>\n",
       "      <td>0</td>\n",
       "      <td>18</td>\n",
       "      <td>17</td>\n",
       "      <td>0</td>\n",
       "      <td>1</td>\n",
       "      <td>0</td>\n",
       "      <td>0</td>\n",
       "      <td>0</td>\n",
       "      <td>0</td>\n",
       "    </tr>\n",
       "    <tr>\n",
       "      <th>1</th>\n",
       "      <td>0</td>\n",
       "      <td>57</td>\n",
       "      <td>1</td>\n",
       "      <td>1</td>\n",
       "      <td>1</td>\n",
       "      <td>150</td>\n",
       "      <td>80</td>\n",
       "      <td>110</td>\n",
       "      <td>1</td>\n",
       "      <td>210</td>\n",
       "      <td>...</td>\n",
       "      <td>0</td>\n",
       "      <td>0</td>\n",
       "      <td>18</td>\n",
       "      <td>25</td>\n",
       "      <td>0</td>\n",
       "      <td>1</td>\n",
       "      <td>0</td>\n",
       "      <td>0</td>\n",
       "      <td>0</td>\n",
       "      <td>0</td>\n",
       "    </tr>\n",
       "    <tr>\n",
       "      <th>2</th>\n",
       "      <td>1</td>\n",
       "      <td>60</td>\n",
       "      <td>1</td>\n",
       "      <td>1</td>\n",
       "      <td>1</td>\n",
       "      <td>130</td>\n",
       "      <td>85</td>\n",
       "      <td>95</td>\n",
       "      <td>1</td>\n",
       "      <td>230</td>\n",
       "      <td>...</td>\n",
       "      <td>0</td>\n",
       "      <td>0</td>\n",
       "      <td>18</td>\n",
       "      <td>37</td>\n",
       "      <td>0</td>\n",
       "      <td>1</td>\n",
       "      <td>0</td>\n",
       "      <td>0</td>\n",
       "      <td>0</td>\n",
       "      <td>0</td>\n",
       "    </tr>\n",
       "    <tr>\n",
       "      <th>3</th>\n",
       "      <td>0</td>\n",
       "      <td>62</td>\n",
       "      <td>1</td>\n",
       "      <td>1</td>\n",
       "      <td>1</td>\n",
       "      <td>145</td>\n",
       "      <td>90</td>\n",
       "      <td>100</td>\n",
       "      <td>1</td>\n",
       "      <td>240</td>\n",
       "      <td>...</td>\n",
       "      <td>0</td>\n",
       "      <td>0</td>\n",
       "      <td>18</td>\n",
       "      <td>39</td>\n",
       "      <td>0</td>\n",
       "      <td>1</td>\n",
       "      <td>0</td>\n",
       "      <td>0</td>\n",
       "      <td>0</td>\n",
       "      <td>0</td>\n",
       "    </tr>\n",
       "    <tr>\n",
       "      <th>4</th>\n",
       "      <td>1</td>\n",
       "      <td>58</td>\n",
       "      <td>1</td>\n",
       "      <td>1</td>\n",
       "      <td>1</td>\n",
       "      <td>135</td>\n",
       "      <td>80</td>\n",
       "      <td>105</td>\n",
       "      <td>1</td>\n",
       "      <td>220</td>\n",
       "      <td>...</td>\n",
       "      <td>0</td>\n",
       "      <td>0</td>\n",
       "      <td>18</td>\n",
       "      <td>43</td>\n",
       "      <td>0</td>\n",
       "      <td>1</td>\n",
       "      <td>0</td>\n",
       "      <td>0</td>\n",
       "      <td>0</td>\n",
       "      <td>0</td>\n",
       "    </tr>\n",
       "  </tbody>\n",
       "</table>\n",
       "<p>5 rows × 45 columns</p>\n",
       "</div>"
      ],
      "text/plain": [
       "   Gender  Age  Chest pain  Shortness of breath  Fatigue  Systolic  Diastolic  \\\n",
       "0       1   55           1                    1        1       140         90   \n",
       "1       0   57           1                    1        1       150         80   \n",
       "2       1   60           1                    1        1       130         85   \n",
       "3       0   62           1                    1        1       145         90   \n",
       "4       1   58           1                    1        1       135         80   \n",
       "\n",
       "   Heart rate (bpm)  Lung sounds  Cholesterol level (mg/dL)  ...  \\\n",
       "0               100            1                        220  ...   \n",
       "1               110            1                        210  ...   \n",
       "2                95            1                        230  ...   \n",
       "3               100            1                        240  ...   \n",
       "4               105            1                        220  ...   \n",
       "\n",
       "   Echocardiogram  Blood culture  EKG  Cardiac CT  Obesity  Murmur  \\\n",
       "0               0              0   18          17        0       1   \n",
       "1               0              0   18          25        0       1   \n",
       "2               0              0   18          37        0       1   \n",
       "3               0              0   18          39        0       1   \n",
       "4               0              0   18          43        0       1   \n",
       "\n",
       "   Chest x-ray  Previous illnesses  Pulmonary function tests  Spirometry  \n",
       "0            0                   0                         0           0  \n",
       "1            0                   0                         0           0  \n",
       "2            0                   0                         0           0  \n",
       "3            0                   0                         0           0  \n",
       "4            0                   0                         0           0  \n",
       "\n",
       "[5 rows x 45 columns]"
      ]
     },
     "execution_count": 10,
     "metadata": {},
     "output_type": "execute_result"
    }
   ],
   "source": [
    "X.head()"
   ]
  },
  {
   "cell_type": "code",
   "execution_count": 11,
   "id": "105f2cca",
   "metadata": {},
   "outputs": [
    {
     "data": {
      "text/plain": [
       "319    23\n",
       "320    23\n",
       "321    23\n",
       "322    23\n",
       "323    23\n",
       "Name: Diagnosis, dtype: int64"
      ]
     },
     "execution_count": 11,
     "metadata": {},
     "output_type": "execute_result"
    }
   ],
   "source": [
    "y.tail()"
   ]
  },
  {
   "cell_type": "code",
   "execution_count": 12,
   "id": "b4bca405",
   "metadata": {},
   "outputs": [
    {
     "data": {
      "text/plain": [
       "(324, 45)"
      ]
     },
     "execution_count": 12,
     "metadata": {},
     "output_type": "execute_result"
    }
   ],
   "source": [
    "X.shape"
   ]
  },
  {
   "cell_type": "code",
   "execution_count": 13,
   "id": "bb4a74ba",
   "metadata": {},
   "outputs": [
    {
     "data": {
      "text/plain": [
       "(324,)"
      ]
     },
     "execution_count": 13,
     "metadata": {},
     "output_type": "execute_result"
    }
   ],
   "source": [
    "y.shape"
   ]
  },
  {
   "cell_type": "markdown",
   "id": "d27e4dd7",
   "metadata": {},
   "source": [
    "### Splitting the data for train and test"
   ]
  },
  {
   "cell_type": "code",
   "execution_count": 15,
   "id": "6e6b45b6",
   "metadata": {},
   "outputs": [],
   "source": [
    "X_train, X_test, y_train, y_test = train_test_split(X, y, random_state=42, test_size = 0.2)"
   ]
  },
  {
   "cell_type": "markdown",
   "id": "cbebfa78",
   "metadata": {},
   "source": [
    "### Use of Random Forest Classifier"
   ]
  },
  {
   "cell_type": "code",
   "execution_count": 16,
   "id": "0b21e7a4",
   "metadata": {},
   "outputs": [],
   "source": [
    "ranforcls = RandomForestClassifier(criterion = \"gini\", max_depth= 8, min_samples_split = 10, random_state = 42)"
   ]
  },
  {
   "cell_type": "code",
   "execution_count": 17,
   "id": "5bc949e1",
   "metadata": {},
   "outputs": [
    {
     "data": {
      "text/plain": [
       "RandomForestClassifier(max_depth=8, min_samples_split=10, random_state=42)"
      ]
     },
     "execution_count": 17,
     "metadata": {},
     "output_type": "execute_result"
    }
   ],
   "source": [
    "ranforcls.fit(X_train, y_train)"
   ]
  },
  {
   "cell_type": "code",
   "execution_count": 18,
   "id": "2a1e73ed",
   "metadata": {},
   "outputs": [
    {
     "data": {
      "text/plain": [
       "array([0.00532475, 0.02853656, 0.00821836, 0.00735914, 0.00229527,\n",
       "       0.02506136, 0.02247648, 0.03188225, 0.01134624, 0.01068276,\n",
       "       0.01674867, 0.0161074 , 0.        , 0.00025349, 0.03531597,\n",
       "       0.01120234, 0.03142945, 0.03323848, 0.01903755, 0.03116609,\n",
       "       0.02171223, 0.01131233, 0.0313418 , 0.02163877, 0.01068411,\n",
       "       0.00264593, 0.034891  , 0.02364096, 0.01223986, 0.        ,\n",
       "       0.01120432, 0.01724633, 0.02171574, 0.01506019, 0.0040509 ,\n",
       "       0.04854765, 0.05468491, 0.06143009, 0.06248691, 0.0129784 ,\n",
       "       0.02396414, 0.04870039, 0.03022878, 0.04352512, 0.0263865 ])"
      ]
     },
     "execution_count": 18,
     "metadata": {},
     "output_type": "execute_result"
    }
   ],
   "source": [
    "ranforcls.feature_importances_"
   ]
  },
  {
   "cell_type": "code",
   "execution_count": 19,
   "id": "150a927a",
   "metadata": {},
   "outputs": [
    {
     "data": {
      "text/plain": [
       "Index(['Gender', 'Age', 'Chest pain', 'Shortness of breath', 'Fatigue',\n",
       "       'Systolic', 'Diastolic', 'Heart rate (bpm)', 'Lung sounds',\n",
       "       'Cholesterol level (mg/dL)', 'LDL level (mg/dL)', 'HDL level (mg/dL)',\n",
       "       'Diabetes', 'Atrial fibrillation', 'Mitral valve prolapse',\n",
       "       'Rheumatic fever', 'Mitral stenosis', 'Aortic stenosis',\n",
       "       'Tricuspid stenosis', 'Pulmonary stenosis', 'Dilated cardiomyopathy',\n",
       "       'Hypertrophic cardiomyopathy', 'Restrictive cardiomyopathy',\n",
       "       'Arrhythmogenic right ventricular cardiomyopathy',\n",
       "       'Takotsubo cardiomyopathy', 'Drug use', 'Fever', 'Chills', 'Joint pain',\n",
       "       'Alcoholism', 'Hypertension', 'Fainting', 'Dizziness', 'Smoking',\n",
       "       'High cholesterol', 'Echocardiogram', 'Blood culture', 'EKG',\n",
       "       'Cardiac CT', 'Obesity', 'Murmur', 'Chest x-ray', 'Previous illnesses',\n",
       "       'Pulmonary function tests', 'Spirometry'],\n",
       "      dtype='object')"
      ]
     },
     "execution_count": 19,
     "metadata": {},
     "output_type": "execute_result"
    }
   ],
   "source": [
    "X.columns"
   ]
  },
  {
   "cell_type": "code",
   "execution_count": 20,
   "id": "e653a70b",
   "metadata": {},
   "outputs": [],
   "source": [
    "y_pred = ranforcls.predict(X_test)"
   ]
  },
  {
   "cell_type": "code",
   "execution_count": 21,
   "id": "4bc97d81",
   "metadata": {},
   "outputs": [
    {
     "data": {
      "text/plain": [
       "array([13, 10, 13, 13, 20, 12, 24, 21, 28, 15, 20, 19, 22, 12, 20, 14, 16,\n",
       "       13,  2, 13, 14, 29,  4,  8,  9, 16, 22,  7,  6, 23,  9, 22, 27, 19,\n",
       "       19, 19,  5,  3, 10,  2, 20,  4, 14, 27,  4, 17, 19, 29,  5,  1,  7,\n",
       "       10, 14,  7,  7, 30, 28, 26, 13, 15, 10, 25,  6,  9, 28],\n",
       "      dtype=int64)"
      ]
     },
     "execution_count": 21,
     "metadata": {},
     "output_type": "execute_result"
    }
   ],
   "source": [
    "y_pred"
   ]
  },
  {
   "cell_type": "code",
   "execution_count": 23,
   "id": "96f0fc34",
   "metadata": {},
   "outputs": [
    {
     "data": {
      "text/plain": [
       "132    13\n",
       "108    10\n",
       "137    13\n",
       "9       0\n",
       "180    20\n",
       "       ..\n",
       "104    10\n",
       "231    25\n",
       "60      6\n",
       "94      9\n",
       "265    28\n",
       "Name: Diagnosis, Length: 65, dtype: int64"
      ]
     },
     "execution_count": 23,
     "metadata": {},
     "output_type": "execute_result"
    }
   ],
   "source": [
    "y_test"
   ]
  },
  {
   "cell_type": "markdown",
   "id": "7cea2caf",
   "metadata": {},
   "source": [
    "### Checking the accuracy of our model"
   ]
  },
  {
   "cell_type": "code",
   "execution_count": 24,
   "id": "62c11c76",
   "metadata": {},
   "outputs": [
    {
     "data": {
      "text/plain": [
       "0.7846153846153846"
      ]
     },
     "execution_count": 24,
     "metadata": {},
     "output_type": "execute_result"
    }
   ],
   "source": [
    "accuracy_score(y_test, y_pred)"
   ]
  },
  {
   "cell_type": "markdown",
   "id": "be0be85e",
   "metadata": {},
   "source": [
    "### Checking the accuracy of each folds of the model ( 6 different folds )"
   ]
  },
  {
   "cell_type": "code",
   "execution_count": 25,
   "id": "6fc53c99",
   "metadata": {},
   "outputs": [],
   "source": [
    "kf = KFold(n_splits = 6, shuffle= True, random_state=42)\n",
    "\n",
    "cv_scores = cross_val_score(ranforcls, X_train, y_train, cv=kf)"
   ]
  },
  {
   "cell_type": "code",
   "execution_count": 26,
   "id": "88b7a27e",
   "metadata": {},
   "outputs": [
    {
     "data": {
      "text/plain": [
       "array([0.84090909, 0.62790698, 0.69767442, 0.69767442, 0.76744186,\n",
       "       0.76744186])"
      ]
     },
     "execution_count": 26,
     "metadata": {},
     "output_type": "execute_result"
    }
   ],
   "source": [
    "cv_scores"
   ]
  },
  {
   "cell_type": "markdown",
   "id": "d9dbe832",
   "metadata": {},
   "source": [
    "### Testing of model by feeding new inputs"
   ]
  },
  {
   "cell_type": "code",
   "execution_count": 36,
   "id": "d3315f03",
   "metadata": {},
   "outputs": [],
   "source": [
    "input_sample=(1,55,1,1,1,140,90,100,1,220,150,40,0,0,0,0,0,0,0,0,0,0,0,0,0,0,0,0,0,0,1,0,0,1,1,0,0,18,17,0,1,0,0,0,0)\n",
    "input_np_array=np.asarray(input_sample)"
   ]
  },
  {
   "cell_type": "code",
   "execution_count": 37,
   "id": "31394d65",
   "metadata": {},
   "outputs": [
    {
     "data": {
      "text/plain": [
       "Index(['Gender', 'Age', 'Chest pain', 'Shortness of breath', 'Fatigue',\n",
       "       'Systolic', 'Diastolic', 'Heart rate (bpm)', 'Lung sounds',\n",
       "       'Cholesterol level (mg/dL)', 'LDL level (mg/dL)', 'HDL level (mg/dL)',\n",
       "       'Diabetes', 'Atrial fibrillation', 'Mitral valve prolapse',\n",
       "       'Rheumatic fever', 'Mitral stenosis', 'Aortic stenosis',\n",
       "       'Tricuspid stenosis', 'Pulmonary stenosis', 'Dilated cardiomyopathy',\n",
       "       'Hypertrophic cardiomyopathy', 'Restrictive cardiomyopathy',\n",
       "       'Arrhythmogenic right ventricular cardiomyopathy',\n",
       "       'Takotsubo cardiomyopathy', 'Drug use', 'Fever', 'Chills', 'Joint pain',\n",
       "       'Alcoholism', 'Hypertension', 'Fainting', 'Dizziness', 'Smoking',\n",
       "       'High cholesterol', 'Echocardiogram', 'Blood culture', 'EKG',\n",
       "       'Cardiac CT', 'Obesity', 'Murmur', 'Chest x-ray', 'Previous illnesses',\n",
       "       'Pulmonary function tests', 'Spirometry'],\n",
       "      dtype='object')"
      ]
     },
     "execution_count": 37,
     "metadata": {},
     "output_type": "execute_result"
    }
   ],
   "source": [
    "X.columns"
   ]
  },
  {
   "cell_type": "code",
   "execution_count": 38,
   "id": "53c0b5a9",
   "metadata": {},
   "outputs": [],
   "source": [
    "input_reshape=input_np_array.reshape(1,-1)"
   ]
  },
  {
   "cell_type": "code",
   "execution_count": 39,
   "id": "bcde5384",
   "metadata": {},
   "outputs": [
    {
     "data": {
      "text/plain": [
       "array([[  1,  55,   1,   1,   1, 140,  90, 100,   1, 220, 150,  40,   0,\n",
       "          0,   0,   0,   0,   0,   0,   0,   0,   0,   0,   0,   0,   0,\n",
       "          0,   0,   0,   0,   1,   0,   0,   1,   1,   0,   0,  18,  17,\n",
       "          0,   1,   0,   0,   0,   0]])"
      ]
     },
     "execution_count": 39,
     "metadata": {},
     "output_type": "execute_result"
    }
   ],
   "source": [
    "input_reshape"
   ]
  },
  {
   "cell_type": "code",
   "execution_count": 40,
   "id": "4ef5a55c",
   "metadata": {},
   "outputs": [
    {
     "name": "stderr",
     "output_type": "stream",
     "text": [
      "c:\\users\\acer\\appdata\\local\\programs\\python\\python38\\lib\\site-packages\\sklearn\\base.py:445: UserWarning: X does not have valid feature names, but RandomForestClassifier was fitted with feature names\n",
      "  warnings.warn(\n"
     ]
    },
    {
     "data": {
      "text/plain": [
       "array([0], dtype=int64)"
      ]
     },
     "execution_count": 40,
     "metadata": {},
     "output_type": "execute_result"
    }
   ],
   "source": [
    "prediction = ranforcls.predict(input_reshape)\n",
    "prediction"
   ]
  },
  {
   "cell_type": "code",
   "execution_count": 41,
   "id": "a50d96ef",
   "metadata": {},
   "outputs": [
    {
     "data": {
      "text/plain": [
       "array([0])"
      ]
     },
     "execution_count": 41,
     "metadata": {},
     "output_type": "execute_result"
    }
   ],
   "source": [
    "result = prediction.astype(int)\n",
    "result"
   ]
  },
  {
   "cell_type": "code",
   "execution_count": 42,
   "id": "a44f5b0b",
   "metadata": {},
   "outputs": [
    {
     "data": {
      "text/html": [
       "<div>\n",
       "<style scoped>\n",
       "    .dataframe tbody tr th:only-of-type {\n",
       "        vertical-align: middle;\n",
       "    }\n",
       "\n",
       "    .dataframe tbody tr th {\n",
       "        vertical-align: top;\n",
       "    }\n",
       "\n",
       "    .dataframe thead th {\n",
       "        text-align: right;\n",
       "    }\n",
       "</style>\n",
       "<table border=\"1\" class=\"dataframe\">\n",
       "  <thead>\n",
       "    <tr style=\"text-align: right;\">\n",
       "      <th></th>\n",
       "      <th>Coronary artery disease (CAD)</th>\n",
       "      <th>Mitral regurgitation</th>\n",
       "      <th>Mitral stenosis</th>\n",
       "      <th>Aortic stenosis</th>\n",
       "      <th>Tricuspid stenosis</th>\n",
       "      <th>Pulmonary stenosis</th>\n",
       "      <th>Dilated cardiomyopathy</th>\n",
       "      <th>Hypertrophic cardiomyopathy</th>\n",
       "      <th>Restrictive cardiomyopathy</th>\n",
       "      <th>Arrhythmogenic right ventricular cardiomyopathy</th>\n",
       "      <th>...</th>\n",
       "      <th>Acute native valve endocarditis</th>\n",
       "      <th>Subacute native valve endocarditis</th>\n",
       "      <th>Infective endocarditis on prosthetic valve</th>\n",
       "      <th>Candidal endocarditis</th>\n",
       "      <th>Native valve endocarditis involving multiple valves</th>\n",
       "      <th>Primary pulmonary hypertension</th>\n",
       "      <th>Secondary pulmonary hypertension due to COPD</th>\n",
       "      <th>Secondary pulmonary hypertension due to obesity and sleep apnea</th>\n",
       "      <th>Secondary pulmonary hypertension due to scleroderma</th>\n",
       "      <th>Secondary pulmonary hypertension due to chronic thromboembolic disease</th>\n",
       "    </tr>\n",
       "  </thead>\n",
       "  <tbody>\n",
       "    <tr>\n",
       "      <th>0</th>\n",
       "      <td>0</td>\n",
       "      <td>1</td>\n",
       "      <td>2</td>\n",
       "      <td>3</td>\n",
       "      <td>4</td>\n",
       "      <td>5</td>\n",
       "      <td>6</td>\n",
       "      <td>7</td>\n",
       "      <td>8</td>\n",
       "      <td>9</td>\n",
       "      <td>...</td>\n",
       "      <td>21</td>\n",
       "      <td>22</td>\n",
       "      <td>23</td>\n",
       "      <td>24</td>\n",
       "      <td>25</td>\n",
       "      <td>26</td>\n",
       "      <td>27</td>\n",
       "      <td>28</td>\n",
       "      <td>29</td>\n",
       "      <td>30</td>\n",
       "    </tr>\n",
       "  </tbody>\n",
       "</table>\n",
       "<p>1 rows × 31 columns</p>\n",
       "</div>"
      ],
      "text/plain": [
       "   Coronary artery disease (CAD)  Mitral regurgitation  Mitral stenosis  \\\n",
       "0                              0                     1                2   \n",
       "\n",
       "   Aortic stenosis  Tricuspid stenosis  Pulmonary stenosis  \\\n",
       "0                3                   4                   5   \n",
       "\n",
       "   Dilated cardiomyopathy  Hypertrophic cardiomyopathy  \\\n",
       "0                       6                            7   \n",
       "\n",
       "   Restrictive cardiomyopathy  \\\n",
       "0                           8   \n",
       "\n",
       "   Arrhythmogenic right ventricular cardiomyopathy  ...  \\\n",
       "0                                                9  ...   \n",
       "\n",
       "   Acute native valve endocarditis  Subacute native valve endocarditis  \\\n",
       "0                               21                                  22   \n",
       "\n",
       "   Infective endocarditis on prosthetic valve  Candidal endocarditis  \\\n",
       "0                                          23                     24   \n",
       "\n",
       "   Native valve endocarditis involving multiple valves  \\\n",
       "0                                                 25     \n",
       "\n",
       "   Primary pulmonary hypertension  \\\n",
       "0                              26   \n",
       "\n",
       "   Secondary pulmonary hypertension due to COPD  \\\n",
       "0                                            27   \n",
       "\n",
       "   Secondary pulmonary hypertension due to obesity and sleep apnea  \\\n",
       "0                                                 28                 \n",
       "\n",
       "   Secondary pulmonary hypertension due to scleroderma  \\\n",
       "0                                                 29     \n",
       "\n",
       "   Secondary pulmonary hypertension due to chronic thromboembolic disease  \n",
       "0                                                 30                       \n",
       "\n",
       "[1 rows x 31 columns]"
      ]
     },
     "execution_count": 42,
     "metadata": {},
     "output_type": "execute_result"
    }
   ],
   "source": [
    "df1=pd.read_csv(r\"E:\\medical hackathon\\Dignosis.csv\")\n",
    "df1"
   ]
  },
  {
   "cell_type": "code",
   "execution_count": 43,
   "id": "5bed5c1a",
   "metadata": {},
   "outputs": [
    {
     "name": "stdout",
     "output_type": "stream",
     "text": [
      "Person is suffering from Coronary artery disease (CAD)\n"
     ]
    }
   ],
   "source": [
    "print(\"Person is suffering from\", df1.iloc[:,prediction.astype(int)].columns[0])"
   ]
  },
  {
   "cell_type": "code",
   "execution_count": null,
   "id": "6f2f7660",
   "metadata": {},
   "outputs": [],
   "source": []
  }
 ],
 "metadata": {
  "kernelspec": {
   "display_name": "Python 3 (ipykernel)",
   "language": "python",
   "name": "python3"
  },
  "language_info": {
   "codemirror_mode": {
    "name": "ipython",
    "version": 3
   },
   "file_extension": ".py",
   "mimetype": "text/x-python",
   "name": "python",
   "nbconvert_exporter": "python",
   "pygments_lexer": "ipython3",
   "version": "3.8.0"
  }
 },
 "nbformat": 4,
 "nbformat_minor": 5
}
