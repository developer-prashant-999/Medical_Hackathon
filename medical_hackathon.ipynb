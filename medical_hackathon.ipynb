{
 "cells": [
  {
   "cell_type": "markdown",
   "id": "4131aa59",
   "metadata": {},
   "source": [
    "# Heart Disease Detection using Critical Data (HDDCD)"
   ]
  },
  {
   "cell_type": "markdown",
   "id": "8c6d60da",
   "metadata": {},
   "source": [
    "### Importing packages"
   ]
  },
  {
   "cell_type": "code",
   "execution_count": 1,
   "id": "048bab02",
   "metadata": {},
   "outputs": [],
   "source": [
    "import pandas as pd\n",
    "import numpy as np\n",
    "import matplotlib.pyplot as plt\n",
    "from sklearn.model_selection import train_test_split\n",
    "from sklearn.ensemble import RandomForestClassifier\n",
    "from sklearn.metrics import accuracy_score\n",
    "from sklearn.model_selection import cross_val_score, KFold"
   ]
  },
  {
   "cell_type": "markdown",
   "id": "fd0006f6",
   "metadata": {},
   "source": [
    "### Reading dataset"
   ]
  },
  {
   "cell_type": "code",
   "execution_count": 2,
   "id": "0e23d2d0",
   "metadata": {},
   "outputs": [],
   "source": [
    "train_data = pd.read_csv(r\"E:\\medical hackathon\\medical hackathon files\\Medical_Hackathon\\Dataset\\heart_disease_train_Data.csv\")\n",
    "test_data =pd.read_csv(r\"E:\\medical hackathon\\medical hackathon files\\Medical_Hackathon\\Dataset\\heart_disease_test_Data.csv\")"
   ]
  },
  {
   "cell_type": "code",
   "execution_count": 3,
   "id": "ebf626ec",
   "metadata": {},
   "outputs": [
    {
     "data": {
      "text/html": [
       "<div>\n",
       "<style scoped>\n",
       "    .dataframe tbody tr th:only-of-type {\n",
       "        vertical-align: middle;\n",
       "    }\n",
       "\n",
       "    .dataframe tbody tr th {\n",
       "        vertical-align: top;\n",
       "    }\n",
       "\n",
       "    .dataframe thead th {\n",
       "        text-align: right;\n",
       "    }\n",
       "</style>\n",
       "<table border=\"1\" class=\"dataframe\">\n",
       "  <thead>\n",
       "    <tr style=\"text-align: right;\">\n",
       "      <th></th>\n",
       "      <th>Name</th>\n",
       "      <th>Gender</th>\n",
       "      <th>Age</th>\n",
       "      <th>Chest pain</th>\n",
       "      <th>Shortness of breath</th>\n",
       "      <th>Fatigue</th>\n",
       "      <th>Systolic</th>\n",
       "      <th>Diastolic</th>\n",
       "      <th>Heart rate (bpm)</th>\n",
       "      <th>Lung sounds</th>\n",
       "      <th>...</th>\n",
       "      <th>Cardiac CT</th>\n",
       "      <th>Obesity</th>\n",
       "      <th>Murmur</th>\n",
       "      <th>Chest x-ray</th>\n",
       "      <th>Previous illnesses</th>\n",
       "      <th>Pulmonary function tests</th>\n",
       "      <th>Spirometry</th>\n",
       "      <th>Diagnosis</th>\n",
       "      <th>Medications</th>\n",
       "      <th>Treatment</th>\n",
       "    </tr>\n",
       "  </thead>\n",
       "  <tbody>\n",
       "    <tr>\n",
       "      <th>0</th>\n",
       "      <td>Jane Doe</td>\n",
       "      <td>Female</td>\n",
       "      <td>55</td>\n",
       "      <td>1</td>\n",
       "      <td>1</td>\n",
       "      <td>1</td>\n",
       "      <td>140</td>\n",
       "      <td>90</td>\n",
       "      <td>100</td>\n",
       "      <td>1</td>\n",
       "      <td>...</td>\n",
       "      <td>Shows a 50% blockage in the left anterior desc...</td>\n",
       "      <td>0</td>\n",
       "      <td>1</td>\n",
       "      <td>None</td>\n",
       "      <td>None</td>\n",
       "      <td>None</td>\n",
       "      <td>None</td>\n",
       "      <td>Coronary artery disease (CAD)</td>\n",
       "      <td>Aspirin, metoprolol, atorvastatin</td>\n",
       "      <td>None</td>\n",
       "    </tr>\n",
       "    <tr>\n",
       "      <th>1</th>\n",
       "      <td>Mark Johnson</td>\n",
       "      <td>Male</td>\n",
       "      <td>57</td>\n",
       "      <td>1</td>\n",
       "      <td>1</td>\n",
       "      <td>1</td>\n",
       "      <td>150</td>\n",
       "      <td>80</td>\n",
       "      <td>110</td>\n",
       "      <td>1</td>\n",
       "      <td>...</td>\n",
       "      <td>Shows a 60% blockage in the right coronary artery</td>\n",
       "      <td>0</td>\n",
       "      <td>1</td>\n",
       "      <td>None</td>\n",
       "      <td>None</td>\n",
       "      <td>None</td>\n",
       "      <td>None</td>\n",
       "      <td>Coronary artery disease (CAD)</td>\n",
       "      <td>Aspirin, ramipril, atorvastatin</td>\n",
       "      <td>None</td>\n",
       "    </tr>\n",
       "    <tr>\n",
       "      <th>2</th>\n",
       "      <td>Emily Davis</td>\n",
       "      <td>Female</td>\n",
       "      <td>60</td>\n",
       "      <td>1</td>\n",
       "      <td>1</td>\n",
       "      <td>1</td>\n",
       "      <td>130</td>\n",
       "      <td>85</td>\n",
       "      <td>95</td>\n",
       "      <td>1</td>\n",
       "      <td>...</td>\n",
       "      <td>Shows a 75% blockage in the left anterior desc...</td>\n",
       "      <td>0</td>\n",
       "      <td>1</td>\n",
       "      <td>None</td>\n",
       "      <td>None</td>\n",
       "      <td>None</td>\n",
       "      <td>None</td>\n",
       "      <td>Coronary artery disease (CAD)</td>\n",
       "      <td>Aspirin, lisinopril, rosuvastatin</td>\n",
       "      <td>None</td>\n",
       "    </tr>\n",
       "    <tr>\n",
       "      <th>3</th>\n",
       "      <td>William Thompson</td>\n",
       "      <td>Male</td>\n",
       "      <td>62</td>\n",
       "      <td>1</td>\n",
       "      <td>1</td>\n",
       "      <td>1</td>\n",
       "      <td>145</td>\n",
       "      <td>90</td>\n",
       "      <td>100</td>\n",
       "      <td>1</td>\n",
       "      <td>...</td>\n",
       "      <td>Shows a 80% blockage in the left circumflex co...</td>\n",
       "      <td>0</td>\n",
       "      <td>1</td>\n",
       "      <td>None</td>\n",
       "      <td>None</td>\n",
       "      <td>None</td>\n",
       "      <td>None</td>\n",
       "      <td>Coronary artery disease (CAD)</td>\n",
       "      <td>Aspirin, metoprolol, atorvastatin</td>\n",
       "      <td>None</td>\n",
       "    </tr>\n",
       "    <tr>\n",
       "      <th>4</th>\n",
       "      <td>Ashley Johnson</td>\n",
       "      <td>Female</td>\n",
       "      <td>58</td>\n",
       "      <td>1</td>\n",
       "      <td>1</td>\n",
       "      <td>1</td>\n",
       "      <td>135</td>\n",
       "      <td>80</td>\n",
       "      <td>105</td>\n",
       "      <td>1</td>\n",
       "      <td>...</td>\n",
       "      <td>Shows a 90% blockage in the right coronary artery</td>\n",
       "      <td>0</td>\n",
       "      <td>1</td>\n",
       "      <td>None</td>\n",
       "      <td>None</td>\n",
       "      <td>None</td>\n",
       "      <td>None</td>\n",
       "      <td>Coronary artery disease (CAD)</td>\n",
       "      <td>Aspirin, simvastatin, lisinopril</td>\n",
       "      <td>None</td>\n",
       "    </tr>\n",
       "    <tr>\n",
       "      <th>...</th>\n",
       "      <td>...</td>\n",
       "      <td>...</td>\n",
       "      <td>...</td>\n",
       "      <td>...</td>\n",
       "      <td>...</td>\n",
       "      <td>...</td>\n",
       "      <td>...</td>\n",
       "      <td>...</td>\n",
       "      <td>...</td>\n",
       "      <td>...</td>\n",
       "      <td>...</td>\n",
       "      <td>...</td>\n",
       "      <td>...</td>\n",
       "      <td>...</td>\n",
       "      <td>...</td>\n",
       "      <td>...</td>\n",
       "      <td>...</td>\n",
       "      <td>...</td>\n",
       "      <td>...</td>\n",
       "      <td>...</td>\n",
       "      <td>...</td>\n",
       "    </tr>\n",
       "    <tr>\n",
       "      <th>277</th>\n",
       "      <td>Emily Wilson</td>\n",
       "      <td>Female</td>\n",
       "      <td>55</td>\n",
       "      <td>1</td>\n",
       "      <td>1</td>\n",
       "      <td>1</td>\n",
       "      <td>130</td>\n",
       "      <td>80</td>\n",
       "      <td>120</td>\n",
       "      <td>1</td>\n",
       "      <td>...</td>\n",
       "      <td>Shows constrictive pericarditis</td>\n",
       "      <td>0</td>\n",
       "      <td>1</td>\n",
       "      <td>None</td>\n",
       "      <td>None</td>\n",
       "      <td>None</td>\n",
       "      <td>None</td>\n",
       "      <td>Constrictive pericarditis</td>\n",
       "      <td>Ibuprofen, colchicine, prednisone</td>\n",
       "      <td>None</td>\n",
       "    </tr>\n",
       "    <tr>\n",
       "      <th>278</th>\n",
       "      <td>Jacob Smith</td>\n",
       "      <td>Male</td>\n",
       "      <td>48</td>\n",
       "      <td>1</td>\n",
       "      <td>1</td>\n",
       "      <td>1</td>\n",
       "      <td>130</td>\n",
       "      <td>80</td>\n",
       "      <td>120</td>\n",
       "      <td>1</td>\n",
       "      <td>...</td>\n",
       "      <td>Shows constrictive pericarditis</td>\n",
       "      <td>0</td>\n",
       "      <td>1</td>\n",
       "      <td>None</td>\n",
       "      <td>None</td>\n",
       "      <td>None</td>\n",
       "      <td>None</td>\n",
       "      <td>Constrictive pericarditis</td>\n",
       "      <td>Ibuprofen, colchicine, prednisone</td>\n",
       "      <td>None</td>\n",
       "    </tr>\n",
       "    <tr>\n",
       "      <th>279</th>\n",
       "      <td>Jane Smith</td>\n",
       "      <td>Female</td>\n",
       "      <td>65</td>\n",
       "      <td>1</td>\n",
       "      <td>1</td>\n",
       "      <td>1</td>\n",
       "      <td>140</td>\n",
       "      <td>90</td>\n",
       "      <td>110</td>\n",
       "      <td>1</td>\n",
       "      <td>...</td>\n",
       "      <td>Shows constrictive pericarditis</td>\n",
       "      <td>0</td>\n",
       "      <td>1</td>\n",
       "      <td>None</td>\n",
       "      <td>None</td>\n",
       "      <td>None</td>\n",
       "      <td>None</td>\n",
       "      <td>Constrictive pericarditis</td>\n",
       "      <td>Ibuprofen, colchicine, prednisone</td>\n",
       "      <td>None</td>\n",
       "    </tr>\n",
       "    <tr>\n",
       "      <th>280</th>\n",
       "      <td>David Johnson</td>\n",
       "      <td>Male</td>\n",
       "      <td>68</td>\n",
       "      <td>1</td>\n",
       "      <td>1</td>\n",
       "      <td>1</td>\n",
       "      <td>140</td>\n",
       "      <td>90</td>\n",
       "      <td>110</td>\n",
       "      <td>0</td>\n",
       "      <td>...</td>\n",
       "      <td>Shows constrictive pericarditis</td>\n",
       "      <td>0</td>\n",
       "      <td>1</td>\n",
       "      <td>None</td>\n",
       "      <td>None</td>\n",
       "      <td>None</td>\n",
       "      <td>None</td>\n",
       "      <td>Constrictive pericarditis</td>\n",
       "      <td>Ibuprofen, colchicine, prednisone</td>\n",
       "      <td>None</td>\n",
       "    </tr>\n",
       "    <tr>\n",
       "      <th>281</th>\n",
       "      <td>Emily Smith</td>\n",
       "      <td>Female</td>\n",
       "      <td>45</td>\n",
       "      <td>1</td>\n",
       "      <td>0</td>\n",
       "      <td>1</td>\n",
       "      <td>130</td>\n",
       "      <td>80</td>\n",
       "      <td>120</td>\n",
       "      <td>1</td>\n",
       "      <td>...</td>\n",
       "      <td>Shows constrictive pericarditis</td>\n",
       "      <td>0</td>\n",
       "      <td>1</td>\n",
       "      <td>None</td>\n",
       "      <td>None</td>\n",
       "      <td>None</td>\n",
       "      <td>None</td>\n",
       "      <td>Constrictive pericarditis</td>\n",
       "      <td>Ibuprofen, colchicine, prednisone</td>\n",
       "      <td>None</td>\n",
       "    </tr>\n",
       "  </tbody>\n",
       "</table>\n",
       "<p>282 rows × 49 columns</p>\n",
       "</div>"
      ],
      "text/plain": [
       "                 Name  Gender  Age  Chest pain  Shortness of breath  Fatigue  \\\n",
       "0            Jane Doe  Female   55           1                    1        1   \n",
       "1        Mark Johnson    Male   57           1                    1        1   \n",
       "2         Emily Davis  Female   60           1                    1        1   \n",
       "3    William Thompson    Male   62           1                    1        1   \n",
       "4      Ashley Johnson  Female   58           1                    1        1   \n",
       "..                ...     ...  ...         ...                  ...      ...   \n",
       "277      Emily Wilson  Female   55           1                    1        1   \n",
       "278       Jacob Smith    Male   48           1                    1        1   \n",
       "279        Jane Smith  Female   65           1                    1        1   \n",
       "280     David Johnson    Male   68           1                    1        1   \n",
       "281       Emily Smith  Female   45           1                    0        1   \n",
       "\n",
       "     Systolic  Diastolic  Heart rate (bpm)  Lung sounds  ...  \\\n",
       "0         140         90               100            1  ...   \n",
       "1         150         80               110            1  ...   \n",
       "2         130         85                95            1  ...   \n",
       "3         145         90               100            1  ...   \n",
       "4         135         80               105            1  ...   \n",
       "..        ...        ...               ...          ...  ...   \n",
       "277       130         80               120            1  ...   \n",
       "278       130         80               120            1  ...   \n",
       "279       140         90               110            1  ...   \n",
       "280       140         90               110            0  ...   \n",
       "281       130         80               120            1  ...   \n",
       "\n",
       "                                            Cardiac CT  Obesity  Murmur  \\\n",
       "0    Shows a 50% blockage in the left anterior desc...        0       1   \n",
       "1    Shows a 60% blockage in the right coronary artery        0       1   \n",
       "2    Shows a 75% blockage in the left anterior desc...        0       1   \n",
       "3    Shows a 80% blockage in the left circumflex co...        0       1   \n",
       "4    Shows a 90% blockage in the right coronary artery        0       1   \n",
       "..                                                 ...      ...     ...   \n",
       "277                    Shows constrictive pericarditis        0       1   \n",
       "278                    Shows constrictive pericarditis        0       1   \n",
       "279                    Shows constrictive pericarditis        0       1   \n",
       "280                    Shows constrictive pericarditis        0       1   \n",
       "281                    Shows constrictive pericarditis        0       1   \n",
       "\n",
       "     Chest x-ray  Previous illnesses  Pulmonary function tests  Spirometry  \\\n",
       "0           None                None                      None        None   \n",
       "1           None                None                      None        None   \n",
       "2           None                None                      None        None   \n",
       "3           None                None                      None        None   \n",
       "4           None                None                      None        None   \n",
       "..           ...                 ...                       ...         ...   \n",
       "277         None                None                      None        None   \n",
       "278         None                None                      None        None   \n",
       "279         None                None                      None        None   \n",
       "280         None                None                      None        None   \n",
       "281         None                None                      None        None   \n",
       "\n",
       "                         Diagnosis                        Medications  \\\n",
       "0    Coronary artery disease (CAD)  Aspirin, metoprolol, atorvastatin   \n",
       "1    Coronary artery disease (CAD)    Aspirin, ramipril, atorvastatin   \n",
       "2    Coronary artery disease (CAD)  Aspirin, lisinopril, rosuvastatin   \n",
       "3    Coronary artery disease (CAD)  Aspirin, metoprolol, atorvastatin   \n",
       "4    Coronary artery disease (CAD)   Aspirin, simvastatin, lisinopril   \n",
       "..                             ...                                ...   \n",
       "277      Constrictive pericarditis  Ibuprofen, colchicine, prednisone   \n",
       "278      Constrictive pericarditis  Ibuprofen, colchicine, prednisone   \n",
       "279      Constrictive pericarditis  Ibuprofen, colchicine, prednisone   \n",
       "280      Constrictive pericarditis  Ibuprofen, colchicine, prednisone   \n",
       "281      Constrictive pericarditis  Ibuprofen, colchicine, prednisone   \n",
       "\n",
       "     Treatment  \n",
       "0         None  \n",
       "1         None  \n",
       "2         None  \n",
       "3         None  \n",
       "4         None  \n",
       "..         ...  \n",
       "277       None  \n",
       "278       None  \n",
       "279       None  \n",
       "280       None  \n",
       "281       None  \n",
       "\n",
       "[282 rows x 49 columns]"
      ]
     },
     "execution_count": 3,
     "metadata": {},
     "output_type": "execute_result"
    }
   ],
   "source": [
    "train_data"
   ]
  },
  {
   "cell_type": "markdown",
   "id": "ea9dc005",
   "metadata": {},
   "source": [
    "### Label Encoding"
   ]
  },
  {
   "cell_type": "code",
   "execution_count": 4,
   "id": "d6f64c5c",
   "metadata": {
    "scrolled": false
   },
   "outputs": [
    {
     "data": {
      "text/html": [
       "<div>\n",
       "<style scoped>\n",
       "    .dataframe tbody tr th:only-of-type {\n",
       "        vertical-align: middle;\n",
       "    }\n",
       "\n",
       "    .dataframe tbody tr th {\n",
       "        vertical-align: top;\n",
       "    }\n",
       "\n",
       "    .dataframe thead th {\n",
       "        text-align: right;\n",
       "    }\n",
       "</style>\n",
       "<table border=\"1\" class=\"dataframe\">\n",
       "  <thead>\n",
       "    <tr style=\"text-align: right;\">\n",
       "      <th></th>\n",
       "      <th>Name</th>\n",
       "      <th>Gender</th>\n",
       "      <th>Age</th>\n",
       "      <th>Chest pain</th>\n",
       "      <th>Shortness of breath</th>\n",
       "      <th>Fatigue</th>\n",
       "      <th>Systolic</th>\n",
       "      <th>Diastolic</th>\n",
       "      <th>Heart rate (bpm)</th>\n",
       "      <th>Lung sounds</th>\n",
       "      <th>...</th>\n",
       "      <th>Cardiac CT</th>\n",
       "      <th>Obesity</th>\n",
       "      <th>Murmur</th>\n",
       "      <th>Chest x-ray</th>\n",
       "      <th>Previous illnesses</th>\n",
       "      <th>Pulmonary function tests</th>\n",
       "      <th>Spirometry</th>\n",
       "      <th>Diagnosis</th>\n",
       "      <th>Medications</th>\n",
       "      <th>Treatment</th>\n",
       "    </tr>\n",
       "  </thead>\n",
       "  <tbody>\n",
       "    <tr>\n",
       "      <th>0</th>\n",
       "      <td>Jane Doe</td>\n",
       "      <td>1</td>\n",
       "      <td>55</td>\n",
       "      <td>1</td>\n",
       "      <td>1</td>\n",
       "      <td>1</td>\n",
       "      <td>140</td>\n",
       "      <td>90</td>\n",
       "      <td>100</td>\n",
       "      <td>1</td>\n",
       "      <td>...</td>\n",
       "      <td>42</td>\n",
       "      <td>0</td>\n",
       "      <td>1</td>\n",
       "      <td>0</td>\n",
       "      <td>0</td>\n",
       "      <td>0</td>\n",
       "      <td>0</td>\n",
       "      <td>0</td>\n",
       "      <td>Aspirin, metoprolol, atorvastatin</td>\n",
       "      <td>None</td>\n",
       "    </tr>\n",
       "    <tr>\n",
       "      <th>1</th>\n",
       "      <td>Mark Johnson</td>\n",
       "      <td>0</td>\n",
       "      <td>57</td>\n",
       "      <td>1</td>\n",
       "      <td>1</td>\n",
       "      <td>1</td>\n",
       "      <td>150</td>\n",
       "      <td>80</td>\n",
       "      <td>110</td>\n",
       "      <td>1</td>\n",
       "      <td>...</td>\n",
       "      <td>43</td>\n",
       "      <td>0</td>\n",
       "      <td>1</td>\n",
       "      <td>0</td>\n",
       "      <td>0</td>\n",
       "      <td>0</td>\n",
       "      <td>0</td>\n",
       "      <td>0</td>\n",
       "      <td>Aspirin, ramipril, atorvastatin</td>\n",
       "      <td>None</td>\n",
       "    </tr>\n",
       "    <tr>\n",
       "      <th>2</th>\n",
       "      <td>Emily Davis</td>\n",
       "      <td>1</td>\n",
       "      <td>60</td>\n",
       "      <td>1</td>\n",
       "      <td>1</td>\n",
       "      <td>1</td>\n",
       "      <td>130</td>\n",
       "      <td>85</td>\n",
       "      <td>95</td>\n",
       "      <td>1</td>\n",
       "      <td>...</td>\n",
       "      <td>42</td>\n",
       "      <td>0</td>\n",
       "      <td>1</td>\n",
       "      <td>0</td>\n",
       "      <td>0</td>\n",
       "      <td>0</td>\n",
       "      <td>0</td>\n",
       "      <td>0</td>\n",
       "      <td>Aspirin, lisinopril, rosuvastatin</td>\n",
       "      <td>None</td>\n",
       "    </tr>\n",
       "    <tr>\n",
       "      <th>3</th>\n",
       "      <td>William Thompson</td>\n",
       "      <td>0</td>\n",
       "      <td>62</td>\n",
       "      <td>1</td>\n",
       "      <td>1</td>\n",
       "      <td>1</td>\n",
       "      <td>145</td>\n",
       "      <td>90</td>\n",
       "      <td>100</td>\n",
       "      <td>1</td>\n",
       "      <td>...</td>\n",
       "      <td>44</td>\n",
       "      <td>0</td>\n",
       "      <td>1</td>\n",
       "      <td>0</td>\n",
       "      <td>0</td>\n",
       "      <td>0</td>\n",
       "      <td>0</td>\n",
       "      <td>0</td>\n",
       "      <td>Aspirin, metoprolol, atorvastatin</td>\n",
       "      <td>None</td>\n",
       "    </tr>\n",
       "    <tr>\n",
       "      <th>4</th>\n",
       "      <td>Ashley Johnson</td>\n",
       "      <td>1</td>\n",
       "      <td>58</td>\n",
       "      <td>1</td>\n",
       "      <td>1</td>\n",
       "      <td>1</td>\n",
       "      <td>135</td>\n",
       "      <td>80</td>\n",
       "      <td>105</td>\n",
       "      <td>1</td>\n",
       "      <td>...</td>\n",
       "      <td>43</td>\n",
       "      <td>0</td>\n",
       "      <td>1</td>\n",
       "      <td>0</td>\n",
       "      <td>0</td>\n",
       "      <td>0</td>\n",
       "      <td>0</td>\n",
       "      <td>0</td>\n",
       "      <td>Aspirin, simvastatin, lisinopril</td>\n",
       "      <td>None</td>\n",
       "    </tr>\n",
       "  </tbody>\n",
       "</table>\n",
       "<p>5 rows × 49 columns</p>\n",
       "</div>"
      ],
      "text/plain": [
       "               Name  Gender  Age  Chest pain  Shortness of breath  Fatigue  \\\n",
       "0          Jane Doe       1   55           1                    1        1   \n",
       "1      Mark Johnson       0   57           1                    1        1   \n",
       "2       Emily Davis       1   60           1                    1        1   \n",
       "3  William Thompson       0   62           1                    1        1   \n",
       "4    Ashley Johnson       1   58           1                    1        1   \n",
       "\n",
       "   Systolic  Diastolic  Heart rate (bpm)  Lung sounds  ...  Cardiac CT  \\\n",
       "0       140         90               100            1  ...          42   \n",
       "1       150         80               110            1  ...          43   \n",
       "2       130         85                95            1  ...          42   \n",
       "3       145         90               100            1  ...          44   \n",
       "4       135         80               105            1  ...          43   \n",
       "\n",
       "   Obesity  Murmur  Chest x-ray  Previous illnesses  Pulmonary function tests  \\\n",
       "0        0       1            0                   0                         0   \n",
       "1        0       1            0                   0                         0   \n",
       "2        0       1            0                   0                         0   \n",
       "3        0       1            0                   0                         0   \n",
       "4        0       1            0                   0                         0   \n",
       "\n",
       "   Spirometry  Diagnosis                        Medications  Treatment  \n",
       "0           0          0  Aspirin, metoprolol, atorvastatin       None  \n",
       "1           0          0    Aspirin, ramipril, atorvastatin       None  \n",
       "2           0          0  Aspirin, lisinopril, rosuvastatin       None  \n",
       "3           0          0  Aspirin, metoprolol, atorvastatin       None  \n",
       "4           0          0   Aspirin, simvastatin, lisinopril       None  \n",
       "\n",
       "[5 rows x 49 columns]"
      ]
     },
     "execution_count": 4,
     "metadata": {},
     "output_type": "execute_result"
    }
   ],
   "source": [
    "train_data.replace({'Gender':{\"Male\":0,\"Female\":1}},inplace=True)\n",
    "train_data.replace({'Echocardiogram':{\"None\":0,\"Shows increased pressure in the right ventricle\":1,\"Shows increased pressure in the right ventricle and decreased function of the right ventricle\":2,\"Shows vegetation on the aortic valve\":3,\"Shows vegetation on the aortic valve and pulmonic valve\":4,\"Shows vegetation on the mitral valve\":5,\"Shows vegetation on the mitral valve and aortic valve\":6,\"Shows vegetation on the mitral valve and pulmonary valve\":7,\"Shows vegetation on the mitral valve and tricuspid valve\":8,\"Shows vegetation on the mitral valve, aortic valve and tricuspid valve\":9,\"Shows vegetation on the mitral valve, aortic valve, and pulmonary valve\":10,\"Shows vegetation on the mitral valve, aortic valve, tricuspid valve, and pulmonary valve\":11,\"Shows vegetation on the mitral valve, tricuspid valve, and pulmonary valve\":12,\"Shows vegetation on the pulmonary valve\":13,\"Shows vegetation on the tricuspid valve\":14,\"Shows vegetation on the tricuspid valve and pulmonary valve\":15,\"Shows increased pressure in the right ventricle and decreased function of the left ventricle\":16,\"Shows thickening of the pericardium\":17}},inplace=True)\n",
    "train_data.replace({'Blood culture':{\"None\":0,\"Positive for Candida albicans\":1,\"Positive for Candida dubliniensis\":2,\"Positive for Candida glabrata\":3,\"Positive for Candida guilliermondii\":4,\"Positive for Candida krusei\":5,\"Positive for Candida lusitaniae\":6,\"Positive for Candida parapsilosis\":7,\"Positive for Candida rugosa\":8,\"Positive for Candida tropicalis\":9,\"Positive for Enterococcus faecalis\":10,\"Positive for Staphylococcus aureus\":11,\"Positive for Staphylococcus epidermidis\":12,\"Positive for Streptococcus anginosus\":13,\"Positive for Streptococcus bovis\":14,\"Positive for Streptococcus mitis\":15,\"Positive for Streptococcus oralis\":16,\"Positive for Streptococcus pneumonia\":17,\"Positive for Streptococcus pneumoniae\":18,\"Positive for Streptococcus salivarius\":19,\"Positive for Streptococcus sanguinis\":20,\"Positive for Streptococcus viridans\":21}},inplace=True)\n",
    "train_data.replace({'EKG':{\"None\":0,\"Abnormal\":1,\"Normal\":2,\"Shows an elevated ST segment and PR interval consistent with pericarditis\":3,\"Shows atrial fibrillation\":4,\"Shows diffuse ST depression and PR elevation consistent with pericarditis\":5,\"Shows electrical alternans consistent with pericarditis\":6,\"Shows evidence of aortic stenosis\":7,\"Shows evidence of aortic valve regurgitation\":8,\"Shows evidence of arrhythmogenic right ventricular cardiomyopathy\":9,\"Shows evidence of atrial fibrillation and left ventricular hypertrophy\":10,\"Shows evidence of atrial fibrillation and valve regurgitation\":11,\"Shows evidence of dilated cardiomyopathy\":12,\"Shows evidence of endocarditis\":13,\"Shows evidence of hypertrophic cardiomyopathy\":14,\"Shows evidence of left bundle branch block\":15,\"Shows evidence of left bundle branch block and left ventricular hypertrophy\":16,\"Shows evidence of left ventricular dysfunction and valve regurgitation\":17,\"Shows evidence of left ventricular hypertrophy\":18,\"Shows evidence of left ventricular hypertrophy and atrial fibrillation\":19,\"Shows evidence of left ventricular hypertrophy and left atrial enlargement\":20,\"Shows evidence of left ventricular hypertrophy and ST-segment depression\":21,\"Shows evidence of left ventricular hypertrophy and ST-segment elevation\":22,\"Shows evidence of mitral regurgitation\":23,\"Shows evidence of mitral regurgitation and atrial fibrillation\":24,\"Shows evidence of mitral stenosis\":25,\"Shows evidence of mitral valve regurgitation\":26,\"Shows evidence of pericarditis\":27,\"Shows evidence of pericarditis and atrial fibrillation\":28,\"Shows evidence of pericarditis and left atrial enlargement\":29,\"Shows evidence of pericarditis and left bundle branch block\":30,\"Shows evidence of pericarditis and left ventricular hypertrophy\":31,\"Shows evidence of pericarditis and right bundle branch block\":32,\"Shows evidence of pericarditis and right ventricular hypertrophy\":33,\"Shows evidence of pericarditis and sinus tachycardia\":34,\"Shows evidence of pericarditis and valve regurgitation\":35,\"Shows evidence of pulmonary stenosis\":36,\"Shows evidence of restrictive cardiomyopathy\":37,\"Shows evidence of right bundle branch block\":38,\"Shows evidence of right bundle branch block and left ventricular hypertrophy\":39,\"Shows evidence of ST-segment depression in leads II, III, and aVF\":40,\"Shows evidence of Takotsubo cardiomyopathy\":41,\"Shows evidence of tricuspid stenosis\":42,\"Shows evidence of tricuspid valve regurgitation\":43,\"Shows evidence of T-wave inversion in leads V1-V4\":44,\"Shows left bundle branch block\":45,\"Shows left ventricular hypertrophy\":46,\"Shows low voltage QRS consistent with pericarditis\":47,\"Shows sinus tachycardia\":48,\"Shows sinus tachycardia and diffuse ST elevation consistent with pericarditis\":49,\"Shows ST-segment elevation\":50,\"Shows evidence of atrial enlargement\":51,\"Shows evidence of right ventricular hypertrophy\":52,\"Shows evidence of left ventricular hypertrophy and restricted diastolic filling\":53,\"Shows low voltage and electrical alternans\":54,\"Shows sinus tachycardia and low voltage\":55,\"Shows evidence of atrial enlargement and low voltage QRS complex\":56,\"Shows evidence of atrial fibrillation\":57,\"Shows evidence of left ventricular hypertrophy and right atrial dilation\":58,\"Shows evidence of pericardial thickening\":59}},inplace=True)\n",
    "train_data.replace({'Cardiac CT':{\"None\":0,\"Shows a 100% dilation of the proximal aorta\":\"Shows dilation of the proximal aorta\",\"Shows a 110% dilation of the proximal aorta\":\"Shows dilation of the proximal aorta\",\"Shows a 120% dilation of the proximal aorta\":\"Shows dilation of the proximal aorta\",\"Shows a 130% dilation of the proximal aorta\":\"Shows dilation of the proximal aorta\",\"Shows a 25% dilation of the infrarenal aorta\":\"Shows dilation of the infrarenal aorta\",\"Shows a 30% dilation of the abdominal aorta\":\"Shows dilation of the abdominal aorta\",\"Shows a 30% dilation of the infrarenal aorta\":\"Shows dilation of the infrarenal aorta\",\"Shows a 35% dilation of the infrarenal aorta\":\"Shows dilation of the infrarenal aorta\",\"Shows a 38% dilation of the infrarenal aorta\":\"Shows dilation of the infrarenal aorta\",\"Shows a 40% dilation of the abdominal aorta\":\"Shows dilation of the abdominal aorta\",\"Shows a 40% dilation of the infrarenal aorta\":\"Shows dilation of the infrarenal aorta\",\"Shows a 40% dilation of the thoracic aorta\":\"Shows dilation of the thoracic aorta\",\"Shows a 40% dilation of the thoracoabdominal aorta\":\"Shows dilation of the thoracoabdominal aorta\",\"Shows a 42% dilation of the infrarenal aorta\":\"Shows dilation of the infrarenal aorta\",\"Shows a 45% dilation of the infrarenal aorta\":\"Shows dilation of the infrarenal aorta\",\"Shows a 45% dilation of the thoracic aorta\":\"Shows dilation of the thoracic aorta\",\"Shows a 50% blockage in the left anterior descending coronary artery\":\"Shows blockage in the left anterior descending coronary artery\",\"Shows a 50% dilation of the abdominal aorta\":\"Shows dilation of the abdominal aorta\",\"Shows a 50% dilation of the proximal aorta\":\"Shows dilation of the proximal aorta\",\"Shows a 50% dilation of the thoracic aorta\":\"Shows dilation of the thoracic aorta\",\"Shows a 50% dilation of the thoracoabdominal aorta\":\"Shows dilation of the thoracoabdominal aorta\",\"Shows a 55% dilation of the proximal aorta\":\"Shows dilation of the proximal aorta\",\"Shows a 55% dilation of the thoracic aorta\":\"Shows dilation of the thoracic aorta\",\"Shows a 60% blockage in the left main coronary artery\":\"Shows blockage in the left main coronary artery\",\"Shows a 60% blockage in the right coronary artery\":\"Shows blockage in the right coronary artery\",\"Shows a 60% dilation of the abdominal aorta\":\"Shows dilation of the abdominal aorta\",\"Shows a 60% dilation of the proximal aorta\":\"Shows dilation of the proximal aorta\",\"Shows a 60% dilation of the thoracic aorta\":\"Shows dilation of the thoracic aorta\",\"Shows a 60% dilation of the thoracoabdominal aorta\":\"Shows dilation of the thoracoabdominal aorta\",\"Shows a 65% dilation of the thoracic aorta\":\"Shows dilation of the thoracic aorta\",\"Shows a 70% blockage in the left anterior descending coronary artery\":\"Shows blockage in the left anterior descending coronary artery\",\"Shows a 70% blockage in the right coronary artery\":\"Shows blockage in the right coronary artery\",\"Shows a 70% dilation of the abdominal aorta\":\"Shows dilation of the abdominal aorta\",\"Shows a 70% dilation of the proximal aorta\":\"Shows dilation of the proximal aorta\",\"Shows a 70% dilation of the thoracic aorta\":\"Shows dilation of the thoracic aorta\",'Shows a 70% dilation of the thoracoabdominal aorta':\"Shows dilation of the thoracoabdominal aorta\",\"Shows a 75% blockage in the left anterior descending coronary artery\":\"Shows blockage in the left anterior descending coronary artery\",\"Shows a 75% dilation of the thoracic aorta\":\"Shows dilation of the thoracic aorta\",\"Shows a 80% blockage in the left circumflex coronary artery\":\"Shows blockage in the left circumflex coronary artery\",\"Shows a 80% dilation of the proximal aorta\":\"Shows dilation of the proximal aorta\",\"Shows a 80% dilation of the thoracoabdominal aorta\":\"Shows dilation of the thoracoabdominal aorta\",\"Shows a 80% dilation of the thoracoabdominal aorta\":\"Shows dilation of the thoracoabdominal aorta\",\"Shows a 90% blockage in the right coronary artery\":\"Shows blockage in the right coronary artery\",\"Shows a 90% dilation of the proximal aorta\":\"Shows dilation of the proximal aorta\",\"Shows a 90% dilation of the thoracic aorta\":\"Shows dilation of the thoracic aorta\",\"Shows a 90% dilation of the thoracoabdominal aorta\":\"Shows dilation of the thoracoabdominal aorta\",\"Shows a mild dilatation in the left ventricle\":1,\"Shows a mild dysfunction of the left ventricle\":2,\"Shows a mild dysfunction of the right ventricle\":3,\"Shows a mild hypertrophy in the left ventricle\":4,\"Shows a mild regurgitation in the mitral valve\":5,\"Shows a mild restriction in the ventricular filling\":6,\"Shows a mild stenosis in the mitral valve\":7,\"Shows a mild stenosis in the pulmonary valve\":8,\"Shows a mild stenosis in the tricuspid valve\":9,\"Shows a moderate dilatation in the left ventricle\":10,\"Shows a moderate dysfunction of the left ventricle\":11,\"Shows a moderate dysfunction of the right ventricle\":12,\"Shows a moderate hypertrophy in the left ventricle\":13,\"Shows a moderate hypertrophy in the right ventricle\":14,\"Shows a moderate regurgitation in the mitral valve\":15,\"Shows a moderate restriction in the ventricular filling\":16,\"Shows a moderate stenosis in the aortic valve\":17,\"Shows a moderate stenosis in the mitral valve\":18,\"Shows a moderate stenosis in the pulmonary valve\":19,\"Shows a moderate stenosis in the tricuspid valve\":20,\"Shows a severe dilatation in the left ventricle\":21,\"Shows a severe dysfunction of the left ventricle\":22,\"Shows a severe dysfunction of the right ventricle\":23,\"Shows a severe hypertrophy in the left ventricle\":24,\"Shows a severe hypertrophy in the right ventricle\":25,\"Shows a severe regurgitation in the mitral valve\":26,\"Shows a severe restriction in the ventricular filling\":27,\"Shows a severe stenosis in the aortic valve\":28,\"Shows a severe stenosis in the mitral valve\":29,\"Shows a severe stenosis in the tricuspid valve\":30,\"Shows constrictive pericarditis\":31,\"Shows effusion in the pericardium\":32,\"Shows pericardial effusion and tamponade\":33,\"Shows pericarditis with myocarditis\":34,\"Shows thickening of the pericardium\":35}},inplace=True)\n",
    "train_data.replace({'Chest x-ray':{\"None\":0,\"Shows hyperinflation and bronchial wall thickening\":1,\"Shows hyperinflation, bronchial wall thickening, and increased vascular markings\":2,\"Shows increased vascular markings and signs of chronic changes in the lungs\":3,\"Shows increased vascular markings and signs of lung restriction\":4,\"Shows increased vascular markings and small areas of consolidation in the lungs\":5,\"Shows increased vascular markings and small areas of fibrosis in the lungs\":6,\"Shows increased vascular markings in the lungs\":7,\"Shows increased vascular markings in the lungs, small areas of fibrosis, and signs of lung restriction\":8,\"Shows increased vascular markings, small areas of fibrosis and signs of lung restriction\":9,\"Shows increased vascular markings, small areas of fibrosis, and signs of chronic changes in the lungs\":10,\"Shows increased vascular markings, small areas of fibrosis, and signs of lung restriction\":11,\"Shows normal lung structures with no obvious abnormalities\":12}},inplace=True)\n",
    "train_data.replace({'Previous illnesses':{\"None\":0,\"Aortic valve replacement surgery\":1,\"Mitral valve replacement surgery\":2,\"Recent chest surgery\":3,\"Recent viral infection\":4,\"Tricuspid valve replacement surgery\":5}},inplace=True)\n",
    "train_data.replace({'Pulmonary function tests':{\"None\":0,\"Shows decreased lung capacity\":1,\"Shows decreased lung capacity and reduced diffusing capacity of the lung for carbon monoxide\":2,\"Shows decreased lung capacity, reduced diffusing capacity of the lung for carbon monoxide and decreased lung volumes\":3,\"Shows normal lung capacity\":4}},inplace=True)\n",
    "train_data.replace({'Spirometry':{\"None\":0,\"Shows decreased lung function and increased airway resistance\":1}},inplace=True)\n",
    "train_data.replace({'Diagnosis':{'Coronary artery disease (CAD)':0, 'Mitral regurgitation':1, 'Mitral stenosis':2, 'Aortic stenosis':3, 'Tricuspid stenosis':4,'Pulmonary stenosis':5, 'Dilated cardiomyopathy':6, 'Hypertrophic cardiomyopathy':7, 'Restrictive cardiomyopathy':8,'Arrhythmogenic right ventricular cardiomyopathy':9, 'Takotsubo cardiomyopathy':10, 'Thoracic aortic aneurysm':11, 'Abdominal aortic aneurysm':12,'Proximal aortic aneurysm':13, 'Infrarenal aortic aneurysm':14, 'Thoracoabdominal aortic aneurysm':15, 'Acute pericarditis':16, 'Chronic pericarditis':17,'Constrictive pericarditis':18, 'Pericardial effusion with tamponade':19, 'Pericarditis with myocarditis':20, 'Acute native valve endocarditis':21,'Subacute native valve endocarditis':22, 'Infective endocarditis on prosthetic valve':23, 'Candidal endocarditis':24, 'Native valve endocarditis involving multiple valves':25,'Primary pulmonary hypertension':26, 'Secondary pulmonary hypertension due to COPD':27, 'Secondary pulmonary hypertension due to obesity and sleep apnea':28, 'Secondary pulmonary hypertension due to scleroderma':29,'Secondary pulmonary hypertension due to chronic thromboembolic disease':30}},inplace=True)\n",
    "train_data_final = train_data\n",
    "train_data_final.replace({'Cardiac CT':{\"Shows dilation of the proximal aorta\":36,\"Shows dilation of the infrarenal aorta\":37,\"Shows dilation of the abdominal aorta\":38,\"Shows dilation of the thoracic aorta\":39,\"Shows dilation of the thoracoabdominal aorta\":40,\"Shows blockage in the left main coronary artery\":41,\"Shows blockage in the left anterior descending coronary artery\":42,\"Shows blockage in the right coronary artery\":43,\"Shows blockage in the left circumflex coronary artery\":44}},inplace=True)\n",
    "train_data_final.head()\n",
    "\n",
    "# df.to_csv(r\"E:\\medical hackathon\\preprocessed_heart_training.csv\", index=False)"
   ]
  },
  {
   "cell_type": "code",
   "execution_count": 5,
   "id": "2becca9b",
   "metadata": {},
   "outputs": [
    {
     "data": {
      "text/html": [
       "<div>\n",
       "<style scoped>\n",
       "    .dataframe tbody tr th:only-of-type {\n",
       "        vertical-align: middle;\n",
       "    }\n",
       "\n",
       "    .dataframe tbody tr th {\n",
       "        vertical-align: top;\n",
       "    }\n",
       "\n",
       "    .dataframe thead th {\n",
       "        text-align: right;\n",
       "    }\n",
       "</style>\n",
       "<table border=\"1\" class=\"dataframe\">\n",
       "  <thead>\n",
       "    <tr style=\"text-align: right;\">\n",
       "      <th></th>\n",
       "      <th>Name</th>\n",
       "      <th>Gender</th>\n",
       "      <th>Age</th>\n",
       "      <th>Chest pain</th>\n",
       "      <th>Shortness of breath</th>\n",
       "      <th>Fatigue</th>\n",
       "      <th>Systolic</th>\n",
       "      <th>Diastolic</th>\n",
       "      <th>Heart rate (bpm)</th>\n",
       "      <th>Lung sounds</th>\n",
       "      <th>...</th>\n",
       "      <th>Cardiac CT</th>\n",
       "      <th>Obesity</th>\n",
       "      <th>Murmur</th>\n",
       "      <th>Chest x-ray</th>\n",
       "      <th>Previous illnesses</th>\n",
       "      <th>Pulmonary function tests</th>\n",
       "      <th>Spirometry</th>\n",
       "      <th>Diagnosis</th>\n",
       "      <th>Medications</th>\n",
       "      <th>Treatment</th>\n",
       "    </tr>\n",
       "  </thead>\n",
       "  <tbody>\n",
       "    <tr>\n",
       "      <th>0</th>\n",
       "      <td>Jane Doe</td>\n",
       "      <td>1</td>\n",
       "      <td>55</td>\n",
       "      <td>1</td>\n",
       "      <td>1</td>\n",
       "      <td>1</td>\n",
       "      <td>140</td>\n",
       "      <td>90</td>\n",
       "      <td>100</td>\n",
       "      <td>1</td>\n",
       "      <td>...</td>\n",
       "      <td>42</td>\n",
       "      <td>0</td>\n",
       "      <td>1</td>\n",
       "      <td>0</td>\n",
       "      <td>0</td>\n",
       "      <td>0</td>\n",
       "      <td>0</td>\n",
       "      <td>0</td>\n",
       "      <td>Aspirin, metoprolol, atorvastatin</td>\n",
       "      <td>None</td>\n",
       "    </tr>\n",
       "    <tr>\n",
       "      <th>1</th>\n",
       "      <td>Mark Johnson</td>\n",
       "      <td>0</td>\n",
       "      <td>57</td>\n",
       "      <td>1</td>\n",
       "      <td>1</td>\n",
       "      <td>1</td>\n",
       "      <td>150</td>\n",
       "      <td>80</td>\n",
       "      <td>110</td>\n",
       "      <td>1</td>\n",
       "      <td>...</td>\n",
       "      <td>43</td>\n",
       "      <td>0</td>\n",
       "      <td>1</td>\n",
       "      <td>0</td>\n",
       "      <td>0</td>\n",
       "      <td>0</td>\n",
       "      <td>0</td>\n",
       "      <td>0</td>\n",
       "      <td>Aspirin, ramipril, atorvastatin</td>\n",
       "      <td>None</td>\n",
       "    </tr>\n",
       "    <tr>\n",
       "      <th>2</th>\n",
       "      <td>Jane Smith</td>\n",
       "      <td>1</td>\n",
       "      <td>72</td>\n",
       "      <td>1</td>\n",
       "      <td>1</td>\n",
       "      <td>1</td>\n",
       "      <td>140</td>\n",
       "      <td>80</td>\n",
       "      <td>90</td>\n",
       "      <td>1</td>\n",
       "      <td>...</td>\n",
       "      <td>15</td>\n",
       "      <td>0</td>\n",
       "      <td>1</td>\n",
       "      <td>0</td>\n",
       "      <td>0</td>\n",
       "      <td>0</td>\n",
       "      <td>0</td>\n",
       "      <td>1</td>\n",
       "      <td>Warfarin, lisinopril, atorvastatin</td>\n",
       "      <td>Mitral valve repair surgery</td>\n",
       "    </tr>\n",
       "    <tr>\n",
       "      <th>3</th>\n",
       "      <td>John Doe</td>\n",
       "      <td>0</td>\n",
       "      <td>68</td>\n",
       "      <td>1</td>\n",
       "      <td>1</td>\n",
       "      <td>1</td>\n",
       "      <td>130</td>\n",
       "      <td>80</td>\n",
       "      <td>95</td>\n",
       "      <td>1</td>\n",
       "      <td>...</td>\n",
       "      <td>26</td>\n",
       "      <td>0</td>\n",
       "      <td>1</td>\n",
       "      <td>0</td>\n",
       "      <td>0</td>\n",
       "      <td>0</td>\n",
       "      <td>0</td>\n",
       "      <td>1</td>\n",
       "      <td>Warfarin, lisinopril, atorvastatin</td>\n",
       "      <td>Mitral valve replacement surgery</td>\n",
       "    </tr>\n",
       "    <tr>\n",
       "      <th>4</th>\n",
       "      <td>John Doe</td>\n",
       "      <td>0</td>\n",
       "      <td>55</td>\n",
       "      <td>1</td>\n",
       "      <td>1</td>\n",
       "      <td>1</td>\n",
       "      <td>130</td>\n",
       "      <td>80</td>\n",
       "      <td>100</td>\n",
       "      <td>1</td>\n",
       "      <td>...</td>\n",
       "      <td>18</td>\n",
       "      <td>0</td>\n",
       "      <td>1</td>\n",
       "      <td>0</td>\n",
       "      <td>0</td>\n",
       "      <td>0</td>\n",
       "      <td>0</td>\n",
       "      <td>2</td>\n",
       "      <td>Warfarin, lisinopril, diuretic</td>\n",
       "      <td>Mitral valve replacement surgery</td>\n",
       "    </tr>\n",
       "  </tbody>\n",
       "</table>\n",
       "<p>5 rows × 49 columns</p>\n",
       "</div>"
      ],
      "text/plain": [
       "           Name  Gender  Age  Chest pain  Shortness of breath  Fatigue  \\\n",
       "0      Jane Doe       1   55           1                    1        1   \n",
       "1  Mark Johnson       0   57           1                    1        1   \n",
       "2    Jane Smith       1   72           1                    1        1   \n",
       "3      John Doe       0   68           1                    1        1   \n",
       "4      John Doe       0   55           1                    1        1   \n",
       "\n",
       "   Systolic  Diastolic  Heart rate (bpm)  Lung sounds  ...  Cardiac CT  \\\n",
       "0       140         90               100            1  ...          42   \n",
       "1       150         80               110            1  ...          43   \n",
       "2       140         80                90            1  ...          15   \n",
       "3       130         80                95            1  ...          26   \n",
       "4       130         80               100            1  ...          18   \n",
       "\n",
       "   Obesity  Murmur  Chest x-ray  Previous illnesses  Pulmonary function tests  \\\n",
       "0        0       1            0                   0                         0   \n",
       "1        0       1            0                   0                         0   \n",
       "2        0       1            0                   0                         0   \n",
       "3        0       1            0                   0                         0   \n",
       "4        0       1            0                   0                         0   \n",
       "\n",
       "   Spirometry  Diagnosis                         Medications  \\\n",
       "0           0          0   Aspirin, metoprolol, atorvastatin   \n",
       "1           0          0     Aspirin, ramipril, atorvastatin   \n",
       "2           0          1  Warfarin, lisinopril, atorvastatin   \n",
       "3           0          1  Warfarin, lisinopril, atorvastatin   \n",
       "4           0          2      Warfarin, lisinopril, diuretic   \n",
       "\n",
       "                          Treatment  \n",
       "0                              None  \n",
       "1                              None  \n",
       "2       Mitral valve repair surgery  \n",
       "3  Mitral valve replacement surgery  \n",
       "4  Mitral valve replacement surgery  \n",
       "\n",
       "[5 rows x 49 columns]"
      ]
     },
     "execution_count": 5,
     "metadata": {},
     "output_type": "execute_result"
    }
   ],
   "source": [
    "test_data.replace({'Gender':{\"Male\":0,\"Female\":1}},inplace=True)\n",
    "test_data.replace({'Echocardiogram':{\"None\":0,\"Shows increased pressure in the right ventricle\":1,\"Shows increased pressure in the right ventricle and decreased function of the right ventricle\":2,\"Shows vegetation on the aortic valve\":3,\"Shows vegetation on the aortic valve and pulmonic valve\":4,\"Shows vegetation on the mitral valve\":5,\"Shows vegetation on the mitral valve and aortic valve\":6,\"Shows vegetation on the mitral valve and pulmonary valve\":7,\"Shows vegetation on the mitral valve and tricuspid valve\":8,\"Shows vegetation on the mitral valve, aortic valve and tricuspid valve\":9,\"Shows vegetation on the mitral valve, aortic valve, and pulmonary valve\":10,\"Shows vegetation on the mitral valve, aortic valve, tricuspid valve, and pulmonary valve\":11,\"Shows vegetation on the mitral valve, tricuspid valve, and pulmonary valve\":12,\"Shows vegetation on the pulmonary valve\":13,\"Shows vegetation on the tricuspid valve\":14,\"Shows vegetation on the tricuspid valve and pulmonary valve\":15,\"Shows increased pressure in the right ventricle and decreased function of the left ventricle\":16,\"Shows thickening of the pericardium\":17}},inplace=True)\n",
    "test_data.replace({'Blood culture':{\"None\":0,\"Positive for Candida albicans\":1,\"Positive for Candida dubliniensis\":2,\"Positive for Candida glabrata\":3,\"Positive for Candida guilliermondii\":4,\"Positive for Candida krusei\":5,\"Positive for Candida lusitaniae\":6,\"Positive for Candida parapsilosis\":7,\"Positive for Candida rugosa\":8,\"Positive for Candida tropicalis\":9,\"Positive for Enterococcus faecalis\":10,\"Positive for Staphylococcus aureus\":11,\"Positive for Staphylococcus epidermidis\":12,\"Positive for Streptococcus anginosus\":13,\"Positive for Streptococcus bovis\":14,\"Positive for Streptococcus mitis\":15,\"Positive for Streptococcus oralis\":16,\"Positive for Streptococcus pneumonia\":17,\"Positive for Streptococcus pneumoniae\":18,\"Positive for Streptococcus salivarius\":19,\"Positive for Streptococcus sanguinis\":20,\"Positive for Streptococcus viridans\":21}},inplace=True)\n",
    "test_data.replace({'EKG':{\"None\":0,\"Abnormal\":1,\"Normal\":2,\"Shows an elevated ST segment and PR interval consistent with pericarditis\":3,\"Shows atrial fibrillation\":4,\"Shows diffuse ST depression and PR elevation consistent with pericarditis\":5,\"Shows electrical alternans consistent with pericarditis\":6,\"Shows evidence of aortic stenosis\":7,\"Shows evidence of aortic valve regurgitation\":8,\"Shows evidence of arrhythmogenic right ventricular cardiomyopathy\":9,\"Shows evidence of atrial fibrillation and left ventricular hypertrophy\":10,\"Shows evidence of atrial fibrillation and valve regurgitation\":11,\"Shows evidence of dilated cardiomyopathy\":12,\"Shows evidence of endocarditis\":13,\"Shows evidence of hypertrophic cardiomyopathy\":14,\"Shows evidence of left bundle branch block\":15,\"Shows evidence of left bundle branch block and left ventricular hypertrophy\":16,\"Shows evidence of left ventricular dysfunction and valve regurgitation\":17,\"Shows evidence of left ventricular hypertrophy\":18,\"Shows evidence of left ventricular hypertrophy and atrial fibrillation\":19,\"Shows evidence of left ventricular hypertrophy and left atrial enlargement\":20,\"Shows evidence of left ventricular hypertrophy and ST-segment depression\":21,\"Shows evidence of left ventricular hypertrophy and ST-segment elevation\":22,\"Shows evidence of mitral regurgitation\":23,\"Shows evidence of mitral regurgitation and atrial fibrillation\":24,\"Shows evidence of mitral stenosis\":25,\"Shows evidence of mitral valve regurgitation\":26,\"Shows evidence of pericarditis\":27,\"Shows evidence of pericarditis and atrial fibrillation\":28,\"Shows evidence of pericarditis and left atrial enlargement\":29,\"Shows evidence of pericarditis and left bundle branch block\":30,\"Shows evidence of pericarditis and left ventricular hypertrophy\":31,\"Shows evidence of pericarditis and right bundle branch block\":32,\"Shows evidence of pericarditis and right ventricular hypertrophy\":33,\"Shows evidence of pericarditis and sinus tachycardia\":34,\"Shows evidence of pericarditis and valve regurgitation\":35,\"Shows evidence of pulmonary stenosis\":36,\"Shows evidence of restrictive cardiomyopathy\":37,\"Shows evidence of right bundle branch block\":38,\"Shows evidence of right bundle branch block and left ventricular hypertrophy\":39,\"Shows evidence of ST-segment depression in leads II, III, and aVF\":40,\"Shows evidence of Takotsubo cardiomyopathy\":41,\"Shows evidence of tricuspid stenosis\":42,\"Shows evidence of tricuspid valve regurgitation\":43,\"Shows evidence of T-wave inversion in leads V1-V4\":44,\"Shows left bundle branch block\":45,\"Shows left ventricular hypertrophy\":46,\"Shows low voltage QRS consistent with pericarditis\":47,\"Shows sinus tachycardia\":48,\"Shows sinus tachycardia and diffuse ST elevation consistent with pericarditis\":49,\"Shows ST-segment elevation\":50,\"Shows evidence of atrial enlargement\":51,\"Shows evidence of right ventricular hypertrophy\":52,\"Shows evidence of left ventricular hypertrophy and restricted diastolic filling\":53,\"Shows low voltage and electrical alternans\":54,\"Shows sinus tachycardia and low voltage\":55,\"Shows evidence of atrial enlargement and low voltage QRS complex\":56,\"Shows evidence of atrial fibrillation\":57,\"Shows evidence of left ventricular hypertrophy and right atrial dilation\":58,\"Shows evidence of pericardial thickening\":59}},inplace=True)\n",
    "test_data.replace({'Cardiac CT':{\"None\":0,\"Shows a 100% dilation of the proximal aorta\":\"Shows dilation of the proximal aorta\",\"Shows a 110% dilation of the proximal aorta\":\"Shows dilation of the proximal aorta\",\"Shows a 120% dilation of the proximal aorta\":\"Shows dilation of the proximal aorta\",\"Shows a 130% dilation of the proximal aorta\":\"Shows dilation of the proximal aorta\",\"Shows a 25% dilation of the infrarenal aorta\":\"Shows dilation of the infrarenal aorta\",\"Shows a 30% dilation of the abdominal aorta\":\"Shows dilation of the abdominal aorta\",\"Shows a 30% dilation of the infrarenal aorta\":\"Shows dilation of the infrarenal aorta\",\"Shows a 35% dilation of the infrarenal aorta\":\"Shows dilation of the infrarenal aorta\",\"Shows a 38% dilation of the infrarenal aorta\":\"Shows dilation of the infrarenal aorta\",\"Shows a 40% dilation of the abdominal aorta\":\"Shows dilation of the abdominal aorta\",\"Shows a 40% dilation of the infrarenal aorta\":\"Shows dilation of the infrarenal aorta\",\"Shows a 40% dilation of the thoracic aorta\":\"Shows dilation of the thoracic aorta\",\"Shows a 40% dilation of the thoracoabdominal aorta\":\"Shows dilation of the thoracoabdominal aorta\",\"Shows a 42% dilation of the infrarenal aorta\":\"Shows dilation of the infrarenal aorta\",\"Shows a 45% dilation of the infrarenal aorta\":\"Shows dilation of the infrarenal aorta\",\"Shows a 45% dilation of the thoracic aorta\":\"Shows dilation of the thoracic aorta\",\"Shows a 50% blockage in the left anterior descending coronary artery\":\"Shows blockage in the left anterior descending coronary artery\",\"Shows a 50% dilation of the abdominal aorta\":\"Shows dilation of the abdominal aorta\",\"Shows a 50% dilation of the proximal aorta\":\"Shows dilation of the proximal aorta\",\"Shows a 50% dilation of the thoracic aorta\":\"Shows dilation of the thoracic aorta\",\"Shows a 50% dilation of the thoracoabdominal aorta\":\"Shows dilation of the thoracoabdominal aorta\",\"Shows a 55% dilation of the proximal aorta\":\"Shows dilation of the proximal aorta\",\"Shows a 55% dilation of the thoracic aorta\":\"Shows dilation of the thoracic aorta\",\"Shows a 60% blockage in the left main coronary artery\":\"Shows blockage in the left main coronary artery\",\"Shows a 60% blockage in the right coronary artery\":\"Shows blockage in the right coronary artery\",\"Shows a 60% dilation of the abdominal aorta\":\"Shows dilation of the abdominal aorta\",\"Shows a 60% dilation of the proximal aorta\":\"Shows dilation of the proximal aorta\",\"Shows a 60% dilation of the thoracic aorta\":\"Shows dilation of the thoracic aorta\",\"Shows a 60% dilation of the thoracoabdominal aorta\":\"Shows dilation of the thoracoabdominal aorta\",\"Shows a 65% dilation of the thoracic aorta\":\"Shows dilation of the thoracic aorta\",\"Shows a 70% blockage in the left anterior descending coronary artery\":\"Shows blockage in the left anterior descending coronary artery\",\"Shows a 70% blockage in the right coronary artery\":\"Shows blockage in the right coronary artery\",\"Shows a 70% dilation of the abdominal aorta\":\"Shows dilation of the abdominal aorta\",\"Shows a 70% dilation of the proximal aorta\":\"Shows dilation of the proximal aorta\",\"Shows a 70% dilation of the thoracic aorta\":\"Shows dilation of the thoracic aorta\",'Shows a 70% dilation of the thoracoabdominal aorta':\"Shows dilation of the thoracoabdominal aorta\",\"Shows a 75% blockage in the left anterior descending coronary artery\":\"Shows blockage in the left anterior descending coronary artery\",\"Shows a 75% dilation of the thoracic aorta\":\"Shows dilation of the thoracic aorta\",\"Shows a 80% blockage in the left circumflex coronary artery\":\"Shows blockage in the left circumflex coronary artery\",\"Shows a 80% dilation of the proximal aorta\":\"Shows dilation of the proximal aorta\",\"Shows a 80% dilation of the thoracoabdominal aorta\":\"Shows dilation of the thoracoabdominal aorta\",\"Shows a 80% dilation of the thoracoabdominal aorta\":\"Shows dilation of the thoracoabdominal aorta\",\"Shows a 90% blockage in the right coronary artery\":\"Shows blockage in the right coronary artery\",\"Shows a 90% dilation of the proximal aorta\":\"Shows dilation of the proximal aorta\",\"Shows a 90% dilation of the thoracic aorta\":\"Shows dilation of the thoracic aorta\",\"Shows a 90% dilation of the thoracoabdominal aorta\":\"Shows dilation of the thoracoabdominal aorta\",\"Shows a mild dilatation in the left ventricle\":1,\"Shows a mild dysfunction of the left ventricle\":2,\"Shows a mild dysfunction of the right ventricle\":3,\"Shows a mild hypertrophy in the left ventricle\":4,\"Shows a mild regurgitation in the mitral valve\":5,\"Shows a mild restriction in the ventricular filling\":6,\"Shows a mild stenosis in the mitral valve\":7,\"Shows a mild stenosis in the pulmonary valve\":8,\"Shows a mild stenosis in the tricuspid valve\":9,\"Shows a moderate dilatation in the left ventricle\":10,\"Shows a moderate dysfunction of the left ventricle\":11,\"Shows a moderate dysfunction of the right ventricle\":12,\"Shows a moderate hypertrophy in the left ventricle\":13,\"Shows a moderate hypertrophy in the right ventricle\":14,\"Shows a moderate regurgitation in the mitral valve\":15,\"Shows a moderate restriction in the ventricular filling\":16,\"Shows a moderate stenosis in the aortic valve\":17,\"Shows a moderate stenosis in the mitral valve\":18,\"Shows a moderate stenosis in the pulmonary valve\":19,\"Shows a moderate stenosis in the tricuspid valve\":20,\"Shows a severe dilatation in the left ventricle\":21,\"Shows a severe dysfunction of the left ventricle\":22,\"Shows a severe dysfunction of the right ventricle\":23,\"Shows a severe hypertrophy in the left ventricle\":24,\"Shows a severe hypertrophy in the right ventricle\":25,\"Shows a severe regurgitation in the mitral valve\":26,\"Shows a severe restriction in the ventricular filling\":27,\"Shows a severe stenosis in the aortic valve\":28,\"Shows a severe stenosis in the mitral valve\":29,\"Shows a severe stenosis in the tricuspid valve\":30,\"Shows constrictive pericarditis\":31,\"Shows effusion in the pericardium\":32,\"Shows pericardial effusion and tamponade\":33,\"Shows pericarditis with myocarditis\":34,\"Shows thickening of the pericardium\":35}},inplace=True)\n",
    "test_data.replace({'Chest x-ray':{\"None\":0,\"Shows hyperinflation and bronchial wall thickening\":1,\"Shows hyperinflation, bronchial wall thickening, and increased vascular markings\":2,\"Shows increased vascular markings and signs of chronic changes in the lungs\":3,\"Shows increased vascular markings and signs of lung restriction\":4,\"Shows increased vascular markings and small areas of consolidation in the lungs\":5,\"Shows increased vascular markings and small areas of fibrosis in the lungs\":6,\"Shows increased vascular markings in the lungs\":7,\"Shows increased vascular markings in the lungs, small areas of fibrosis, and signs of lung restriction\":8,\"Shows increased vascular markings, small areas of fibrosis and signs of lung restriction\":9,\"Shows increased vascular markings, small areas of fibrosis, and signs of chronic changes in the lungs\":10,\"Shows increased vascular markings, small areas of fibrosis, and signs of lung restriction\":11,\"Shows normal lung structures with no obvious abnormalities\":12}},inplace=True)\n",
    "test_data.replace({'Previous illnesses':{\"None\":0,\"Aortic valve replacement surgery\":1,\"Mitral valve replacement surgery\":2,\"Recent chest surgery\":3,\"Recent viral infection\":4,\"Tricuspid valve replacement surgery\":5}},inplace=True)\n",
    "test_data.replace({'Pulmonary function tests':{\"None\":0,\"Shows decreased lung capacity\":1,\"Shows decreased lung capacity and reduced diffusing capacity of the lung for carbon monoxide\":2,\"Shows decreased lung capacity, reduced diffusing capacity of the lung for carbon monoxide and decreased lung volumes\":3,\"Shows normal lung capacity\":4}},inplace=True)\n",
    "test_data.replace({'Spirometry':{\"None\":0,\"Shows decreased lung function and increased airway resistance\":1}},inplace=True)\n",
    "test_data.replace({'Diagnosis':{'Coronary artery disease (CAD)':0, 'Mitral regurgitation':1, 'Mitral stenosis':2, 'Aortic stenosis':3, 'Tricuspid stenosis':4,'Pulmonary stenosis':5, 'Dilated cardiomyopathy':6, 'Hypertrophic cardiomyopathy':7, 'Restrictive cardiomyopathy':8,'Arrhythmogenic right ventricular cardiomyopathy':9, 'Takotsubo cardiomyopathy':10, 'Thoracic aortic aneurysm':11, 'Abdominal aortic aneurysm':12,'Proximal aortic aneurysm':13, 'Infrarenal aortic aneurysm':14, 'Thoracoabdominal aortic aneurysm':15, 'Acute pericarditis':16, 'Chronic pericarditis':17,'Constrictive pericarditis':18, 'Pericardial effusion with tamponade':19, 'Pericarditis with myocarditis':20, 'Acute native valve endocarditis':21,'Subacute native valve endocarditis':22, 'Infective endocarditis on prosthetic valve':23, 'Candidal endocarditis':24, 'Native valve endocarditis involving multiple valves':25,'Primary pulmonary hypertension':26, 'Secondary pulmonary hypertension due to COPD':27, 'Secondary pulmonary hypertension due to obesity and sleep apnea':28, 'Secondary pulmonary hypertension due to scleroderma':29,'Secondary pulmonary hypertension due to chronic thromboembolic disease':30}},inplace=True)\n",
    "test_data_final = test_data\n",
    "test_data_final.replace({'Cardiac CT':{\"Shows dilation of the proximal aorta\":36,\"Shows dilation of the infrarenal aorta\":37,\"Shows dilation of the abdominal aorta\":38,\"Shows dilation of the thoracic aorta\":39,\"Shows dilation of the thoracoabdominal aorta\":40,\"Shows blockage in the left main coronary artery\":41,\"Shows blockage in the left anterior descending coronary artery\":42,\"Shows blockage in the right coronary artery\":43,\"Shows blockage in the left circumflex coronary artery\":44}},inplace=True)\n",
    "test_data_final.head()\n",
    "\n",
    "# df.to_csv(r\"E:\\medical hackathon\\preprocessed_heart_training.csv\", index=False)"
   ]
  },
  {
   "cell_type": "markdown",
   "id": "72ab4900",
   "metadata": {},
   "source": [
    "### Checking for null values"
   ]
  },
  {
   "cell_type": "code",
   "execution_count": 6,
   "id": "471ba60f",
   "metadata": {},
   "outputs": [
    {
     "data": {
      "text/plain": [
       "Name                                               0\n",
       "Gender                                             0\n",
       "Age                                                0\n",
       "Chest pain                                         0\n",
       "Shortness of breath                                0\n",
       "Fatigue                                            0\n",
       "Systolic                                           0\n",
       "Diastolic                                          0\n",
       "Heart rate (bpm)                                   0\n",
       "Lung sounds                                        0\n",
       "Cholesterol level (mg/dL)                          0\n",
       "LDL level (mg/dL)                                  0\n",
       "HDL level (mg/dL)                                  0\n",
       "Diabetes                                           0\n",
       "Atrial fibrillation                                0\n",
       "Mitral valve prolapse                              0\n",
       "Rheumatic fever                                    0\n",
       "Mitral stenosis                                    0\n",
       "Aortic stenosis                                    0\n",
       "Tricuspid stenosis                                 0\n",
       "Pulmonary stenosis                                 0\n",
       "Dilated cardiomyopathy                             0\n",
       "Hypertrophic cardiomyopathy                        0\n",
       "Restrictive cardiomyopathy                         0\n",
       "Arrhythmogenic right ventricular cardiomyopathy    0\n",
       "Takotsubo cardiomyopathy                           0\n",
       "Drug use                                           0\n",
       "Fever                                              0\n",
       "Chills                                             0\n",
       "Joint pain                                         0\n",
       "Alcoholism                                         0\n",
       "Hypertension                                       0\n",
       "Fainting                                           0\n",
       "Dizziness                                          0\n",
       "Smoking                                            0\n",
       "High cholesterol                                   0\n",
       "Echocardiogram                                     0\n",
       "Blood culture                                      0\n",
       "EKG                                                0\n",
       "Cardiac CT                                         0\n",
       "Obesity                                            0\n",
       "Murmur                                             0\n",
       "Chest x-ray                                        0\n",
       "Previous illnesses                                 0\n",
       "Pulmonary function tests                           0\n",
       "Spirometry                                         0\n",
       "Diagnosis                                          0\n",
       "Medications                                        0\n",
       "Treatment                                          0\n",
       "dtype: int64"
      ]
     },
     "execution_count": 6,
     "metadata": {},
     "output_type": "execute_result"
    }
   ],
   "source": [
    "train_data.isnull().sum()"
   ]
  },
  {
   "cell_type": "markdown",
   "id": "5c6ab28f",
   "metadata": {},
   "source": [
    "### Counting the number of datas for different Diagnosis"
   ]
  },
  {
   "cell_type": "code",
   "execution_count": 7,
   "id": "423675bb",
   "metadata": {},
   "outputs": [
    {
     "data": {
      "text/plain": [
       "30    12\n",
       "20    12\n",
       "29    12\n",
       "28    11\n",
       "24    10\n",
       "22    10\n",
       "21    10\n",
       "0     10\n",
       "19     9\n",
       "23     9\n",
       "12     9\n",
       "13     9\n",
       "14     9\n",
       "27     9\n",
       "16     9\n",
       "17     9\n",
       "18     9\n",
       "26     9\n",
       "25     9\n",
       "2      8\n",
       "3      8\n",
       "4      8\n",
       "8      8\n",
       "5      8\n",
       "6      8\n",
       "7      8\n",
       "9      8\n",
       "1      8\n",
       "11     8\n",
       "10     8\n",
       "15     8\n",
       "Name: Diagnosis, dtype: int64"
      ]
     },
     "execution_count": 7,
     "metadata": {},
     "output_type": "execute_result"
    }
   ],
   "source": [
    "train_data['Diagnosis'].value_counts()"
   ]
  },
  {
   "cell_type": "markdown",
   "id": "d770204c",
   "metadata": {},
   "source": [
    "### Splitting the input and target values"
   ]
  },
  {
   "cell_type": "code",
   "execution_count": 8,
   "id": "893534d4",
   "metadata": {},
   "outputs": [],
   "source": [
    "# iloc: takes interger values of [rows, columns]\n",
    "X_train = train_data.iloc[:, 1:46]\n",
    "X_test = test_data.iloc[:, 1:46]\n",
    "\n",
    "# taking second last column\n",
    "y_train = train_data.iloc[:, -3]\n",
    "y_test = test_data.iloc[:, -3]"
   ]
  },
  {
   "cell_type": "code",
   "execution_count": 9,
   "id": "aa6a83b2",
   "metadata": {},
   "outputs": [
    {
     "data": {
      "text/plain": [
       "0       0\n",
       "1       0\n",
       "2       0\n",
       "3       0\n",
       "4       0\n",
       "       ..\n",
       "277    18\n",
       "278    18\n",
       "279    18\n",
       "280    18\n",
       "281    18\n",
       "Name: Diagnosis, Length: 282, dtype: int64"
      ]
     },
     "execution_count": 9,
     "metadata": {},
     "output_type": "execute_result"
    }
   ],
   "source": [
    "y_train"
   ]
  },
  {
   "cell_type": "markdown",
   "id": "d27e4dd7",
   "metadata": {},
   "source": [
    "### Splitting the data for train and test"
   ]
  },
  {
   "cell_type": "code",
   "execution_count": null,
   "id": "ca77b3b5",
   "metadata": {},
   "outputs": [],
   "source": []
  },
  {
   "cell_type": "markdown",
   "id": "cbebfa78",
   "metadata": {},
   "source": [
    "### Use of Random Forest Classifier"
   ]
  },
  {
   "cell_type": "code",
   "execution_count": 10,
   "id": "0b21e7a4",
   "metadata": {},
   "outputs": [],
   "source": [
    "ranforcls = RandomForestClassifier(criterion = \"gini\", max_depth= 8, min_samples_split = 10, random_state = 42)"
   ]
  },
  {
   "cell_type": "code",
   "execution_count": 11,
   "id": "5bc949e1",
   "metadata": {},
   "outputs": [
    {
     "data": {
      "text/plain": [
       "RandomForestClassifier(max_depth=8, min_samples_split=10, random_state=42)"
      ]
     },
     "execution_count": 11,
     "metadata": {},
     "output_type": "execute_result"
    }
   ],
   "source": [
    "ranforcls.fit(X_train, y_train)"
   ]
  },
  {
   "cell_type": "code",
   "execution_count": 12,
   "id": "45cfb9c5",
   "metadata": {},
   "outputs": [
    {
     "data": {
      "text/plain": [
       "array([ 0,  0,  1,  1,  2,  2,  3,  3,  4,  4,  5,  5,  6,  6,  7,  7,  8,\n",
       "        8,  9,  9, 10, 10, 11, 11, 12, 12, 13, 13, 14, 15, 15, 20, 16, 19,\n",
       "       18, 19, 19, 20, 20, 22, 21, 22, 22, 23, 24, 24, 24, 22, 22, 30, 26,\n",
       "       30, 27, 19, 20, 17, 14, 14, 23, 23, 18, 18], dtype=int64)"
      ]
     },
     "execution_count": 12,
     "metadata": {},
     "output_type": "execute_result"
    }
   ],
   "source": [
    "y_pred=ranforcls.predict(X_test)\n",
    "y_pred"
   ]
  },
  {
   "cell_type": "code",
   "execution_count": null,
   "id": "c6679af0",
   "metadata": {},
   "outputs": [],
   "source": []
  },
  {
   "cell_type": "code",
   "execution_count": 13,
   "id": "2a1e73ed",
   "metadata": {},
   "outputs": [
    {
     "data": {
      "text/plain": [
       "array([0.00452629, 0.04009829, 0.00721817, 0.00613783, 0.00077694,\n",
       "       0.02099133, 0.01886908, 0.04617507, 0.0090031 , 0.01521072,\n",
       "       0.01494337, 0.02200022, 0.        , 0.        , 0.02120061,\n",
       "       0.01083625, 0.01840031, 0.01915009, 0.03019642, 0.02191162,\n",
       "       0.02596211, 0.01937433, 0.02021318, 0.02118411, 0.02229627,\n",
       "       0.00071338, 0.03213078, 0.02208552, 0.00750679, 0.        ,\n",
       "       0.009356  , 0.01301951, 0.01431111, 0.01778486, 0.00243381,\n",
       "       0.04819409, 0.04253253, 0.06637713, 0.08886425, 0.01940942,\n",
       "       0.02391148, 0.05390714, 0.02352645, 0.05673359, 0.02052644])"
      ]
     },
     "execution_count": 13,
     "metadata": {},
     "output_type": "execute_result"
    }
   ],
   "source": [
    "ranforcls.feature_importances_"
   ]
  },
  {
   "cell_type": "code",
   "execution_count": 14,
   "id": "150a927a",
   "metadata": {},
   "outputs": [
    {
     "data": {
      "text/plain": [
       "Index(['Gender', 'Age', 'Chest pain', 'Shortness of breath', 'Fatigue',\n",
       "       'Systolic', 'Diastolic', 'Heart rate (bpm)', 'Lung sounds',\n",
       "       'Cholesterol level (mg/dL)', 'LDL level (mg/dL)', 'HDL level (mg/dL)',\n",
       "       'Diabetes', 'Atrial fibrillation', 'Mitral valve prolapse',\n",
       "       'Rheumatic fever', 'Mitral stenosis', 'Aortic stenosis',\n",
       "       'Tricuspid stenosis', 'Pulmonary stenosis', 'Dilated cardiomyopathy',\n",
       "       'Hypertrophic cardiomyopathy', 'Restrictive cardiomyopathy',\n",
       "       'Arrhythmogenic right ventricular cardiomyopathy',\n",
       "       'Takotsubo cardiomyopathy', 'Drug use', 'Fever', 'Chills', 'Joint pain',\n",
       "       'Alcoholism', 'Hypertension', 'Fainting', 'Dizziness', 'Smoking',\n",
       "       'High cholesterol', 'Echocardiogram', 'Blood culture', 'EKG',\n",
       "       'Cardiac CT', 'Obesity', 'Murmur', 'Chest x-ray', 'Previous illnesses',\n",
       "       'Pulmonary function tests', 'Spirometry'],\n",
       "      dtype='object')"
      ]
     },
     "execution_count": 14,
     "metadata": {},
     "output_type": "execute_result"
    }
   ],
   "source": [
    "X_train.columns"
   ]
  },
  {
   "cell_type": "code",
   "execution_count": 15,
   "id": "dbe42f30",
   "metadata": {},
   "outputs": [],
   "source": [
    "# np.array([test_data.iloc[0,1:-3]])"
   ]
  },
  {
   "cell_type": "code",
   "execution_count": 16,
   "id": "e653a70b",
   "metadata": {},
   "outputs": [],
   "source": [
    "# y_pred = ranforcls.predict(np.array([test_data.iloc[0,1:-3]]))"
   ]
  },
  {
   "cell_type": "code",
   "execution_count": 17,
   "id": "4bc97d81",
   "metadata": {},
   "outputs": [],
   "source": [
    "# y_pred"
   ]
  },
  {
   "cell_type": "code",
   "execution_count": 18,
   "id": "96f0fc34",
   "metadata": {},
   "outputs": [],
   "source": [
    "# y_test"
   ]
  },
  {
   "cell_type": "markdown",
   "id": "7cea2caf",
   "metadata": {},
   "source": [
    "### Checking the accuracy of our model"
   ]
  },
  {
   "cell_type": "code",
   "execution_count": 19,
   "id": "62c11c76",
   "metadata": {},
   "outputs": [
    {
     "data": {
      "text/plain": [
       "0.8548387096774194"
      ]
     },
     "execution_count": 19,
     "metadata": {},
     "output_type": "execute_result"
    }
   ],
   "source": [
    "accuracy_score(y_test, y_pred)"
   ]
  },
  {
   "cell_type": "markdown",
   "id": "be0be85e",
   "metadata": {},
   "source": [
    "### Checking the accuracy of each folds of the model ( 6 different folds )"
   ]
  },
  {
   "cell_type": "code",
   "execution_count": 20,
   "id": "6fc53c99",
   "metadata": {},
   "outputs": [],
   "source": [
    "kf = KFold(n_splits = 6, shuffle= True, random_state=42)\n",
    "\n",
    "cv_scores = cross_val_score(ranforcls, X_train, y_train, cv=kf)"
   ]
  },
  {
   "cell_type": "code",
   "execution_count": 21,
   "id": "88b7a27e",
   "metadata": {},
   "outputs": [
    {
     "data": {
      "text/plain": [
       "array([0.93617021, 0.91489362, 0.78723404, 0.85106383, 0.80851064,\n",
       "       0.74468085])"
      ]
     },
     "execution_count": 21,
     "metadata": {},
     "output_type": "execute_result"
    }
   ],
   "source": [
    "cv_scores"
   ]
  },
  {
   "cell_type": "markdown",
   "id": "d9dbe832",
   "metadata": {},
   "source": [
    "### Testing of model by feeding new inputs"
   ]
  },
  {
   "cell_type": "code",
   "execution_count": 66,
   "id": "d3315f03",
   "metadata": {},
   "outputs": [],
   "source": [
    "# input_sample=(1,55,1,1,1,140,90,100,1,220,150,40,0,0,0,0,0,0,0,0,0,0,0,0,0,0,0,0,0,0,1,0,0,1,1,0,0,18,17,0,1,0,0,0,0)\n",
    "input_sample = (0,  68,   1,   1,   1, 130,  80,  95,   1, 210, 140,  40,   0,   1,   1,   0,   0,   0,\n",
    "    0,   0,   0,   0,   0,   0,   0,   0,   0,   0,   0,   0,   1,   0,   0,   0,   1,   0,\n",
    "    0,  24,  26,   0,   1,   0,   0,   0,   0)\n",
    "# test_data.iloc[0]\n",
    "input_np_array=np.asarray(input_sample)"
   ]
  },
  {
   "cell_type": "code",
   "execution_count": 68,
   "id": "53c0b5a9",
   "metadata": {},
   "outputs": [],
   "source": [
    "input_reshape=input_np_array.reshape(1,-1)"
   ]
  },
  {
   "cell_type": "code",
   "execution_count": 69,
   "id": "bcde5384",
   "metadata": {},
   "outputs": [
    {
     "data": {
      "text/plain": [
       "array([[  0,  68,   1,   1,   1, 130,  80,  95,   1, 210, 140,  40,   0,\n",
       "          1,   1,   0,   0,   0,   0,   0,   0,   0,   0,   0,   0,   0,\n",
       "          0,   0,   0,   0,   1,   0,   0,   0,   1,   0,   0,  24,  26,\n",
       "          0,   1,   0,   0,   0,   0]])"
      ]
     },
     "execution_count": 69,
     "metadata": {},
     "output_type": "execute_result"
    }
   ],
   "source": [
    "input_reshape"
   ]
  },
  {
   "cell_type": "markdown",
   "id": "975a9ae6",
   "metadata": {},
   "source": [
    "### Predicting by importing ANN model"
   ]
  },
  {
   "cell_type": "code",
   "execution_count": 70,
   "id": "a70dfbf1",
   "metadata": {},
   "outputs": [],
   "source": [
    "import tensorflow as tf\n",
    "\n",
    "model = tf.keras.models.load_model(r'E:\\medical hackathon\\medical hackathon files\\Medical_Hackathon\\hdnn2')"
   ]
  },
  {
   "cell_type": "code",
   "execution_count": 71,
   "id": "4ef5a55c",
   "metadata": {},
   "outputs": [
    {
     "data": {
      "text/plain": [
       "array([[2.3756741e-28, 9.3959242e-01, 6.0407594e-02, 6.0732519e-30,\n",
       "        3.6521854e-09, 6.3653929e-15, 2.3868219e-19, 1.1470094e-14,\n",
       "        5.9322678e-16, 0.0000000e+00, 4.7487134e-21, 3.5829392e-24,\n",
       "        9.6295060e-37, 1.4040555e-12, 9.3844623e-16, 4.8757746e-36,\n",
       "        1.4426203e-26, 3.6122915e-18, 7.8208119e-25, 0.0000000e+00,\n",
       "        0.0000000e+00, 0.0000000e+00, 0.0000000e+00, 4.7348636e-26,\n",
       "        4.5844463e-33, 5.9606104e-35, 0.0000000e+00, 0.0000000e+00,\n",
       "        0.0000000e+00, 0.0000000e+00, 1.1390928e-26]], dtype=float32)"
      ]
     },
     "execution_count": 71,
     "metadata": {},
     "output_type": "execute_result"
    }
   ],
   "source": [
    "prediction = model.predict(input_reshape)\n",
    "prediction"
   ]
  },
  {
   "cell_type": "markdown",
   "id": "c305d35e",
   "metadata": {},
   "source": [
    "### Predicting by using Random Forest classifier"
   ]
  },
  {
   "cell_type": "code",
   "execution_count": 72,
   "id": "2aa2a69f",
   "metadata": {
    "scrolled": true
   },
   "outputs": [
    {
     "name": "stderr",
     "output_type": "stream",
     "text": [
      "c:\\users\\acer\\appdata\\local\\programs\\python\\python38\\lib\\site-packages\\sklearn\\base.py:445: UserWarning: X does not have valid feature names, but RandomForestClassifier was fitted with feature names\n",
      "  warnings.warn(\n"
     ]
    },
    {
     "data": {
      "text/plain": [
       "array([1], dtype=int64)"
      ]
     },
     "execution_count": 72,
     "metadata": {},
     "output_type": "execute_result"
    }
   ],
   "source": [
    "predictionran = ranforcls.predict(input_reshape)\n",
    "predictionran"
   ]
  },
  {
   "cell_type": "code",
   "execution_count": 73,
   "id": "a50d96ef",
   "metadata": {},
   "outputs": [
    {
     "data": {
      "text/plain": [
       "0.9395924"
      ]
     },
     "execution_count": 73,
     "metadata": {},
     "output_type": "execute_result"
    }
   ],
   "source": [
    "max(max(prediction))"
   ]
  },
  {
   "cell_type": "code",
   "execution_count": 74,
   "id": "7855a22f",
   "metadata": {},
   "outputs": [
    {
     "data": {
      "text/plain": [
       "1"
      ]
     },
     "execution_count": 74,
     "metadata": {},
     "output_type": "execute_result"
    }
   ],
   "source": [
    "result = np.argmax(prediction)\n",
    "result"
   ]
  },
  {
   "cell_type": "code",
   "execution_count": 75,
   "id": "a44f5b0b",
   "metadata": {},
   "outputs": [
    {
     "data": {
      "text/html": [
       "<div>\n",
       "<style scoped>\n",
       "    .dataframe tbody tr th:only-of-type {\n",
       "        vertical-align: middle;\n",
       "    }\n",
       "\n",
       "    .dataframe tbody tr th {\n",
       "        vertical-align: top;\n",
       "    }\n",
       "\n",
       "    .dataframe thead th {\n",
       "        text-align: right;\n",
       "    }\n",
       "</style>\n",
       "<table border=\"1\" class=\"dataframe\">\n",
       "  <thead>\n",
       "    <tr style=\"text-align: right;\">\n",
       "      <th></th>\n",
       "      <th>Coronary artery disease (CAD)</th>\n",
       "      <th>Mitral regurgitation</th>\n",
       "      <th>Mitral stenosis</th>\n",
       "      <th>Aortic stenosis</th>\n",
       "      <th>Tricuspid stenosis</th>\n",
       "      <th>Pulmonary stenosis</th>\n",
       "      <th>Dilated cardiomyopathy</th>\n",
       "      <th>Hypertrophic cardiomyopathy</th>\n",
       "      <th>Restrictive cardiomyopathy</th>\n",
       "      <th>Arrhythmogenic right ventricular cardiomyopathy</th>\n",
       "      <th>...</th>\n",
       "      <th>Acute native valve endocarditis</th>\n",
       "      <th>Subacute native valve endocarditis</th>\n",
       "      <th>Infective endocarditis on prosthetic valve</th>\n",
       "      <th>Candidal endocarditis</th>\n",
       "      <th>Native valve endocarditis involving multiple valves</th>\n",
       "      <th>Primary pulmonary hypertension</th>\n",
       "      <th>Secondary pulmonary hypertension due to COPD</th>\n",
       "      <th>Secondary pulmonary hypertension due to obesity and sleep apnea</th>\n",
       "      <th>Secondary pulmonary hypertension due to scleroderma</th>\n",
       "      <th>Secondary pulmonary hypertension due to chronic thromboembolic disease</th>\n",
       "    </tr>\n",
       "  </thead>\n",
       "  <tbody>\n",
       "    <tr>\n",
       "      <th>0</th>\n",
       "      <td>0</td>\n",
       "      <td>1</td>\n",
       "      <td>2</td>\n",
       "      <td>3</td>\n",
       "      <td>4</td>\n",
       "      <td>5</td>\n",
       "      <td>6</td>\n",
       "      <td>7</td>\n",
       "      <td>8</td>\n",
       "      <td>9</td>\n",
       "      <td>...</td>\n",
       "      <td>21</td>\n",
       "      <td>22</td>\n",
       "      <td>23</td>\n",
       "      <td>24</td>\n",
       "      <td>25</td>\n",
       "      <td>26</td>\n",
       "      <td>27</td>\n",
       "      <td>28</td>\n",
       "      <td>29</td>\n",
       "      <td>30</td>\n",
       "    </tr>\n",
       "  </tbody>\n",
       "</table>\n",
       "<p>1 rows × 31 columns</p>\n",
       "</div>"
      ],
      "text/plain": [
       "   Coronary artery disease (CAD)  Mitral regurgitation  Mitral stenosis  \\\n",
       "0                              0                     1                2   \n",
       "\n",
       "   Aortic stenosis  Tricuspid stenosis  Pulmonary stenosis  \\\n",
       "0                3                   4                   5   \n",
       "\n",
       "   Dilated cardiomyopathy  Hypertrophic cardiomyopathy  \\\n",
       "0                       6                            7   \n",
       "\n",
       "   Restrictive cardiomyopathy  \\\n",
       "0                           8   \n",
       "\n",
       "   Arrhythmogenic right ventricular cardiomyopathy  ...  \\\n",
       "0                                                9  ...   \n",
       "\n",
       "   Acute native valve endocarditis  Subacute native valve endocarditis  \\\n",
       "0                               21                                  22   \n",
       "\n",
       "   Infective endocarditis on prosthetic valve  Candidal endocarditis  \\\n",
       "0                                          23                     24   \n",
       "\n",
       "   Native valve endocarditis involving multiple valves  \\\n",
       "0                                                 25     \n",
       "\n",
       "   Primary pulmonary hypertension  \\\n",
       "0                              26   \n",
       "\n",
       "   Secondary pulmonary hypertension due to COPD  \\\n",
       "0                                            27   \n",
       "\n",
       "   Secondary pulmonary hypertension due to obesity and sleep apnea  \\\n",
       "0                                                 28                 \n",
       "\n",
       "   Secondary pulmonary hypertension due to scleroderma  \\\n",
       "0                                                 29     \n",
       "\n",
       "   Secondary pulmonary hypertension due to chronic thromboembolic disease  \n",
       "0                                                 30                       \n",
       "\n",
       "[1 rows x 31 columns]"
      ]
     },
     "execution_count": 75,
     "metadata": {},
     "output_type": "execute_result"
    }
   ],
   "source": [
    "df1 = pd.read_csv(\"E:\\medical hackathon\\medical hackathon files\\Medical_Hackathon\\Dataset\\Dignosis.csv\")\n",
    "df1"
   ]
  },
  {
   "cell_type": "code",
   "execution_count": 76,
   "id": "a7102ede",
   "metadata": {},
   "outputs": [],
   "source": [
    "class color:\n",
    "   PURPLE = '\\033[95m'\n",
    "   CYAN = '\\033[96m'\n",
    "   DARKCYAN = '\\033[36m'\n",
    "   BLUE = '\\033[94m'\n",
    "   GREEN = '\\033[92m'\n",
    "   YELLOW = '\\033[93m'\n",
    "   RED = '\\033[91m'\n",
    "   BOLD = '\\033[1m'\n",
    "   UNDERLINE = '\\033[4m'\n",
    "   END = '\\033[0m'\n",
    "\n",
    "# print(color.BOLD + 'Hello, World!' + color.END)"
   ]
  },
  {
   "cell_type": "markdown",
   "id": "0671537a",
   "metadata": {},
   "source": [
    "### Random Forest ouput"
   ]
  },
  {
   "cell_type": "code",
   "execution_count": 77,
   "id": "5bed5c1a",
   "metadata": {},
   "outputs": [
    {
     "name": "stdout",
     "output_type": "stream",
     "text": [
      "Person is suffering from \u001b[91mMitral regurgitation\u001b[0m\n"
     ]
    }
   ],
   "source": [
    "predicted_value = df1.iloc[:,predictionran.astype(int)].columns[0]\n",
    "print(\"Person is suffering from\", color.RED + predicted_value + color.END)"
   ]
  },
  {
   "cell_type": "markdown",
   "id": "2da3c396",
   "metadata": {},
   "source": [
    "### ANN ouput"
   ]
  },
  {
   "cell_type": "code",
   "execution_count": 78,
   "id": "6f2f7660",
   "metadata": {},
   "outputs": [
    {
     "name": "stdout",
     "output_type": "stream",
     "text": [
      "Person is suffering from 0    1\n",
      "Name: Mitral regurgitation, dtype: int64\n"
     ]
    }
   ],
   "source": [
    "print(\"Person is suffering from\", df1.iloc[:,result])"
   ]
  },
  {
   "cell_type": "markdown",
   "id": "2c481b00",
   "metadata": {},
   "source": [
    "### Providing Decision"
   ]
  },
  {
   "cell_type": "code",
   "execution_count": 79,
   "id": "864ceca1",
   "metadata": {},
   "outputs": [
    {
     "data": {
      "text/plain": [
       "['Warfarin, losartan, atorvastatin',\n",
       " 'Warfarin, enalapril, atorvastatin',\n",
       " 'Warfarin, lisinopril, atorvastatin']"
      ]
     },
     "execution_count": 79,
     "metadata": {},
     "output_type": "execute_result"
    }
   ],
   "source": [
    "medication_data = pd.read_csv(r\"E:\\medical hackathon\\medical hackathon files\\Medical_Hackathon\\Dataset\\heart_disease_train_Data.csv\")\n",
    "medication=train_data[medication_data[\"Diagnosis\"]==predicted_value]\n",
    "medication.set_index(\"Medications\")\n",
    "all_medication=medication[[\"Medications\"]].drop_duplicates()\n",
    "list_of_medication=all_medication[\"Medications\"].tolist()\n",
    "list_of_medication"
   ]
  },
  {
   "cell_type": "code",
   "execution_count": 80,
   "id": "0b85a8a5",
   "metadata": {},
   "outputs": [
    {
     "name": "stdout",
     "output_type": "stream",
     "text": [
      "[' lisinopril', 'Warfarin', ' losartan', ' enalapril', ' atorvastatin']\n"
     ]
    }
   ],
   "source": [
    "medications_string = ','.join(list_of_medication)\n",
    "medications_string\n",
    "\n",
    "medications_list = medications_string.split(',')\n",
    "recommended_medications = list(set(medications_list))\n",
    "print(recommended_medications)"
   ]
  },
  {
   "cell_type": "code",
   "execution_count": 81,
   "id": "e5701749",
   "metadata": {},
   "outputs": [
    {
     "name": "stdout",
     "output_type": "stream",
     "text": [
      "Recommended medicines for the Mitral regurgitation are \n",
      "                 Medicine\n",
      "0    \u001b[91m lisinopril\u001b[0m\n",
      "1       \u001b[91mWarfarin\u001b[0m\n",
      "2      \u001b[91m losartan\u001b[0m\n",
      "3     \u001b[91m enalapril\u001b[0m\n",
      "4  \u001b[91m atorvastatin\u001b[0m\n"
     ]
    }
   ],
   "source": [
    "medicine_data=pd.DataFrame({'Medicine': recommended_medications})\n",
    "print(\"Recommended medicines for the \"+predicted_value+\" are \")\n",
    "print(color.RED+medicine_data+color.END)"
   ]
  },
  {
   "cell_type": "code",
   "execution_count": 83,
   "id": "229d1b90",
   "metadata": {},
   "outputs": [
    {
     "name": "stdout",
     "output_type": "stream",
     "text": [
      "Treatments\n",
      "Recommended Treatments for the Mitral regurgitation are \n",
      "                                   Treatment\n",
      "0       \u001b[91mMitral valve repair surgery\u001b[0m\n",
      "1  \u001b[91mMitral valve replacement surgery\u001b[0m\n"
     ]
    }
   ],
   "source": [
    "treatment_data = pd.read_csv(\"Dataset/heart_disease_train_Data.csv\")\n",
    "treatment=train_data[treatment_data[\"Diagnosis\"]==predicted_value]\n",
    "treatment.set_index(\"Treatment\")\n",
    "all_treatments=treatment[[\"Treatment\"]].drop_duplicates()\n",
    "list_of_treatment=all_treatments[\"Treatment\"].tolist()\n",
    "print(\"Treatments\")\n",
    "if list_of_treatment==['None']:\n",
    "    print(color.RED+\"Consult to the cardiologist\")\n",
    "else:\n",
    "    treatment_data=pd.DataFrame({'Treatment': list_of_treatment})\n",
    "    print(\"Recommended Treatments for the \"+predicted_value+\" are \")\n",
    "    print(color.RED+treatment_data+color.END)"
   ]
  }
 ],
 "metadata": {
  "kernelspec": {
   "display_name": "Python 3 (ipykernel)",
   "language": "python",
   "name": "python3"
  },
  "language_info": {
   "codemirror_mode": {
    "name": "ipython",
    "version": 3
   },
   "file_extension": ".py",
   "mimetype": "text/x-python",
   "name": "python",
   "nbconvert_exporter": "python",
   "pygments_lexer": "ipython3",
   "version": "3.8.0"
  }
 },
 "nbformat": 4,
 "nbformat_minor": 5
}
