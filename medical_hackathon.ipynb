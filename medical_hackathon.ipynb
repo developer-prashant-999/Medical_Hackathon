{
 "cells": [
  {
   "cell_type": "markdown",
   "id": "4131aa59",
   "metadata": {},
   "source": [
    "# Random Forest"
   ]
  },
  {
   "cell_type": "markdown",
   "id": "8c6d60da",
   "metadata": {},
   "source": [
    "### Importing packages"
   ]
  },
  {
   "cell_type": "code",
   "execution_count": 33,
   "id": "048bab02",
   "metadata": {},
   "outputs": [],
   "source": [
    "import pandas as pd\n",
    "import numpy as np\n",
    "import matplotlib.pyplot as plt\n",
    "from sklearn.model_selection import train_test_split\n",
    "from sklearn.ensemble import RandomForestClassifier\n",
    "from sklearn.metrics import accuracy_score\n",
    "from sklearn.model_selection import cross_val_score, KFold"
   ]
  },
  {
   "cell_type": "markdown",
   "id": "fd0006f6",
   "metadata": {},
   "source": [
    "### Reading dataset"
   ]
  },
  {
   "cell_type": "code",
   "execution_count": 34,
   "id": "0e23d2d0",
   "metadata": {},
   "outputs": [],
   "source": [
    "train_data = pd.read_csv(\"Dataset\\heart_disease_train_Data.csv\")\n",
    "test_data =pd.read_csv(\"Dataset\\heart_disease_test_Data.csv\")"
   ]
  },
  {
   "cell_type": "code",
   "execution_count": 35,
   "id": "ebf626ec",
   "metadata": {},
   "outputs": [
    {
     "data": {
      "text/html": [
       "<div>\n",
       "<style scoped>\n",
       "    .dataframe tbody tr th:only-of-type {\n",
       "        vertical-align: middle;\n",
       "    }\n",
       "\n",
       "    .dataframe tbody tr th {\n",
       "        vertical-align: top;\n",
       "    }\n",
       "\n",
       "    .dataframe thead th {\n",
       "        text-align: right;\n",
       "    }\n",
       "</style>\n",
       "<table border=\"1\" class=\"dataframe\">\n",
       "  <thead>\n",
       "    <tr style=\"text-align: right;\">\n",
       "      <th></th>\n",
       "      <th>Name</th>\n",
       "      <th>Gender</th>\n",
       "      <th>Age</th>\n",
       "      <th>Chest pain</th>\n",
       "      <th>Shortness of breath</th>\n",
       "      <th>Fatigue</th>\n",
       "      <th>Systolic</th>\n",
       "      <th>Diastolic</th>\n",
       "      <th>Heart rate (bpm)</th>\n",
       "      <th>Lung sounds</th>\n",
       "      <th>...</th>\n",
       "      <th>Cardiac CT</th>\n",
       "      <th>Obesity</th>\n",
       "      <th>Murmur</th>\n",
       "      <th>Chest x-ray</th>\n",
       "      <th>Previous illnesses</th>\n",
       "      <th>Pulmonary function tests</th>\n",
       "      <th>Spirometry</th>\n",
       "      <th>Diagnosis</th>\n",
       "      <th>Medications</th>\n",
       "      <th>Treatment</th>\n",
       "    </tr>\n",
       "  </thead>\n",
       "  <tbody>\n",
       "    <tr>\n",
       "      <th>0</th>\n",
       "      <td>Jane Doe</td>\n",
       "      <td>Female</td>\n",
       "      <td>55</td>\n",
       "      <td>1</td>\n",
       "      <td>1</td>\n",
       "      <td>1</td>\n",
       "      <td>140</td>\n",
       "      <td>90</td>\n",
       "      <td>100</td>\n",
       "      <td>1</td>\n",
       "      <td>...</td>\n",
       "      <td>Shows a 50% blockage in the left anterior desc...</td>\n",
       "      <td>0</td>\n",
       "      <td>1</td>\n",
       "      <td>None</td>\n",
       "      <td>None</td>\n",
       "      <td>None</td>\n",
       "      <td>None</td>\n",
       "      <td>Coronary artery disease (CAD)</td>\n",
       "      <td>Aspirin, metoprolol, atorvastatin</td>\n",
       "      <td>None</td>\n",
       "    </tr>\n",
       "    <tr>\n",
       "      <th>1</th>\n",
       "      <td>Mark Johnson</td>\n",
       "      <td>Male</td>\n",
       "      <td>57</td>\n",
       "      <td>1</td>\n",
       "      <td>1</td>\n",
       "      <td>1</td>\n",
       "      <td>150</td>\n",
       "      <td>80</td>\n",
       "      <td>110</td>\n",
       "      <td>1</td>\n",
       "      <td>...</td>\n",
       "      <td>Shows a 60% blockage in the right coronary artery</td>\n",
       "      <td>0</td>\n",
       "      <td>1</td>\n",
       "      <td>None</td>\n",
       "      <td>None</td>\n",
       "      <td>None</td>\n",
       "      <td>None</td>\n",
       "      <td>Coronary artery disease (CAD)</td>\n",
       "      <td>Aspirin, ramipril, atorvastatin</td>\n",
       "      <td>None</td>\n",
       "    </tr>\n",
       "    <tr>\n",
       "      <th>2</th>\n",
       "      <td>Emily Davis</td>\n",
       "      <td>Female</td>\n",
       "      <td>60</td>\n",
       "      <td>1</td>\n",
       "      <td>1</td>\n",
       "      <td>1</td>\n",
       "      <td>130</td>\n",
       "      <td>85</td>\n",
       "      <td>95</td>\n",
       "      <td>1</td>\n",
       "      <td>...</td>\n",
       "      <td>Shows a 75% blockage in the left anterior desc...</td>\n",
       "      <td>0</td>\n",
       "      <td>1</td>\n",
       "      <td>None</td>\n",
       "      <td>None</td>\n",
       "      <td>None</td>\n",
       "      <td>None</td>\n",
       "      <td>Coronary artery disease (CAD)</td>\n",
       "      <td>Aspirin, lisinopril, rosuvastatin</td>\n",
       "      <td>None</td>\n",
       "    </tr>\n",
       "    <tr>\n",
       "      <th>3</th>\n",
       "      <td>William Thompson</td>\n",
       "      <td>Male</td>\n",
       "      <td>62</td>\n",
       "      <td>1</td>\n",
       "      <td>1</td>\n",
       "      <td>1</td>\n",
       "      <td>145</td>\n",
       "      <td>90</td>\n",
       "      <td>100</td>\n",
       "      <td>1</td>\n",
       "      <td>...</td>\n",
       "      <td>Shows a 80% blockage in the left circumflex co...</td>\n",
       "      <td>0</td>\n",
       "      <td>1</td>\n",
       "      <td>None</td>\n",
       "      <td>None</td>\n",
       "      <td>None</td>\n",
       "      <td>None</td>\n",
       "      <td>Coronary artery disease (CAD)</td>\n",
       "      <td>Aspirin, metoprolol, atorvastatin</td>\n",
       "      <td>None</td>\n",
       "    </tr>\n",
       "    <tr>\n",
       "      <th>4</th>\n",
       "      <td>Ashley Johnson</td>\n",
       "      <td>Female</td>\n",
       "      <td>58</td>\n",
       "      <td>1</td>\n",
       "      <td>1</td>\n",
       "      <td>1</td>\n",
       "      <td>135</td>\n",
       "      <td>80</td>\n",
       "      <td>105</td>\n",
       "      <td>1</td>\n",
       "      <td>...</td>\n",
       "      <td>Shows a 90% blockage in the right coronary artery</td>\n",
       "      <td>0</td>\n",
       "      <td>1</td>\n",
       "      <td>None</td>\n",
       "      <td>None</td>\n",
       "      <td>None</td>\n",
       "      <td>None</td>\n",
       "      <td>Coronary artery disease (CAD)</td>\n",
       "      <td>Aspirin, simvastatin, lisinopril</td>\n",
       "      <td>None</td>\n",
       "    </tr>\n",
       "    <tr>\n",
       "      <th>...</th>\n",
       "      <td>...</td>\n",
       "      <td>...</td>\n",
       "      <td>...</td>\n",
       "      <td>...</td>\n",
       "      <td>...</td>\n",
       "      <td>...</td>\n",
       "      <td>...</td>\n",
       "      <td>...</td>\n",
       "      <td>...</td>\n",
       "      <td>...</td>\n",
       "      <td>...</td>\n",
       "      <td>...</td>\n",
       "      <td>...</td>\n",
       "      <td>...</td>\n",
       "      <td>...</td>\n",
       "      <td>...</td>\n",
       "      <td>...</td>\n",
       "      <td>...</td>\n",
       "      <td>...</td>\n",
       "      <td>...</td>\n",
       "      <td>...</td>\n",
       "    </tr>\n",
       "    <tr>\n",
       "      <th>277</th>\n",
       "      <td>Emily Wilson</td>\n",
       "      <td>Female</td>\n",
       "      <td>55</td>\n",
       "      <td>1</td>\n",
       "      <td>1</td>\n",
       "      <td>1</td>\n",
       "      <td>130</td>\n",
       "      <td>80</td>\n",
       "      <td>120</td>\n",
       "      <td>1</td>\n",
       "      <td>...</td>\n",
       "      <td>Shows constrictive pericarditis</td>\n",
       "      <td>0</td>\n",
       "      <td>1</td>\n",
       "      <td>None</td>\n",
       "      <td>None</td>\n",
       "      <td>None</td>\n",
       "      <td>None</td>\n",
       "      <td>Constrictive pericarditis</td>\n",
       "      <td>Ibuprofen, colchicine, prednisone</td>\n",
       "      <td>None</td>\n",
       "    </tr>\n",
       "    <tr>\n",
       "      <th>278</th>\n",
       "      <td>Jacob Smith</td>\n",
       "      <td>Male</td>\n",
       "      <td>48</td>\n",
       "      <td>1</td>\n",
       "      <td>1</td>\n",
       "      <td>1</td>\n",
       "      <td>130</td>\n",
       "      <td>80</td>\n",
       "      <td>120</td>\n",
       "      <td>1</td>\n",
       "      <td>...</td>\n",
       "      <td>Shows constrictive pericarditis</td>\n",
       "      <td>0</td>\n",
       "      <td>1</td>\n",
       "      <td>None</td>\n",
       "      <td>None</td>\n",
       "      <td>None</td>\n",
       "      <td>None</td>\n",
       "      <td>Constrictive pericarditis</td>\n",
       "      <td>Ibuprofen, colchicine, prednisone</td>\n",
       "      <td>None</td>\n",
       "    </tr>\n",
       "    <tr>\n",
       "      <th>279</th>\n",
       "      <td>Jane Smith</td>\n",
       "      <td>Female</td>\n",
       "      <td>65</td>\n",
       "      <td>1</td>\n",
       "      <td>1</td>\n",
       "      <td>1</td>\n",
       "      <td>140</td>\n",
       "      <td>90</td>\n",
       "      <td>110</td>\n",
       "      <td>1</td>\n",
       "      <td>...</td>\n",
       "      <td>Shows constrictive pericarditis</td>\n",
       "      <td>0</td>\n",
       "      <td>1</td>\n",
       "      <td>None</td>\n",
       "      <td>None</td>\n",
       "      <td>None</td>\n",
       "      <td>None</td>\n",
       "      <td>Constrictive pericarditis</td>\n",
       "      <td>Ibuprofen, colchicine, prednisone</td>\n",
       "      <td>None</td>\n",
       "    </tr>\n",
       "    <tr>\n",
       "      <th>280</th>\n",
       "      <td>David Johnson</td>\n",
       "      <td>Male</td>\n",
       "      <td>68</td>\n",
       "      <td>1</td>\n",
       "      <td>1</td>\n",
       "      <td>1</td>\n",
       "      <td>140</td>\n",
       "      <td>90</td>\n",
       "      <td>110</td>\n",
       "      <td>0</td>\n",
       "      <td>...</td>\n",
       "      <td>Shows constrictive pericarditis</td>\n",
       "      <td>0</td>\n",
       "      <td>1</td>\n",
       "      <td>None</td>\n",
       "      <td>None</td>\n",
       "      <td>None</td>\n",
       "      <td>None</td>\n",
       "      <td>Constrictive pericarditis</td>\n",
       "      <td>Ibuprofen, colchicine, prednisone</td>\n",
       "      <td>None</td>\n",
       "    </tr>\n",
       "    <tr>\n",
       "      <th>281</th>\n",
       "      <td>Emily Smith</td>\n",
       "      <td>Female</td>\n",
       "      <td>45</td>\n",
       "      <td>1</td>\n",
       "      <td>0</td>\n",
       "      <td>1</td>\n",
       "      <td>130</td>\n",
       "      <td>80</td>\n",
       "      <td>120</td>\n",
       "      <td>1</td>\n",
       "      <td>...</td>\n",
       "      <td>Shows constrictive pericarditis</td>\n",
       "      <td>0</td>\n",
       "      <td>1</td>\n",
       "      <td>None</td>\n",
       "      <td>None</td>\n",
       "      <td>None</td>\n",
       "      <td>None</td>\n",
       "      <td>Constrictive pericarditis</td>\n",
       "      <td>Ibuprofen, colchicine, prednisone</td>\n",
       "      <td>None</td>\n",
       "    </tr>\n",
       "  </tbody>\n",
       "</table>\n",
       "<p>282 rows × 49 columns</p>\n",
       "</div>"
      ],
      "text/plain": [
       "                 Name  Gender  Age  Chest pain  Shortness of breath  Fatigue  \\\n",
       "0            Jane Doe  Female   55           1                    1        1   \n",
       "1        Mark Johnson    Male   57           1                    1        1   \n",
       "2         Emily Davis  Female   60           1                    1        1   \n",
       "3    William Thompson    Male   62           1                    1        1   \n",
       "4      Ashley Johnson  Female   58           1                    1        1   \n",
       "..                ...     ...  ...         ...                  ...      ...   \n",
       "277      Emily Wilson  Female   55           1                    1        1   \n",
       "278       Jacob Smith    Male   48           1                    1        1   \n",
       "279        Jane Smith  Female   65           1                    1        1   \n",
       "280     David Johnson    Male   68           1                    1        1   \n",
       "281       Emily Smith  Female   45           1                    0        1   \n",
       "\n",
       "     Systolic  Diastolic  Heart rate (bpm)  Lung sounds  ...  \\\n",
       "0         140         90               100            1  ...   \n",
       "1         150         80               110            1  ...   \n",
       "2         130         85                95            1  ...   \n",
       "3         145         90               100            1  ...   \n",
       "4         135         80               105            1  ...   \n",
       "..        ...        ...               ...          ...  ...   \n",
       "277       130         80               120            1  ...   \n",
       "278       130         80               120            1  ...   \n",
       "279       140         90               110            1  ...   \n",
       "280       140         90               110            0  ...   \n",
       "281       130         80               120            1  ...   \n",
       "\n",
       "                                            Cardiac CT  Obesity  Murmur  \\\n",
       "0    Shows a 50% blockage in the left anterior desc...        0       1   \n",
       "1    Shows a 60% blockage in the right coronary artery        0       1   \n",
       "2    Shows a 75% blockage in the left anterior desc...        0       1   \n",
       "3    Shows a 80% blockage in the left circumflex co...        0       1   \n",
       "4    Shows a 90% blockage in the right coronary artery        0       1   \n",
       "..                                                 ...      ...     ...   \n",
       "277                    Shows constrictive pericarditis        0       1   \n",
       "278                    Shows constrictive pericarditis        0       1   \n",
       "279                    Shows constrictive pericarditis        0       1   \n",
       "280                    Shows constrictive pericarditis        0       1   \n",
       "281                    Shows constrictive pericarditis        0       1   \n",
       "\n",
       "     Chest x-ray  Previous illnesses  Pulmonary function tests  Spirometry  \\\n",
       "0           None                None                      None        None   \n",
       "1           None                None                      None        None   \n",
       "2           None                None                      None        None   \n",
       "3           None                None                      None        None   \n",
       "4           None                None                      None        None   \n",
       "..           ...                 ...                       ...         ...   \n",
       "277         None                None                      None        None   \n",
       "278         None                None                      None        None   \n",
       "279         None                None                      None        None   \n",
       "280         None                None                      None        None   \n",
       "281         None                None                      None        None   \n",
       "\n",
       "                         Diagnosis                        Medications  \\\n",
       "0    Coronary artery disease (CAD)  Aspirin, metoprolol, atorvastatin   \n",
       "1    Coronary artery disease (CAD)    Aspirin, ramipril, atorvastatin   \n",
       "2    Coronary artery disease (CAD)  Aspirin, lisinopril, rosuvastatin   \n",
       "3    Coronary artery disease (CAD)  Aspirin, metoprolol, atorvastatin   \n",
       "4    Coronary artery disease (CAD)   Aspirin, simvastatin, lisinopril   \n",
       "..                             ...                                ...   \n",
       "277      Constrictive pericarditis  Ibuprofen, colchicine, prednisone   \n",
       "278      Constrictive pericarditis  Ibuprofen, colchicine, prednisone   \n",
       "279      Constrictive pericarditis  Ibuprofen, colchicine, prednisone   \n",
       "280      Constrictive pericarditis  Ibuprofen, colchicine, prednisone   \n",
       "281      Constrictive pericarditis  Ibuprofen, colchicine, prednisone   \n",
       "\n",
       "     Treatment  \n",
       "0         None  \n",
       "1         None  \n",
       "2         None  \n",
       "3         None  \n",
       "4         None  \n",
       "..         ...  \n",
       "277       None  \n",
       "278       None  \n",
       "279       None  \n",
       "280       None  \n",
       "281       None  \n",
       "\n",
       "[282 rows x 49 columns]"
      ]
     },
     "execution_count": 35,
     "metadata": {},
     "output_type": "execute_result"
    }
   ],
   "source": [
    "train_data"
   ]
  },
  {
   "cell_type": "markdown",
   "id": "ea9dc005",
   "metadata": {},
   "source": [
    "### Label Encoding"
   ]
  },
  {
   "cell_type": "code",
   "execution_count": 36,
   "id": "d6f64c5c",
   "metadata": {
    "scrolled": false
   },
   "outputs": [
    {
     "data": {
      "text/html": [
       "<div>\n",
       "<style scoped>\n",
       "    .dataframe tbody tr th:only-of-type {\n",
       "        vertical-align: middle;\n",
       "    }\n",
       "\n",
       "    .dataframe tbody tr th {\n",
       "        vertical-align: top;\n",
       "    }\n",
       "\n",
       "    .dataframe thead th {\n",
       "        text-align: right;\n",
       "    }\n",
       "</style>\n",
       "<table border=\"1\" class=\"dataframe\">\n",
       "  <thead>\n",
       "    <tr style=\"text-align: right;\">\n",
       "      <th></th>\n",
       "      <th>Name</th>\n",
       "      <th>Gender</th>\n",
       "      <th>Age</th>\n",
       "      <th>Chest pain</th>\n",
       "      <th>Shortness of breath</th>\n",
       "      <th>Fatigue</th>\n",
       "      <th>Systolic</th>\n",
       "      <th>Diastolic</th>\n",
       "      <th>Heart rate (bpm)</th>\n",
       "      <th>Lung sounds</th>\n",
       "      <th>...</th>\n",
       "      <th>Cardiac CT</th>\n",
       "      <th>Obesity</th>\n",
       "      <th>Murmur</th>\n",
       "      <th>Chest x-ray</th>\n",
       "      <th>Previous illnesses</th>\n",
       "      <th>Pulmonary function tests</th>\n",
       "      <th>Spirometry</th>\n",
       "      <th>Diagnosis</th>\n",
       "      <th>Medications</th>\n",
       "      <th>Treatment</th>\n",
       "    </tr>\n",
       "  </thead>\n",
       "  <tbody>\n",
       "    <tr>\n",
       "      <th>0</th>\n",
       "      <td>Jane Doe</td>\n",
       "      <td>1</td>\n",
       "      <td>55</td>\n",
       "      <td>1</td>\n",
       "      <td>1</td>\n",
       "      <td>1</td>\n",
       "      <td>140</td>\n",
       "      <td>90</td>\n",
       "      <td>100</td>\n",
       "      <td>1</td>\n",
       "      <td>...</td>\n",
       "      <td>42</td>\n",
       "      <td>0</td>\n",
       "      <td>1</td>\n",
       "      <td>0</td>\n",
       "      <td>0</td>\n",
       "      <td>0</td>\n",
       "      <td>0</td>\n",
       "      <td>0</td>\n",
       "      <td>Aspirin, metoprolol, atorvastatin</td>\n",
       "      <td>None</td>\n",
       "    </tr>\n",
       "    <tr>\n",
       "      <th>1</th>\n",
       "      <td>Mark Johnson</td>\n",
       "      <td>0</td>\n",
       "      <td>57</td>\n",
       "      <td>1</td>\n",
       "      <td>1</td>\n",
       "      <td>1</td>\n",
       "      <td>150</td>\n",
       "      <td>80</td>\n",
       "      <td>110</td>\n",
       "      <td>1</td>\n",
       "      <td>...</td>\n",
       "      <td>43</td>\n",
       "      <td>0</td>\n",
       "      <td>1</td>\n",
       "      <td>0</td>\n",
       "      <td>0</td>\n",
       "      <td>0</td>\n",
       "      <td>0</td>\n",
       "      <td>0</td>\n",
       "      <td>Aspirin, ramipril, atorvastatin</td>\n",
       "      <td>None</td>\n",
       "    </tr>\n",
       "    <tr>\n",
       "      <th>2</th>\n",
       "      <td>Emily Davis</td>\n",
       "      <td>1</td>\n",
       "      <td>60</td>\n",
       "      <td>1</td>\n",
       "      <td>1</td>\n",
       "      <td>1</td>\n",
       "      <td>130</td>\n",
       "      <td>85</td>\n",
       "      <td>95</td>\n",
       "      <td>1</td>\n",
       "      <td>...</td>\n",
       "      <td>42</td>\n",
       "      <td>0</td>\n",
       "      <td>1</td>\n",
       "      <td>0</td>\n",
       "      <td>0</td>\n",
       "      <td>0</td>\n",
       "      <td>0</td>\n",
       "      <td>0</td>\n",
       "      <td>Aspirin, lisinopril, rosuvastatin</td>\n",
       "      <td>None</td>\n",
       "    </tr>\n",
       "    <tr>\n",
       "      <th>3</th>\n",
       "      <td>William Thompson</td>\n",
       "      <td>0</td>\n",
       "      <td>62</td>\n",
       "      <td>1</td>\n",
       "      <td>1</td>\n",
       "      <td>1</td>\n",
       "      <td>145</td>\n",
       "      <td>90</td>\n",
       "      <td>100</td>\n",
       "      <td>1</td>\n",
       "      <td>...</td>\n",
       "      <td>44</td>\n",
       "      <td>0</td>\n",
       "      <td>1</td>\n",
       "      <td>0</td>\n",
       "      <td>0</td>\n",
       "      <td>0</td>\n",
       "      <td>0</td>\n",
       "      <td>0</td>\n",
       "      <td>Aspirin, metoprolol, atorvastatin</td>\n",
       "      <td>None</td>\n",
       "    </tr>\n",
       "    <tr>\n",
       "      <th>4</th>\n",
       "      <td>Ashley Johnson</td>\n",
       "      <td>1</td>\n",
       "      <td>58</td>\n",
       "      <td>1</td>\n",
       "      <td>1</td>\n",
       "      <td>1</td>\n",
       "      <td>135</td>\n",
       "      <td>80</td>\n",
       "      <td>105</td>\n",
       "      <td>1</td>\n",
       "      <td>...</td>\n",
       "      <td>43</td>\n",
       "      <td>0</td>\n",
       "      <td>1</td>\n",
       "      <td>0</td>\n",
       "      <td>0</td>\n",
       "      <td>0</td>\n",
       "      <td>0</td>\n",
       "      <td>0</td>\n",
       "      <td>Aspirin, simvastatin, lisinopril</td>\n",
       "      <td>None</td>\n",
       "    </tr>\n",
       "  </tbody>\n",
       "</table>\n",
       "<p>5 rows × 49 columns</p>\n",
       "</div>"
      ],
      "text/plain": [
       "               Name  Gender  Age  Chest pain  Shortness of breath  Fatigue  \\\n",
       "0          Jane Doe       1   55           1                    1        1   \n",
       "1      Mark Johnson       0   57           1                    1        1   \n",
       "2       Emily Davis       1   60           1                    1        1   \n",
       "3  William Thompson       0   62           1                    1        1   \n",
       "4    Ashley Johnson       1   58           1                    1        1   \n",
       "\n",
       "   Systolic  Diastolic  Heart rate (bpm)  Lung sounds  ...  Cardiac CT  \\\n",
       "0       140         90               100            1  ...          42   \n",
       "1       150         80               110            1  ...          43   \n",
       "2       130         85                95            1  ...          42   \n",
       "3       145         90               100            1  ...          44   \n",
       "4       135         80               105            1  ...          43   \n",
       "\n",
       "   Obesity  Murmur  Chest x-ray  Previous illnesses  Pulmonary function tests  \\\n",
       "0        0       1            0                   0                         0   \n",
       "1        0       1            0                   0                         0   \n",
       "2        0       1            0                   0                         0   \n",
       "3        0       1            0                   0                         0   \n",
       "4        0       1            0                   0                         0   \n",
       "\n",
       "   Spirometry  Diagnosis                        Medications  Treatment  \n",
       "0           0          0  Aspirin, metoprolol, atorvastatin       None  \n",
       "1           0          0    Aspirin, ramipril, atorvastatin       None  \n",
       "2           0          0  Aspirin, lisinopril, rosuvastatin       None  \n",
       "3           0          0  Aspirin, metoprolol, atorvastatin       None  \n",
       "4           0          0   Aspirin, simvastatin, lisinopril       None  \n",
       "\n",
       "[5 rows x 49 columns]"
      ]
     },
     "execution_count": 36,
     "metadata": {},
     "output_type": "execute_result"
    }
   ],
   "source": [
    "# train_data.replace({'Gender':{\"Male\":0,\"Female\":1}},inplace=True)\n",
    "# train_data.replace({'Echocardiogram':{\"None\":0,\"Shows increased pressure in the right ventricle\":1,\"Shows increased pressure in the right ventricle and decreased function of the right ventricle\":2,\"Shows vegetation on the aortic valve\":3,\"Shows vegetation on the aortic valve and pulmonic valve\":4,\"Shows vegetation on the mitral valve\":5,\"Shows vegetation on the mitral valve and aortic valve\":6,\"Shows vegetation on the mitral valve and pulmonary valve\":7,\"Shows vegetation on the mitral valve and tricuspid valve\":8,\"Shows vegetation on the mitral valve, aortic valve and tricuspid valve\":9,\"Shows vegetation on the mitral valve, aortic valve, and pulmonary valve\":10,\"Shows vegetation on the mitral valve, aortic valve, tricuspid valve, and pulmonary valve\":11,\"Shows vegetation on the mitral valve, tricuspid valve, and pulmonary valve\":12,\"Shows vegetation on the pulmonary valve\":13,\"Shows vegetation on the tricuspid valve\":14,\"Shows vegetation on the tricuspid valve and pulmonary valve\":15,\"Shows increased pressure in the right ventricle and decreased function of the left ventricle\":16,\"Shows thickening of the pericardium\":17}},inplace=True)\n",
    "# train_data.replace({'Blood culture':{\"None\":0,\"Positive for Candida albicans\":1,\"Positive for Candida dubliniensis\":2,\"Positive for Candida glabrata\":3,\"Positive for Candida guilliermondii\":4,\"Positive for Candida krusei\":5,\"Positive for Candida lusitaniae\":6,\"Positive for Candida parapsilosis\":7,\"Positive for Candida rugosa\":8,\"Positive for Candida tropicalis\":9,\"Positive for Enterococcus faecalis\":10,\"Positive for Staphylococcus aureus\":11,\"Positive for Staphylococcus epidermidis\":12,\"Positive for Streptococcus anginosus\":13,\"Positive for Streptococcus bovis\":14,\"Positive for Streptococcus mitis\":15,\"Positive for Streptococcus oralis\":16,\"Positive for Streptococcus pneumonia\":17,\"Positive for Streptococcus pneumoniae\":18,\"Positive for Streptococcus salivarius\":19,\"Positive for Streptococcus sanguinis\":20,\"Positive for Streptococcus viridans\":21}},inplace=True)\n",
    "# train_data.replace({'EKG':{\"None\":0,\"Abnormal\":1,\"Normal\":2,\"Shows an elevated ST segment and PR interval consistent with pericarditis\":3,\"Shows atrial fibrillation\":4,\"Shows diffuse ST depression and PR elevation consistent with pericarditis\":5,\"Shows electrical alternans consistent with pericarditis\":6,\"Shows evidence of aortic stenosis\":7,\"Shows evidence of aortic valve regurgitation\":8,\"Shows evidence of arrhythmogenic right ventricular cardiomyopathy\":9,\"Shows evidence of atrial fibrillation and left ventricular hypertrophy\":10,\"Shows evidence of atrial fibrillation and valve regurgitation\":11,\"Shows evidence of dilated cardiomyopathy\":12,\"Shows evidence of endocarditis\":13,\"Shows evidence of hypertrophic cardiomyopathy\":14,\"Shows evidence of left bundle branch block\":15,\"Shows evidence of left bundle branch block and left ventricular hypertrophy\":16,\"Shows evidence of left ventricular dysfunction and valve regurgitation\":17,\"Shows evidence of left ventricular hypertrophy\":18,\"Shows evidence of left ventricular hypertrophy and atrial fibrillation\":19,\"Shows evidence of left ventricular hypertrophy and left atrial enlargement\":20,\"Shows evidence of left ventricular hypertrophy and ST-segment depression\":21,\"Shows evidence of left ventricular hypertrophy and ST-segment elevation\":22,\"Shows evidence of mitral regurgitation\":23,\"Shows evidence of mitral regurgitation and atrial fibrillation\":24,\"Shows evidence of mitral stenosis\":25,\"Shows evidence of mitral valve regurgitation\":26,\"Shows evidence of pericarditis\":27,\"Shows evidence of pericarditis and atrial fibrillation\":28,\"Shows evidence of pericarditis and left atrial enlargement\":29,\"Shows evidence of pericarditis and left bundle branch block\":30,\"Shows evidence of pericarditis and left ventricular hypertrophy\":31,\"Shows evidence of pericarditis and right bundle branch block\":32,\"Shows evidence of pericarditis and right ventricular hypertrophy\":33,\"Shows evidence of pericarditis and sinus tachycardia\":34,\"Shows evidence of pericarditis and valve regurgitation\":35,\"Shows evidence of pulmonary stenosis\":36,\"Shows evidence of restrictive cardiomyopathy\":37,\"Shows evidence of right bundle branch block\":38,\"Shows evidence of right bundle branch block and left ventricular hypertrophy\":39,\"Shows evidence of ST-segment depression in leads II, III, and aVF\":40,\"Shows evidence of Takotsubo cardiomyopathy\":41,\"Shows evidence of tricuspid stenosis\":42,\"Shows evidence of tricuspid valve regurgitation\":43,\"Shows evidence of T-wave inversion in leads V1-V4\":44,\"Shows left bundle branch block\":45,\"Shows left ventricular hypertrophy\":46,\"Shows low voltage QRS consistent with pericarditis\":47,\"Shows sinus tachycardia\":48,\"Shows sinus tachycardia and diffuse ST elevation consistent with pericarditis\":49,\"Shows ST-segment elevation\":50,\"Shows evidence of atrial enlargement\":51,\"Shows evidence of right ventricular hypertrophy\":52,\"Shows evidence of left ventricular hypertrophy and restricted diastolic filling\":53,\"Shows low voltage and electrical alternans\":54,\"Shows sinus tachycardia and low voltage\":55,\"Shows evidence of atrial enlargement and low voltage QRS complex\":56,\"Shows evidence of atrial fibrillation\":57,\"Shows evidence of left ventricular hypertrophy and right atrial dilation\":58,\"Shows evidence of pericardial thickening\":59}},inplace=True)\n",
    "# train_data.replace({'Cardiac CT':{\"None\":0,\"Shows a 100% dilation of the proximal aorta\":1,\"Shows a 110% dilation of the proximal aorta\":2,\"Shows a 120% dilation of the proximal aorta\":3,\"Shows a 130% dilation of the proximal aorta\":4,\"Shows a 25% dilation of the infrarenal aorta\":5,\"Shows a 30% dilation of the abdominal aorta\":6,\"Shows a 30% dilation of the infrarenal aorta\":7,\"Shows a 35% dilation of the infrarenal aorta\":8,\"Shows a 38% dilation of the infrarenal aorta\":9,\"Shows a 40% dilation of the abdominal aorta\":10,\"Shows a 40% dilation of the infrarenal aorta\":11,\"Shows a 40% dilation of the thoracic aorta\":12,\"Shows a 40% dilation of the thoracoabdominal aorta\":13,\"Shows a 42% dilation of the infrarenal aorta\":14,\"Shows a 45% dilation of the infrarenal aorta\":15,\"Shows a 45% dilation of the thoracic aorta\":16,\"Shows a 50% blockage in the left anterior descending coronary artery\":17,\"Shows a 50% dilation of the abdominal aorta\":18,\"Shows a 50% dilation of the proximal aorta\":19,\"Shows a 50% dilation of the thoracic aorta\":20,\"Shows a 50% dilation of the thoracoabdominal aorta\":21,\"Shows a 55% dilation of the proximal aorta\":22,\"Shows a 55% dilation of the thoracic aorta\":23,\"Shows a 60% blockage in the left main coronary artery\":24,\"Shows a 60% blockage in the right coronary artery\":25,\"Shows a 60% dilation of the abdominal aorta\":26,\"Shows a 60% dilation of the proximal aorta\":27,\"Shows a 60% dilation of the thoracic aorta\":28,\"Shows a 60% dilation of the thoracoabdominal aorta\":29,\"Shows a 65% dilation of the thoracic aorta\":30,\"Shows a 70% blockage in the left anterior descending coronary artery\":31,\"Shows a 70% blockage in the right coronary artery\":32,\"Shows a 70% dilation of the abdominal aorta\":33,\"Shows a 70% dilation of the proximal aorta\":34,\"Shows a 70% dilation of the thoracic aorta\":35,'Shows a 70% dilation of the thoracoabdominal aorta':36,\"Shows a 75% blockage in the left anterior descending coronary artery\":37,\"Shows a 75% dilation of the thoracic aorta\":38,\"Shows a 80% blockage in the left circumflex coronary artery\":39,\"Shows a 80% dilation of the proximal aorta\":40,\"Shows a 80% dilation of the thoracoabdominal aorta\":41,\"Shows a 80% dilation of the thoracoabdominal aorta\":42,\"Shows a 90% blockage in the right coronary artery\":43,\"Shows a 90% dilation of the proximal aorta\":44,\"Shows a 90% dilation of the thoracic aorta\":45,\"Shows a 90% dilation of the thoracoabdominal aorta\":46,\"Shows a mild dilatation in the left ventricle\":47,\"Shows a mild dysfunction of the left ventricle\":48,\"Shows a mild dysfunction of the right ventricle\":49,\"Shows a mild hypertrophy in the left ventricle\":50,\"Shows a mild regurgitation in the mitral valve\":51,\"Shows a mild restriction in the ventricular filling\":52,\"Shows a mild stenosis in the mitral valve\":53,\"Shows a mild stenosis in the pulmonary valve\":54,\"Shows a mild stenosis in the tricuspid valve\":55,\"Shows a moderate dilatation in the left ventricle\":56,\"Shows a moderate dysfunction of the left ventricle\":57,\"Shows a moderate dysfunction of the right ventricle\":58,\"Shows a moderate hypertrophy in the left ventricle\":59,\"Shows a moderate hypertrophy in the right ventricle\":60,\"Shows a moderate regurgitation in the mitral valve\":61,\"Shows a moderate restriction in the ventricular filling\":62,\"Shows a moderate stenosis in the aortic valve\":63,\"Shows a moderate stenosis in the mitral valve\":64,\"Shows a moderate stenosis in the pulmonary valve\":65,\"Shows a moderate stenosis in the tricuspid valve\":66,\"Shows a severe dilatation in the left ventricle\":67,\"Shows a severe dysfunction of the left ventricle\":68,\"Shows a severe dysfunction of the right ventricle\":69,\"Shows a severe hypertrophy in the left ventricle\":70,\"Shows a severe hypertrophy in the right ventricle\":71,\"Shows a severe regurgitation in the mitral valve\":72,\"Shows a severe restriction in the ventricular filling\":73,\"Shows a severe stenosis in the aortic valve\":74,\"Shows a severe stenosis in the mitral valve\":75,\"Shows a severe stenosis in the tricuspid valve\":76,\"Shows constrictive pericarditis\":77,\"Shows effusion in the pericardium\":78,\"Shows pericardial effusion and tamponade\":79,\"Shows pericarditis with myocarditis\":80,\"Shows thickening of the pericardium\":81}},inplace=True)\n",
    "# train_data.replace({'Chest x-ray':{\"None\":0,\"Shows hyperinflation and bronchial wall thickening\":1,\"Shows hyperinflation, bronchial wall thickening, and increased vascular markings\":2,\"Shows increased vascular markings and signs of chronic changes in the lungs\":3,\"Shows increased vascular markings and signs of lung restriction\":4,\"Shows increased vascular markings and small areas of consolidation in the lungs\":5,\"Shows increased vascular markings and small areas of fibrosis in the lungs\":6,\"Shows increased vascular markings in the lungs\":7,\"Shows increased vascular markings in the lungs, small areas of fibrosis, and signs of lung restriction\":8,\"Shows increased vascular markings, small areas of fibrosis and signs of lung restriction\":9,\"Shows increased vascular markings, small areas of fibrosis, and signs of chronic changes in the lungs\":10,\"Shows increased vascular markings, small areas of fibrosis, and signs of lung restriction\":11,\"Shows normal lung structures with no obvious abnormalities\":12}},inplace=True)\n",
    "# train_data.replace({'Previous illnesses':{\"None\":0,\"Aortic valve replacement surgery\":1,\"Mitral valve replacement surgery\":2,\"Recent chest surgery\":3,\"Recent viral infection\":4,\"Tricuspid valve replacement surgery\":5}},inplace=True)\n",
    "# train_data.replace({'Pulmonary function tests':{\"None\":0,\"Shows decreased lung capacity\":1,\"Shows decreased lung capacity and reduced diffusing capacity of the lung for carbon monoxide\":2,\"Shows decreased lung capacity, reduced diffusing capacity of the lung for carbon monoxide and decreased lung volumes\":3,\"Shows normal lung capacity\":4}},inplace=True)\n",
    "# train_data.replace({'Spirometry':{\"None\":0,\"Shows decreased lung function and increased airway resistance\":1}},inplace=True)\n",
    "# train_data.replace({'Diagnosis':{'Coronary artery disease (CAD)':0, 'Mitral regurgitation':1, 'Mitral stenosis':2, 'Aortic stenosis':3, 'Tricuspid stenosis':4,'Pulmonary stenosis':5, 'Dilated cardiomyopathy':6, 'Hypertrophic cardiomyopathy':7, 'Restrictive cardiomyopathy':8,'Arrhythmogenic right ventricular cardiomyopathy':9, 'Takotsubo cardiomyopathy':10, 'Thoracic aortic aneurysm':11, 'Abdominal aortic aneurysm':12,'Proximal aortic aneurysm':13, 'Infrarenal aortic aneurysm':14, 'Thoracoabdominal aortic aneurysm':15, 'Acute pericarditis':16, 'Chronic pericarditis':17,'Constrictive pericarditis':18, 'Pericardial effusion with tamponade':19, 'Pericarditis with myocarditis':20, 'Acute native valve endocarditis':21,'Subacute native valve endocarditis':22, 'Infective endocarditis on prosthetic valve':23, 'Candidal endocarditis':24, 'Native valve endocarditis involving multiple valves':25,'Primary pulmonary hypertension':26, 'Secondary pulmonary hypertension due to COPD':27, 'Secondary pulmonary hypertension due to obesity and sleep apnea':28, 'Secondary pulmonary hypertension due to scleroderma':29,'Secondary pulmonary hypertension due to chronic thromboembolic disease':30}},inplace=True)\n",
    "# train_data.head()\n",
    "\n",
    "# train_data.tail(20)\n",
    "\n",
    "train_data.replace({'Gender':{\"Male\":0,\"Female\":1}},inplace=True)\n",
    "train_data.replace({'Echocardiogram':{\"None\":0,\"Shows increased pressure in the right ventricle\":1,\"Shows increased pressure in the right ventricle and decreased function of the right ventricle\":2,\"Shows vegetation on the aortic valve\":3,\"Shows vegetation on the aortic valve and pulmonic valve\":4,\"Shows vegetation on the mitral valve\":5,\"Shows vegetation on the mitral valve and aortic valve\":6,\"Shows vegetation on the mitral valve and pulmonary valve\":7,\"Shows vegetation on the mitral valve and tricuspid valve\":8,\"Shows vegetation on the mitral valve, aortic valve and tricuspid valve\":9,\"Shows vegetation on the mitral valve, aortic valve, and pulmonary valve\":10,\"Shows vegetation on the mitral valve, aortic valve, tricuspid valve, and pulmonary valve\":11,\"Shows vegetation on the mitral valve, tricuspid valve, and pulmonary valve\":12,\"Shows vegetation on the pulmonary valve\":13,\"Shows vegetation on the tricuspid valve\":14,\"Shows vegetation on the tricuspid valve and pulmonary valve\":15,\"Shows increased pressure in the right ventricle and decreased function of the left ventricle\":16,\"Shows thickening of the pericardium\":17}},inplace=True)\n",
    "train_data.replace({'Blood culture':{\"None\":0,\"Positive for Candida albicans\":1,\"Positive for Candida dubliniensis\":2,\"Positive for Candida glabrata\":3,\"Positive for Candida guilliermondii\":4,\"Positive for Candida krusei\":5,\"Positive for Candida lusitaniae\":6,\"Positive for Candida parapsilosis\":7,\"Positive for Candida rugosa\":8,\"Positive for Candida tropicalis\":9,\"Positive for Enterococcus faecalis\":10,\"Positive for Staphylococcus aureus\":11,\"Positive for Staphylococcus epidermidis\":12,\"Positive for Streptococcus anginosus\":13,\"Positive for Streptococcus bovis\":14,\"Positive for Streptococcus mitis\":15,\"Positive for Streptococcus oralis\":16,\"Positive for Streptococcus pneumonia\":17,\"Positive for Streptococcus pneumoniae\":18,\"Positive for Streptococcus salivarius\":19,\"Positive for Streptococcus sanguinis\":20,\"Positive for Streptococcus viridans\":21}},inplace=True)\n",
    "train_data.replace({'EKG':{\"None\":0,\"Abnormal\":1,\"Normal\":2,\"Shows an elevated ST segment and PR interval consistent with pericarditis\":3,\"Shows atrial fibrillation\":4,\"Shows diffuse ST depression and PR elevation consistent with pericarditis\":5,\"Shows electrical alternans consistent with pericarditis\":6,\"Shows evidence of aortic stenosis\":7,\"Shows evidence of aortic valve regurgitation\":8,\"Shows evidence of arrhythmogenic right ventricular cardiomyopathy\":9,\"Shows evidence of atrial fibrillation and left ventricular hypertrophy\":10,\"Shows evidence of atrial fibrillation and valve regurgitation\":11,\"Shows evidence of dilated cardiomyopathy\":12,\"Shows evidence of endocarditis\":13,\"Shows evidence of hypertrophic cardiomyopathy\":14,\"Shows evidence of left bundle branch block\":15,\"Shows evidence of left bundle branch block and left ventricular hypertrophy\":16,\"Shows evidence of left ventricular dysfunction and valve regurgitation\":17,\"Shows evidence of left ventricular hypertrophy\":18,\"Shows evidence of left ventricular hypertrophy and atrial fibrillation\":19,\"Shows evidence of left ventricular hypertrophy and left atrial enlargement\":20,\"Shows evidence of left ventricular hypertrophy and ST-segment depression\":21,\"Shows evidence of left ventricular hypertrophy and ST-segment elevation\":22,\"Shows evidence of mitral regurgitation\":23,\"Shows evidence of mitral regurgitation and atrial fibrillation\":24,\"Shows evidence of mitral stenosis\":25,\"Shows evidence of mitral valve regurgitation\":26,\"Shows evidence of pericarditis\":27,\"Shows evidence of pericarditis and atrial fibrillation\":28,\"Shows evidence of pericarditis and left atrial enlargement\":29,\"Shows evidence of pericarditis and left bundle branch block\":30,\"Shows evidence of pericarditis and left ventricular hypertrophy\":31,\"Shows evidence of pericarditis and right bundle branch block\":32,\"Shows evidence of pericarditis and right ventricular hypertrophy\":33,\"Shows evidence of pericarditis and sinus tachycardia\":34,\"Shows evidence of pericarditis and valve regurgitation\":35,\"Shows evidence of pulmonary stenosis\":36,\"Shows evidence of restrictive cardiomyopathy\":37,\"Shows evidence of right bundle branch block\":38,\"Shows evidence of right bundle branch block and left ventricular hypertrophy\":39,\"Shows evidence of ST-segment depression in leads II, III, and aVF\":40,\"Shows evidence of Takotsubo cardiomyopathy\":41,\"Shows evidence of tricuspid stenosis\":42,\"Shows evidence of tricuspid valve regurgitation\":43,\"Shows evidence of T-wave inversion in leads V1-V4\":44,\"Shows left bundle branch block\":45,\"Shows left ventricular hypertrophy\":46,\"Shows low voltage QRS consistent with pericarditis\":47,\"Shows sinus tachycardia\":48,\"Shows sinus tachycardia and diffuse ST elevation consistent with pericarditis\":49,\"Shows ST-segment elevation\":50,\"Shows evidence of atrial enlargement\":51,\"Shows evidence of right ventricular hypertrophy\":52,\"Shows evidence of left ventricular hypertrophy and restricted diastolic filling\":53,\"Shows low voltage and electrical alternans\":54,\"Shows sinus tachycardia and low voltage\":55,\"Shows evidence of atrial enlargement and low voltage QRS complex\":56,\"Shows evidence of atrial fibrillation\":57,\"Shows evidence of left ventricular hypertrophy and right atrial dilation\":58,\"Shows evidence of pericardial thickening\":59}},inplace=True)\n",
    "train_data.replace({'Cardiac CT':{\"None\":0,\"Shows a 100% dilation of the proximal aorta\":\"Shows dilation of the proximal aorta\",\"Shows a 110% dilation of the proximal aorta\":\"Shows dilation of the proximal aorta\",\"Shows a 120% dilation of the proximal aorta\":\"Shows dilation of the proximal aorta\",\"Shows a 130% dilation of the proximal aorta\":\"Shows dilation of the proximal aorta\",\"Shows a 25% dilation of the infrarenal aorta\":\"Shows dilation of the infrarenal aorta\",\"Shows a 30% dilation of the abdominal aorta\":\"Shows dilation of the abdominal aorta\",\"Shows a 30% dilation of the infrarenal aorta\":\"Shows dilation of the infrarenal aorta\",\"Shows a 35% dilation of the infrarenal aorta\":\"Shows dilation of the infrarenal aorta\",\"Shows a 38% dilation of the infrarenal aorta\":\"Shows dilation of the infrarenal aorta\",\"Shows a 40% dilation of the abdominal aorta\":\"Shows dilation of the abdominal aorta\",\"Shows a 40% dilation of the infrarenal aorta\":\"Shows dilation of the infrarenal aorta\",\"Shows a 40% dilation of the thoracic aorta\":\"Shows dilation of the thoracic aorta\",\"Shows a 40% dilation of the thoracoabdominal aorta\":\"Shows dilation of the thoracoabdominal aorta\",\"Shows a 42% dilation of the infrarenal aorta\":\"Shows dilation of the infrarenal aorta\",\"Shows a 45% dilation of the infrarenal aorta\":\"Shows dilation of the infrarenal aorta\",\"Shows a 45% dilation of the thoracic aorta\":\"Shows dilation of the thoracic aorta\",\"Shows a 50% blockage in the left anterior descending coronary artery\":\"Shows blockage in the left anterior descending coronary artery\",\"Shows a 50% dilation of the abdominal aorta\":\"Shows dilation of the abdominal aorta\",\"Shows a 50% dilation of the proximal aorta\":\"Shows dilation of the proximal aorta\",\"Shows a 50% dilation of the thoracic aorta\":\"Shows dilation of the thoracic aorta\",\"Shows a 50% dilation of the thoracoabdominal aorta\":\"Shows dilation of the thoracoabdominal aorta\",\"Shows a 55% dilation of the proximal aorta\":\"Shows dilation of the proximal aorta\",\"Shows a 55% dilation of the thoracic aorta\":\"Shows dilation of the thoracic aorta\",\"Shows a 60% blockage in the left main coronary artery\":\"Shows blockage in the left main coronary artery\",\"Shows a 60% blockage in the right coronary artery\":\"Shows blockage in the right coronary artery\",\"Shows a 60% dilation of the abdominal aorta\":\"Shows dilation of the abdominal aorta\",\"Shows a 60% dilation of the proximal aorta\":\"Shows dilation of the proximal aorta\",\"Shows a 60% dilation of the thoracic aorta\":\"Shows dilation of the thoracic aorta\",\"Shows a 60% dilation of the thoracoabdominal aorta\":\"Shows dilation of the thoracoabdominal aorta\",\"Shows a 65% dilation of the thoracic aorta\":\"Shows dilation of the thoracic aorta\",\"Shows a 70% blockage in the left anterior descending coronary artery\":\"Shows blockage in the left anterior descending coronary artery\",\"Shows a 70% blockage in the right coronary artery\":\"Shows blockage in the right coronary artery\",\"Shows a 70% dilation of the abdominal aorta\":\"Shows dilation of the abdominal aorta\",\"Shows a 70% dilation of the proximal aorta\":\"Shows dilation of the proximal aorta\",\"Shows a 70% dilation of the thoracic aorta\":\"Shows dilation of the thoracic aorta\",'Shows a 70% dilation of the thoracoabdominal aorta':\"Shows dilation of the thoracoabdominal aorta\",\"Shows a 75% blockage in the left anterior descending coronary artery\":\"Shows blockage in the left anterior descending coronary artery\",\"Shows a 75% dilation of the thoracic aorta\":\"Shows dilation of the thoracic aorta\",\"Shows a 80% blockage in the left circumflex coronary artery\":\"Shows blockage in the left circumflex coronary artery\",\"Shows a 80% dilation of the proximal aorta\":\"Shows dilation of the proximal aorta\",\"Shows a 80% dilation of the thoracoabdominal aorta\":\"Shows dilation of the thoracoabdominal aorta\",\"Shows a 80% dilation of the thoracoabdominal aorta\":\"Shows dilation of the thoracoabdominal aorta\",\"Shows a 90% blockage in the right coronary artery\":\"Shows blockage in the right coronary artery\",\"Shows a 90% dilation of the proximal aorta\":\"Shows dilation of the proximal aorta\",\"Shows a 90% dilation of the thoracic aorta\":\"Shows dilation of the thoracic aorta\",\"Shows a 90% dilation of the thoracoabdominal aorta\":\"Shows dilation of the thoracoabdominal aorta\",\"Shows a mild dilatation in the left ventricle\":1,\"Shows a mild dysfunction of the left ventricle\":2,\"Shows a mild dysfunction of the right ventricle\":3,\"Shows a mild hypertrophy in the left ventricle\":4,\"Shows a mild regurgitation in the mitral valve\":5,\"Shows a mild restriction in the ventricular filling\":6,\"Shows a mild stenosis in the mitral valve\":7,\"Shows a mild stenosis in the pulmonary valve\":8,\"Shows a mild stenosis in the tricuspid valve\":9,\"Shows a moderate dilatation in the left ventricle\":10,\"Shows a moderate dysfunction of the left ventricle\":11,\"Shows a moderate dysfunction of the right ventricle\":12,\"Shows a moderate hypertrophy in the left ventricle\":13,\"Shows a moderate hypertrophy in the right ventricle\":14,\"Shows a moderate regurgitation in the mitral valve\":15,\"Shows a moderate restriction in the ventricular filling\":16,\"Shows a moderate stenosis in the aortic valve\":17,\"Shows a moderate stenosis in the mitral valve\":18,\"Shows a moderate stenosis in the pulmonary valve\":19,\"Shows a moderate stenosis in the tricuspid valve\":20,\"Shows a severe dilatation in the left ventricle\":21,\"Shows a severe dysfunction of the left ventricle\":22,\"Shows a severe dysfunction of the right ventricle\":23,\"Shows a severe hypertrophy in the left ventricle\":24,\"Shows a severe hypertrophy in the right ventricle\":25,\"Shows a severe regurgitation in the mitral valve\":26,\"Shows a severe restriction in the ventricular filling\":27,\"Shows a severe stenosis in the aortic valve\":28,\"Shows a severe stenosis in the mitral valve\":29,\"Shows a severe stenosis in the tricuspid valve\":30,\"Shows constrictive pericarditis\":31,\"Shows effusion in the pericardium\":32,\"Shows pericardial effusion and tamponade\":33,\"Shows pericarditis with myocarditis\":34,\"Shows thickening of the pericardium\":35}},inplace=True)\n",
    "train_data.replace({'Chest x-ray':{\"None\":0,\"Shows hyperinflation and bronchial wall thickening\":1,\"Shows hyperinflation, bronchial wall thickening, and increased vascular markings\":2,\"Shows increased vascular markings and signs of chronic changes in the lungs\":3,\"Shows increased vascular markings and signs of lung restriction\":4,\"Shows increased vascular markings and small areas of consolidation in the lungs\":5,\"Shows increased vascular markings and small areas of fibrosis in the lungs\":6,\"Shows increased vascular markings in the lungs\":7,\"Shows increased vascular markings in the lungs, small areas of fibrosis, and signs of lung restriction\":8,\"Shows increased vascular markings, small areas of fibrosis and signs of lung restriction\":9,\"Shows increased vascular markings, small areas of fibrosis, and signs of chronic changes in the lungs\":10,\"Shows increased vascular markings, small areas of fibrosis, and signs of lung restriction\":11,\"Shows normal lung structures with no obvious abnormalities\":12}},inplace=True)\n",
    "train_data.replace({'Previous illnesses':{\"None\":0,\"Aortic valve replacement surgery\":1,\"Mitral valve replacement surgery\":2,\"Recent chest surgery\":3,\"Recent viral infection\":4,\"Tricuspid valve replacement surgery\":5}},inplace=True)\n",
    "train_data.replace({'Pulmonary function tests':{\"None\":0,\"Shows decreased lung capacity\":1,\"Shows decreased lung capacity and reduced diffusing capacity of the lung for carbon monoxide\":2,\"Shows decreased lung capacity, reduced diffusing capacity of the lung for carbon monoxide and decreased lung volumes\":3,\"Shows normal lung capacity\":4}},inplace=True)\n",
    "train_data.replace({'Spirometry':{\"None\":0,\"Shows decreased lung function and increased airway resistance\":1}},inplace=True)\n",
    "train_data.replace({'Diagnosis':{'Coronary artery disease (CAD)':0, 'Mitral regurgitation':1, 'Mitral stenosis':2, 'Aortic stenosis':3, 'Tricuspid stenosis':4,'Pulmonary stenosis':5, 'Dilated cardiomyopathy':6, 'Hypertrophic cardiomyopathy':7, 'Restrictive cardiomyopathy':8,'Arrhythmogenic right ventricular cardiomyopathy':9, 'Takotsubo cardiomyopathy':10, 'Thoracic aortic aneurysm':11, 'Abdominal aortic aneurysm':12,'Proximal aortic aneurysm':13, 'Infrarenal aortic aneurysm':14, 'Thoracoabdominal aortic aneurysm':15, 'Acute pericarditis':16, 'Chronic pericarditis':17,'Constrictive pericarditis':18, 'Pericardial effusion with tamponade':19, 'Pericarditis with myocarditis':20, 'Acute native valve endocarditis':21,'Subacute native valve endocarditis':22, 'Infective endocarditis on prosthetic valve':23, 'Candidal endocarditis':24, 'Native valve endocarditis involving multiple valves':25,'Primary pulmonary hypertension':26, 'Secondary pulmonary hypertension due to COPD':27, 'Secondary pulmonary hypertension due to obesity and sleep apnea':28, 'Secondary pulmonary hypertension due to scleroderma':29,'Secondary pulmonary hypertension due to chronic thromboembolic disease':30}},inplace=True)\n",
    "train_data_final = train_data\n",
    "train_data_final.replace({'Cardiac CT':{\"Shows dilation of the proximal aorta\":36,\"Shows dilation of the infrarenal aorta\":37,\"Shows dilation of the abdominal aorta\":38,\"Shows dilation of the thoracic aorta\":39,\"Shows dilation of the thoracoabdominal aorta\":40,\"Shows blockage in the left main coronary artery\":41,\"Shows blockage in the left anterior descending coronary artery\":42,\"Shows blockage in the right coronary artery\":43,\"Shows blockage in the left circumflex coronary artery\":44}},inplace=True)\n",
    "train_data_final.head()\n",
    "\n",
    "# df.to_csv(r\"E:\\medical hackathon\\preprocessed_heart_training.csv\", index=False)"
   ]
  },
  {
   "cell_type": "code",
   "execution_count": 37,
   "id": "2becca9b",
   "metadata": {},
   "outputs": [
    {
     "data": {
      "text/html": [
       "<div>\n",
       "<style scoped>\n",
       "    .dataframe tbody tr th:only-of-type {\n",
       "        vertical-align: middle;\n",
       "    }\n",
       "\n",
       "    .dataframe tbody tr th {\n",
       "        vertical-align: top;\n",
       "    }\n",
       "\n",
       "    .dataframe thead th {\n",
       "        text-align: right;\n",
       "    }\n",
       "</style>\n",
       "<table border=\"1\" class=\"dataframe\">\n",
       "  <thead>\n",
       "    <tr style=\"text-align: right;\">\n",
       "      <th></th>\n",
       "      <th>Name</th>\n",
       "      <th>Gender</th>\n",
       "      <th>Age</th>\n",
       "      <th>Chest pain</th>\n",
       "      <th>Shortness of breath</th>\n",
       "      <th>Fatigue</th>\n",
       "      <th>Systolic</th>\n",
       "      <th>Diastolic</th>\n",
       "      <th>Heart rate (bpm)</th>\n",
       "      <th>Lung sounds</th>\n",
       "      <th>...</th>\n",
       "      <th>Cardiac CT</th>\n",
       "      <th>Obesity</th>\n",
       "      <th>Murmur</th>\n",
       "      <th>Chest x-ray</th>\n",
       "      <th>Previous illnesses</th>\n",
       "      <th>Pulmonary function tests</th>\n",
       "      <th>Spirometry</th>\n",
       "      <th>Diagnosis</th>\n",
       "      <th>Medications</th>\n",
       "      <th>Treatment</th>\n",
       "    </tr>\n",
       "  </thead>\n",
       "  <tbody>\n",
       "    <tr>\n",
       "      <th>0</th>\n",
       "      <td>Jane Doe</td>\n",
       "      <td>1</td>\n",
       "      <td>55</td>\n",
       "      <td>1</td>\n",
       "      <td>1</td>\n",
       "      <td>1</td>\n",
       "      <td>140</td>\n",
       "      <td>90</td>\n",
       "      <td>100</td>\n",
       "      <td>1</td>\n",
       "      <td>...</td>\n",
       "      <td>42</td>\n",
       "      <td>0</td>\n",
       "      <td>1</td>\n",
       "      <td>0</td>\n",
       "      <td>0</td>\n",
       "      <td>0</td>\n",
       "      <td>0</td>\n",
       "      <td>0</td>\n",
       "      <td>Aspirin, metoprolol, atorvastatin</td>\n",
       "      <td>None</td>\n",
       "    </tr>\n",
       "    <tr>\n",
       "      <th>1</th>\n",
       "      <td>Mark Johnson</td>\n",
       "      <td>0</td>\n",
       "      <td>57</td>\n",
       "      <td>1</td>\n",
       "      <td>1</td>\n",
       "      <td>1</td>\n",
       "      <td>150</td>\n",
       "      <td>80</td>\n",
       "      <td>110</td>\n",
       "      <td>1</td>\n",
       "      <td>...</td>\n",
       "      <td>43</td>\n",
       "      <td>0</td>\n",
       "      <td>1</td>\n",
       "      <td>0</td>\n",
       "      <td>0</td>\n",
       "      <td>0</td>\n",
       "      <td>0</td>\n",
       "      <td>0</td>\n",
       "      <td>Aspirin, ramipril, atorvastatin</td>\n",
       "      <td>None</td>\n",
       "    </tr>\n",
       "    <tr>\n",
       "      <th>2</th>\n",
       "      <td>Jane Smith</td>\n",
       "      <td>1</td>\n",
       "      <td>72</td>\n",
       "      <td>1</td>\n",
       "      <td>1</td>\n",
       "      <td>1</td>\n",
       "      <td>140</td>\n",
       "      <td>80</td>\n",
       "      <td>90</td>\n",
       "      <td>1</td>\n",
       "      <td>...</td>\n",
       "      <td>15</td>\n",
       "      <td>0</td>\n",
       "      <td>1</td>\n",
       "      <td>0</td>\n",
       "      <td>0</td>\n",
       "      <td>0</td>\n",
       "      <td>0</td>\n",
       "      <td>1</td>\n",
       "      <td>Warfarin, lisinopril, atorvastatin</td>\n",
       "      <td>Mitral valve repair surgery</td>\n",
       "    </tr>\n",
       "    <tr>\n",
       "      <th>3</th>\n",
       "      <td>John Doe</td>\n",
       "      <td>0</td>\n",
       "      <td>68</td>\n",
       "      <td>1</td>\n",
       "      <td>1</td>\n",
       "      <td>1</td>\n",
       "      <td>130</td>\n",
       "      <td>80</td>\n",
       "      <td>95</td>\n",
       "      <td>1</td>\n",
       "      <td>...</td>\n",
       "      <td>26</td>\n",
       "      <td>0</td>\n",
       "      <td>1</td>\n",
       "      <td>0</td>\n",
       "      <td>0</td>\n",
       "      <td>0</td>\n",
       "      <td>0</td>\n",
       "      <td>1</td>\n",
       "      <td>Warfarin, lisinopril, atorvastatin</td>\n",
       "      <td>Mitral valve replacement surgery</td>\n",
       "    </tr>\n",
       "    <tr>\n",
       "      <th>4</th>\n",
       "      <td>John Doe</td>\n",
       "      <td>0</td>\n",
       "      <td>55</td>\n",
       "      <td>1</td>\n",
       "      <td>1</td>\n",
       "      <td>1</td>\n",
       "      <td>130</td>\n",
       "      <td>80</td>\n",
       "      <td>100</td>\n",
       "      <td>1</td>\n",
       "      <td>...</td>\n",
       "      <td>18</td>\n",
       "      <td>0</td>\n",
       "      <td>1</td>\n",
       "      <td>0</td>\n",
       "      <td>0</td>\n",
       "      <td>0</td>\n",
       "      <td>0</td>\n",
       "      <td>2</td>\n",
       "      <td>Warfarin, lisinopril, diuretic</td>\n",
       "      <td>Mitral valve replacement surgery</td>\n",
       "    </tr>\n",
       "  </tbody>\n",
       "</table>\n",
       "<p>5 rows × 49 columns</p>\n",
       "</div>"
      ],
      "text/plain": [
       "           Name  Gender  Age  Chest pain  Shortness of breath  Fatigue  \\\n",
       "0      Jane Doe       1   55           1                    1        1   \n",
       "1  Mark Johnson       0   57           1                    1        1   \n",
       "2    Jane Smith       1   72           1                    1        1   \n",
       "3      John Doe       0   68           1                    1        1   \n",
       "4      John Doe       0   55           1                    1        1   \n",
       "\n",
       "   Systolic  Diastolic  Heart rate (bpm)  Lung sounds  ...  Cardiac CT  \\\n",
       "0       140         90               100            1  ...          42   \n",
       "1       150         80               110            1  ...          43   \n",
       "2       140         80                90            1  ...          15   \n",
       "3       130         80                95            1  ...          26   \n",
       "4       130         80               100            1  ...          18   \n",
       "\n",
       "   Obesity  Murmur  Chest x-ray  Previous illnesses  Pulmonary function tests  \\\n",
       "0        0       1            0                   0                         0   \n",
       "1        0       1            0                   0                         0   \n",
       "2        0       1            0                   0                         0   \n",
       "3        0       1            0                   0                         0   \n",
       "4        0       1            0                   0                         0   \n",
       "\n",
       "   Spirometry  Diagnosis                         Medications  \\\n",
       "0           0          0   Aspirin, metoprolol, atorvastatin   \n",
       "1           0          0     Aspirin, ramipril, atorvastatin   \n",
       "2           0          1  Warfarin, lisinopril, atorvastatin   \n",
       "3           0          1  Warfarin, lisinopril, atorvastatin   \n",
       "4           0          2      Warfarin, lisinopril, diuretic   \n",
       "\n",
       "                          Treatment  \n",
       "0                              None  \n",
       "1                              None  \n",
       "2       Mitral valve repair surgery  \n",
       "3  Mitral valve replacement surgery  \n",
       "4  Mitral valve replacement surgery  \n",
       "\n",
       "[5 rows x 49 columns]"
      ]
     },
     "execution_count": 37,
     "metadata": {},
     "output_type": "execute_result"
    }
   ],
   "source": [
    "# test_data.replace({'Gender':{\"Male\":0,\"Female\":1}},inplace=True)\n",
    "# test_data.replace({'Echocardiogram':{\"None\":0,\"Shows increased pressure in the right ventricle\":1,\"Shows increased pressure in the right ventricle and decreased function of the right ventricle\":2,\"Shows vegetation on the aortic valve\":3,\"Shows vegetation on the aortic valve and pulmonic valve\":4,\"Shows vegetation on the mitral valve\":5,\"Shows vegetation on the mitral valve and aortic valve\":6,\"Shows vegetation on the mitral valve and pulmonary valve\":7,\"Shows vegetation on the mitral valve and tricuspid valve\":8,\"Shows vegetation on the mitral valve, aortic valve and tricuspid valve\":9,\"Shows vegetation on the mitral valve, aortic valve, and pulmonary valve\":10,\"Shows vegetation on the mitral valve, aortic valve, tricuspid valve, and pulmonary valve\":11,\"Shows vegetation on the mitral valve, tricuspid valve, and pulmonary valve\":12,\"Shows vegetation on the pulmonary valve\":13,\"Shows vegetation on the tricuspid valve\":14,\"Shows vegetation on the tricuspid valve and pulmonary valve\":15,\"Shows increased pressure in the right ventricle and decreased function of the left ventricle\":16,\"Shows thickening of the pericardium\":17}},inplace=True)\n",
    "# test_data.replace({'Blood culture':{\"None\":0,\"Positive for Candida albicans\":1,\"Positive for Candida dubliniensis\":2,\"Positive for Candida glabrata\":3,\"Positive for Candida guilliermondii\":4,\"Positive for Candida krusei\":5,\"Positive for Candida lusitaniae\":6,\"Positive for Candida parapsilosis\":7,\"Positive for Candida rugosa\":8,\"Positive for Candida tropicalis\":9,\"Positive for Enterococcus faecalis\":10,\"Positive for Staphylococcus aureus\":11,\"Positive for Staphylococcus epidermidis\":12,\"Positive for Streptococcus anginosus\":13,\"Positive for Streptococcus bovis\":14,\"Positive for Streptococcus mitis\":15,\"Positive for Streptococcus oralis\":16,\"Positive for Streptococcus pneumonia\":17,\"Positive for Streptococcus pneumoniae\":18,\"Positive for Streptococcus salivarius\":19,\"Positive for Streptococcus sanguinis\":20,\"Positive for Streptococcus viridans\":21}},inplace=True)\n",
    "# test_data.replace({'EKG':{\"None\":0,\"Abnormal\":1,\"Normal\":2,\"Shows an elevated ST segment and PR interval consistent with pericarditis\":3,\"Shows atrial fibrillation\":4,\"Shows diffuse ST depression and PR elevation consistent with pericarditis\":5,\"Shows electrical alternans consistent with pericarditis\":6,\"Shows evidence of aortic stenosis\":7,\"Shows evidence of aortic valve regurgitation\":8,\"Shows evidence of arrhythmogenic right ventricular cardiomyopathy\":9,\"Shows evidence of atrial fibrillation and left ventricular hypertrophy\":10,\"Shows evidence of atrial fibrillation and valve regurgitation\":11,\"Shows evidence of dilated cardiomyopathy\":12,\"Shows evidence of endocarditis\":13,\"Shows evidence of hypertrophic cardiomyopathy\":14,\"Shows evidence of left bundle branch block\":15,\"Shows evidence of left bundle branch block and left ventricular hypertrophy\":16,\"Shows evidence of left ventricular dysfunction and valve regurgitation\":17,\"Shows evidence of left ventricular hypertrophy\":18,\"Shows evidence of left ventricular hypertrophy and atrial fibrillation\":19,\"Shows evidence of left ventricular hypertrophy and left atrial enlargement\":20,\"Shows evidence of left ventricular hypertrophy and ST-segment depression\":21,\"Shows evidence of left ventricular hypertrophy and ST-segment elevation\":22,\"Shows evidence of mitral regurgitation\":23,\"Shows evidence of mitral regurgitation and atrial fibrillation\":24,\"Shows evidence of mitral stenosis\":25,\"Shows evidence of mitral valve regurgitation\":26,\"Shows evidence of pericarditis\":27,\"Shows evidence of pericarditis and atrial fibrillation\":28,\"Shows evidence of pericarditis and left atrial enlargement\":29,\"Shows evidence of pericarditis and left bundle branch block\":30,\"Shows evidence of pericarditis and left ventricular hypertrophy\":31,\"Shows evidence of pericarditis and right bundle branch block\":32,\"Shows evidence of pericarditis and right ventricular hypertrophy\":33,\"Shows evidence of pericarditis and sinus tachycardia\":34,\"Shows evidence of pericarditis and valve regurgitation\":35,\"Shows evidence of pulmonary stenosis\":36,\"Shows evidence of restrictive cardiomyopathy\":37,\"Shows evidence of right bundle branch block\":38,\"Shows evidence of right bundle branch block and left ventricular hypertrophy\":39,\"Shows evidence of ST-segment depression in leads II, III, and aVF\":40,\"Shows evidence of Takotsubo cardiomyopathy\":41,\"Shows evidence of tricuspid stenosis\":42,\"Shows evidence of tricuspid valve regurgitation\":43,\"Shows evidence of T-wave inversion in leads V1-V4\":44,\"Shows left bundle branch block\":45,\"Shows left ventricular hypertrophy\":46,\"Shows low voltage QRS consistent with pericarditis\":47,\"Shows sinus tachycardia\":48,\"Shows sinus tachycardia and diffuse ST elevation consistent with pericarditis\":49,\"Shows ST-segment elevation\":50,\"Shows evidence of atrial enlargement\":51,\"Shows evidence of right ventricular hypertrophy\":52,\"Shows evidence of left ventricular hypertrophy and restricted diastolic filling\":53,\"Shows low voltage and electrical alternans\":54,\"Shows sinus tachycardia and low voltage\":55,\"Shows evidence of atrial enlargement and low voltage QRS complex\":56,\"Shows evidence of atrial fibrillation\":57,\"Shows evidence of left ventricular hypertrophy and right atrial dilation\":58,\"Shows evidence of pericardial thickening\":59}},inplace=True)\n",
    "# test_data.replace({'Cardiac CT':{\"None\":0,\"Shows a 100% dilation of the proximal aorta\":1,\"Shows a 110% dilation of the proximal aorta\":2,\"Shows a 120% dilation of the proximal aorta\":3,\"Shows a 130% dilation of the proximal aorta\":4,\"Shows a 25% dilation of the infrarenal aorta\":5,\"Shows a 30% dilation of the abdominal aorta\":6,\"Shows a 30% dilation of the infrarenal aorta\":7,\"Shows a 35% dilation of the infrarenal aorta\":8,\"Shows a 38% dilation of the infrarenal aorta\":9,\"Shows a 40% dilation of the abdominal aorta\":10,\"Shows a 40% dilation of the infrarenal aorta\":11,\"Shows a 40% dilation of the thoracic aorta\":12,\"Shows a 40% dilation of the thoracoabdominal aorta\":13,\"Shows a 42% dilation of the infrarenal aorta\":14,\"Shows a 45% dilation of the infrarenal aorta\":15,\"Shows a 45% dilation of the thoracic aorta\":16,\"Shows a 50% blockage in the left anterior descending coronary artery\":17,\"Shows a 50% dilation of the abdominal aorta\":18,\"Shows a 50% dilation of the proximal aorta\":19,\"Shows a 50% dilation of the thoracic aorta\":20,\"Shows a 50% dilation of the thoracoabdominal aorta\":21,\"Shows a 55% dilation of the proximal aorta\":22,\"Shows a 55% dilation of the thoracic aorta\":23,\"Shows a 60% blockage in the left main coronary artery\":24,\"Shows a 60% blockage in the right coronary artery\":25,\"Shows a 60% dilation of the abdominal aorta\":26,\"Shows a 60% dilation of the proximal aorta\":27,\"Shows a 60% dilation of the thoracic aorta\":28,\"Shows a 60% dilation of the thoracoabdominal aorta\":29,\"Shows a 65% dilation of the thoracic aorta\":30,\"Shows a 70% blockage in the left anterior descending coronary artery\":31,\"Shows a 70% blockage in the right coronary artery\":32,\"Shows a 70% dilation of the abdominal aorta\":33,\"Shows a 70% dilation of the proximal aorta\":34,\"Shows a 70% dilation of the thoracic aorta\":35,'Shows a 70% dilation of the thoracoabdominal aorta':36,\"Shows a 75% blockage in the left anterior descending coronary artery\":37,\"Shows a 75% dilation of the thoracic aorta\":38,\"Shows a 80% blockage in the left circumflex coronary artery\":39,\"Shows a 80% dilation of the proximal aorta\":40,\"Shows a 80% dilation of the thoracoabdominal aorta\":41,\"Shows a 80% dilation of the thoracoabdominal aorta\":42,\"Shows a 90% blockage in the right coronary artery\":43,\"Shows a 90% dilation of the proximal aorta\":44,\"Shows a 90% dilation of the thoracic aorta\":45,\"Shows a 90% dilation of the thoracoabdominal aorta\":46,\"Shows a mild dilatation in the left ventricle\":47,\"Shows a mild dysfunction of the left ventricle\":48,\"Shows a mild dysfunction of the right ventricle\":49,\"Shows a mild hypertrophy in the left ventricle\":50,\"Shows a mild regurgitation in the mitral valve\":51,\"Shows a mild restriction in the ventricular filling\":52,\"Shows a mild stenosis in the mitral valve\":53,\"Shows a mild stenosis in the pulmonary valve\":54,\"Shows a mild stenosis in the tricuspid valve\":55,\"Shows a moderate dilatation in the left ventricle\":56,\"Shows a moderate dysfunction of the left ventricle\":57,\"Shows a moderate dysfunction of the right ventricle\":58,\"Shows a moderate hypertrophy in the left ventricle\":59,\"Shows a moderate hypertrophy in the right ventricle\":60,\"Shows a moderate regurgitation in the mitral valve\":61,\"Shows a moderate restriction in the ventricular filling\":62,\"Shows a moderate stenosis in the aortic valve\":63,\"Shows a moderate stenosis in the mitral valve\":64,\"Shows a moderate stenosis in the pulmonary valve\":65,\"Shows a moderate stenosis in the tricuspid valve\":66,\"Shows a severe dilatation in the left ventricle\":67,\"Shows a severe dysfunction of the left ventricle\":68,\"Shows a severe dysfunction of the right ventricle\":69,\"Shows a severe hypertrophy in the left ventricle\":70,\"Shows a severe hypertrophy in the right ventricle\":71,\"Shows a severe regurgitation in the mitral valve\":72,\"Shows a severe restriction in the ventricular filling\":73,\"Shows a severe stenosis in the aortic valve\":74,\"Shows a severe stenosis in the mitral valve\":75,\"Shows a severe stenosis in the tricuspid valve\":76,\"Shows constrictive pericarditis\":77,\"Shows effusion in the pericardium\":78,\"Shows pericardial effusion and tamponade\":79,\"Shows pericarditis with myocarditis\":80,\"Shows thickening of the pericardium\":81}},inplace=True)\n",
    "# test_data.replace({'Chest x-ray':{\"None\":0,\"Shows hyperinflation and bronchial wall thickening\":1,\"Shows hyperinflation, bronchial wall thickening, and increased vascular markings\":2,\"Shows increased vascular markings and signs of chronic changes in the lungs\":3,\"Shows increased vascular markings and signs of lung restriction\":4,\"Shows increased vascular markings and small areas of consolidation in the lungs\":5,\"Shows increased vascular markings and small areas of fibrosis in the lungs\":6,\"Shows increased vascular markings in the lungs\":7,\"Shows increased vascular markings in the lungs, small areas of fibrosis, and signs of lung restriction\":8,\"Shows increased vascular markings, small areas of fibrosis and signs of lung restriction\":9,\"Shows increased vascular markings, small areas of fibrosis, and signs of chronic changes in the lungs\":10,\"Shows increased vascular markings, small areas of fibrosis, and signs of lung restriction\":11,\"Shows normal lung structures with no obvious abnormalities\":12}},inplace=True)\n",
    "# test_data.replace({'Previous illnesses':{\"None\":0,\"Aortic valve replacement surgery\":1,\"Mitral valve replacement surgery\":2,\"Recent chest surgery\":3,\"Recent viral infection\":4,\"Tricuspid valve replacement surgery\":5}},inplace=True)\n",
    "# test_data.replace({'Pulmonary function tests':{\"None\":0,\"Shows decreased lung capacity\":1,\"Shows decreased lung capacity and reduced diffusing capacity of the lung for carbon monoxide\":2,\"Shows decreased lung capacity, reduced diffusing capacity of the lung for carbon monoxide and decreased lung volumes\":3,\"Shows normal lung capacity\":4}},inplace=True)\n",
    "# test_data.replace({'Spirometry':{\"None\":0,\"Shows decreased lung function and increased airway resistance\":1}},inplace=True)\n",
    "# test_data.replace({'Diagnosis':{'Coronary artery disease (CAD)':0, 'Mitral regurgitation':1, 'Mitral stenosis':2, 'Aortic stenosis':3, 'Tricuspid stenosis':4,'Pulmonary stenosis':5, 'Dilated cardiomyopathy':6, 'Hypertrophic cardiomyopathy':7, 'Restrictive cardiomyopathy':8,'Arrhythmogenic right ventricular cardiomyopathy':9, 'Takotsubo cardiomyopathy':10, 'Thoracic aortic aneurysm':11, 'Abdominal aortic aneurysm':12,'Proximal aortic aneurysm':13, 'Infrarenal aortic aneurysm':14, 'Thoracoabdominal aortic aneurysm':15, 'Acute pericarditis':16, 'Chronic pericarditis':17,'Constrictive pericarditis':18, 'Pericardial effusion with tamponade':19, 'Pericarditis with myocarditis':20, 'Acute native valve endocarditis':21,'Subacute native valve endocarditis':22, 'Infective endocarditis on prosthetic valve':23, 'Candidal endocarditis':24, 'Native valve endocarditis involving multiple valves':25,'Primary pulmonary hypertension':26, 'Secondary pulmonary hypertension due to COPD':27, 'Secondary pulmonary hypertension due to obesity and sleep apnea':28, 'Secondary pulmonary hypertension due to scleroderma':29,'Secondary pulmonary hypertension due to chronic thromboembolic disease':30}},inplace=True)\n",
    "# test_data.head()\n",
    "\n",
    "# test_data.tail(20)\n",
    "\n",
    "test_data.replace({'Gender':{\"Male\":0,\"Female\":1}},inplace=True)\n",
    "test_data.replace({'Echocardiogram':{\"None\":0,\"Shows increased pressure in the right ventricle\":1,\"Shows increased pressure in the right ventricle and decreased function of the right ventricle\":2,\"Shows vegetation on the aortic valve\":3,\"Shows vegetation on the aortic valve and pulmonic valve\":4,\"Shows vegetation on the mitral valve\":5,\"Shows vegetation on the mitral valve and aortic valve\":6,\"Shows vegetation on the mitral valve and pulmonary valve\":7,\"Shows vegetation on the mitral valve and tricuspid valve\":8,\"Shows vegetation on the mitral valve, aortic valve and tricuspid valve\":9,\"Shows vegetation on the mitral valve, aortic valve, and pulmonary valve\":10,\"Shows vegetation on the mitral valve, aortic valve, tricuspid valve, and pulmonary valve\":11,\"Shows vegetation on the mitral valve, tricuspid valve, and pulmonary valve\":12,\"Shows vegetation on the pulmonary valve\":13,\"Shows vegetation on the tricuspid valve\":14,\"Shows vegetation on the tricuspid valve and pulmonary valve\":15,\"Shows increased pressure in the right ventricle and decreased function of the left ventricle\":16,\"Shows thickening of the pericardium\":17}},inplace=True)\n",
    "test_data.replace({'Blood culture':{\"None\":0,\"Positive for Candida albicans\":1,\"Positive for Candida dubliniensis\":2,\"Positive for Candida glabrata\":3,\"Positive for Candida guilliermondii\":4,\"Positive for Candida krusei\":5,\"Positive for Candida lusitaniae\":6,\"Positive for Candida parapsilosis\":7,\"Positive for Candida rugosa\":8,\"Positive for Candida tropicalis\":9,\"Positive for Enterococcus faecalis\":10,\"Positive for Staphylococcus aureus\":11,\"Positive for Staphylococcus epidermidis\":12,\"Positive for Streptococcus anginosus\":13,\"Positive for Streptococcus bovis\":14,\"Positive for Streptococcus mitis\":15,\"Positive for Streptococcus oralis\":16,\"Positive for Streptococcus pneumonia\":17,\"Positive for Streptococcus pneumoniae\":18,\"Positive for Streptococcus salivarius\":19,\"Positive for Streptococcus sanguinis\":20,\"Positive for Streptococcus viridans\":21}},inplace=True)\n",
    "test_data.replace({'EKG':{\"None\":0,\"Abnormal\":1,\"Normal\":2,\"Shows an elevated ST segment and PR interval consistent with pericarditis\":3,\"Shows atrial fibrillation\":4,\"Shows diffuse ST depression and PR elevation consistent with pericarditis\":5,\"Shows electrical alternans consistent with pericarditis\":6,\"Shows evidence of aortic stenosis\":7,\"Shows evidence of aortic valve regurgitation\":8,\"Shows evidence of arrhythmogenic right ventricular cardiomyopathy\":9,\"Shows evidence of atrial fibrillation and left ventricular hypertrophy\":10,\"Shows evidence of atrial fibrillation and valve regurgitation\":11,\"Shows evidence of dilated cardiomyopathy\":12,\"Shows evidence of endocarditis\":13,\"Shows evidence of hypertrophic cardiomyopathy\":14,\"Shows evidence of left bundle branch block\":15,\"Shows evidence of left bundle branch block and left ventricular hypertrophy\":16,\"Shows evidence of left ventricular dysfunction and valve regurgitation\":17,\"Shows evidence of left ventricular hypertrophy\":18,\"Shows evidence of left ventricular hypertrophy and atrial fibrillation\":19,\"Shows evidence of left ventricular hypertrophy and left atrial enlargement\":20,\"Shows evidence of left ventricular hypertrophy and ST-segment depression\":21,\"Shows evidence of left ventricular hypertrophy and ST-segment elevation\":22,\"Shows evidence of mitral regurgitation\":23,\"Shows evidence of mitral regurgitation and atrial fibrillation\":24,\"Shows evidence of mitral stenosis\":25,\"Shows evidence of mitral valve regurgitation\":26,\"Shows evidence of pericarditis\":27,\"Shows evidence of pericarditis and atrial fibrillation\":28,\"Shows evidence of pericarditis and left atrial enlargement\":29,\"Shows evidence of pericarditis and left bundle branch block\":30,\"Shows evidence of pericarditis and left ventricular hypertrophy\":31,\"Shows evidence of pericarditis and right bundle branch block\":32,\"Shows evidence of pericarditis and right ventricular hypertrophy\":33,\"Shows evidence of pericarditis and sinus tachycardia\":34,\"Shows evidence of pericarditis and valve regurgitation\":35,\"Shows evidence of pulmonary stenosis\":36,\"Shows evidence of restrictive cardiomyopathy\":37,\"Shows evidence of right bundle branch block\":38,\"Shows evidence of right bundle branch block and left ventricular hypertrophy\":39,\"Shows evidence of ST-segment depression in leads II, III, and aVF\":40,\"Shows evidence of Takotsubo cardiomyopathy\":41,\"Shows evidence of tricuspid stenosis\":42,\"Shows evidence of tricuspid valve regurgitation\":43,\"Shows evidence of T-wave inversion in leads V1-V4\":44,\"Shows left bundle branch block\":45,\"Shows left ventricular hypertrophy\":46,\"Shows low voltage QRS consistent with pericarditis\":47,\"Shows sinus tachycardia\":48,\"Shows sinus tachycardia and diffuse ST elevation consistent with pericarditis\":49,\"Shows ST-segment elevation\":50,\"Shows evidence of atrial enlargement\":51,\"Shows evidence of right ventricular hypertrophy\":52,\"Shows evidence of left ventricular hypertrophy and restricted diastolic filling\":53,\"Shows low voltage and electrical alternans\":54,\"Shows sinus tachycardia and low voltage\":55,\"Shows evidence of atrial enlargement and low voltage QRS complex\":56,\"Shows evidence of atrial fibrillation\":57,\"Shows evidence of left ventricular hypertrophy and right atrial dilation\":58,\"Shows evidence of pericardial thickening\":59}},inplace=True)\n",
    "test_data.replace({'Cardiac CT':{\"None\":0,\"Shows a 100% dilation of the proximal aorta\":\"Shows dilation of the proximal aorta\",\"Shows a 110% dilation of the proximal aorta\":\"Shows dilation of the proximal aorta\",\"Shows a 120% dilation of the proximal aorta\":\"Shows dilation of the proximal aorta\",\"Shows a 130% dilation of the proximal aorta\":\"Shows dilation of the proximal aorta\",\"Shows a 25% dilation of the infrarenal aorta\":\"Shows dilation of the infrarenal aorta\",\"Shows a 30% dilation of the abdominal aorta\":\"Shows dilation of the abdominal aorta\",\"Shows a 30% dilation of the infrarenal aorta\":\"Shows dilation of the infrarenal aorta\",\"Shows a 35% dilation of the infrarenal aorta\":\"Shows dilation of the infrarenal aorta\",\"Shows a 38% dilation of the infrarenal aorta\":\"Shows dilation of the infrarenal aorta\",\"Shows a 40% dilation of the abdominal aorta\":\"Shows dilation of the abdominal aorta\",\"Shows a 40% dilation of the infrarenal aorta\":\"Shows dilation of the infrarenal aorta\",\"Shows a 40% dilation of the thoracic aorta\":\"Shows dilation of the thoracic aorta\",\"Shows a 40% dilation of the thoracoabdominal aorta\":\"Shows dilation of the thoracoabdominal aorta\",\"Shows a 42% dilation of the infrarenal aorta\":\"Shows dilation of the infrarenal aorta\",\"Shows a 45% dilation of the infrarenal aorta\":\"Shows dilation of the infrarenal aorta\",\"Shows a 45% dilation of the thoracic aorta\":\"Shows dilation of the thoracic aorta\",\"Shows a 50% blockage in the left anterior descending coronary artery\":\"Shows blockage in the left anterior descending coronary artery\",\"Shows a 50% dilation of the abdominal aorta\":\"Shows dilation of the abdominal aorta\",\"Shows a 50% dilation of the proximal aorta\":\"Shows dilation of the proximal aorta\",\"Shows a 50% dilation of the thoracic aorta\":\"Shows dilation of the thoracic aorta\",\"Shows a 50% dilation of the thoracoabdominal aorta\":\"Shows dilation of the thoracoabdominal aorta\",\"Shows a 55% dilation of the proximal aorta\":\"Shows dilation of the proximal aorta\",\"Shows a 55% dilation of the thoracic aorta\":\"Shows dilation of the thoracic aorta\",\"Shows a 60% blockage in the left main coronary artery\":\"Shows blockage in the left main coronary artery\",\"Shows a 60% blockage in the right coronary artery\":\"Shows blockage in the right coronary artery\",\"Shows a 60% dilation of the abdominal aorta\":\"Shows dilation of the abdominal aorta\",\"Shows a 60% dilation of the proximal aorta\":\"Shows dilation of the proximal aorta\",\"Shows a 60% dilation of the thoracic aorta\":\"Shows dilation of the thoracic aorta\",\"Shows a 60% dilation of the thoracoabdominal aorta\":\"Shows dilation of the thoracoabdominal aorta\",\"Shows a 65% dilation of the thoracic aorta\":\"Shows dilation of the thoracic aorta\",\"Shows a 70% blockage in the left anterior descending coronary artery\":\"Shows blockage in the left anterior descending coronary artery\",\"Shows a 70% blockage in the right coronary artery\":\"Shows blockage in the right coronary artery\",\"Shows a 70% dilation of the abdominal aorta\":\"Shows dilation of the abdominal aorta\",\"Shows a 70% dilation of the proximal aorta\":\"Shows dilation of the proximal aorta\",\"Shows a 70% dilation of the thoracic aorta\":\"Shows dilation of the thoracic aorta\",'Shows a 70% dilation of the thoracoabdominal aorta':\"Shows dilation of the thoracoabdominal aorta\",\"Shows a 75% blockage in the left anterior descending coronary artery\":\"Shows blockage in the left anterior descending coronary artery\",\"Shows a 75% dilation of the thoracic aorta\":\"Shows dilation of the thoracic aorta\",\"Shows a 80% blockage in the left circumflex coronary artery\":\"Shows blockage in the left circumflex coronary artery\",\"Shows a 80% dilation of the proximal aorta\":\"Shows dilation of the proximal aorta\",\"Shows a 80% dilation of the thoracoabdominal aorta\":\"Shows dilation of the thoracoabdominal aorta\",\"Shows a 80% dilation of the thoracoabdominal aorta\":\"Shows dilation of the thoracoabdominal aorta\",\"Shows a 90% blockage in the right coronary artery\":\"Shows blockage in the right coronary artery\",\"Shows a 90% dilation of the proximal aorta\":\"Shows dilation of the proximal aorta\",\"Shows a 90% dilation of the thoracic aorta\":\"Shows dilation of the thoracic aorta\",\"Shows a 90% dilation of the thoracoabdominal aorta\":\"Shows dilation of the thoracoabdominal aorta\",\"Shows a mild dilatation in the left ventricle\":1,\"Shows a mild dysfunction of the left ventricle\":2,\"Shows a mild dysfunction of the right ventricle\":3,\"Shows a mild hypertrophy in the left ventricle\":4,\"Shows a mild regurgitation in the mitral valve\":5,\"Shows a mild restriction in the ventricular filling\":6,\"Shows a mild stenosis in the mitral valve\":7,\"Shows a mild stenosis in the pulmonary valve\":8,\"Shows a mild stenosis in the tricuspid valve\":9,\"Shows a moderate dilatation in the left ventricle\":10,\"Shows a moderate dysfunction of the left ventricle\":11,\"Shows a moderate dysfunction of the right ventricle\":12,\"Shows a moderate hypertrophy in the left ventricle\":13,\"Shows a moderate hypertrophy in the right ventricle\":14,\"Shows a moderate regurgitation in the mitral valve\":15,\"Shows a moderate restriction in the ventricular filling\":16,\"Shows a moderate stenosis in the aortic valve\":17,\"Shows a moderate stenosis in the mitral valve\":18,\"Shows a moderate stenosis in the pulmonary valve\":19,\"Shows a moderate stenosis in the tricuspid valve\":20,\"Shows a severe dilatation in the left ventricle\":21,\"Shows a severe dysfunction of the left ventricle\":22,\"Shows a severe dysfunction of the right ventricle\":23,\"Shows a severe hypertrophy in the left ventricle\":24,\"Shows a severe hypertrophy in the right ventricle\":25,\"Shows a severe regurgitation in the mitral valve\":26,\"Shows a severe restriction in the ventricular filling\":27,\"Shows a severe stenosis in the aortic valve\":28,\"Shows a severe stenosis in the mitral valve\":29,\"Shows a severe stenosis in the tricuspid valve\":30,\"Shows constrictive pericarditis\":31,\"Shows effusion in the pericardium\":32,\"Shows pericardial effusion and tamponade\":33,\"Shows pericarditis with myocarditis\":34,\"Shows thickening of the pericardium\":35}},inplace=True)\n",
    "test_data.replace({'Chest x-ray':{\"None\":0,\"Shows hyperinflation and bronchial wall thickening\":1,\"Shows hyperinflation, bronchial wall thickening, and increased vascular markings\":2,\"Shows increased vascular markings and signs of chronic changes in the lungs\":3,\"Shows increased vascular markings and signs of lung restriction\":4,\"Shows increased vascular markings and small areas of consolidation in the lungs\":5,\"Shows increased vascular markings and small areas of fibrosis in the lungs\":6,\"Shows increased vascular markings in the lungs\":7,\"Shows increased vascular markings in the lungs, small areas of fibrosis, and signs of lung restriction\":8,\"Shows increased vascular markings, small areas of fibrosis and signs of lung restriction\":9,\"Shows increased vascular markings, small areas of fibrosis, and signs of chronic changes in the lungs\":10,\"Shows increased vascular markings, small areas of fibrosis, and signs of lung restriction\":11,\"Shows normal lung structures with no obvious abnormalities\":12}},inplace=True)\n",
    "test_data.replace({'Previous illnesses':{\"None\":0,\"Aortic valve replacement surgery\":1,\"Mitral valve replacement surgery\":2,\"Recent chest surgery\":3,\"Recent viral infection\":4,\"Tricuspid valve replacement surgery\":5}},inplace=True)\n",
    "test_data.replace({'Pulmonary function tests':{\"None\":0,\"Shows decreased lung capacity\":1,\"Shows decreased lung capacity and reduced diffusing capacity of the lung for carbon monoxide\":2,\"Shows decreased lung capacity, reduced diffusing capacity of the lung for carbon monoxide and decreased lung volumes\":3,\"Shows normal lung capacity\":4}},inplace=True)\n",
    "test_data.replace({'Spirometry':{\"None\":0,\"Shows decreased lung function and increased airway resistance\":1}},inplace=True)\n",
    "test_data.replace({'Diagnosis':{'Coronary artery disease (CAD)':0, 'Mitral regurgitation':1, 'Mitral stenosis':2, 'Aortic stenosis':3, 'Tricuspid stenosis':4,'Pulmonary stenosis':5, 'Dilated cardiomyopathy':6, 'Hypertrophic cardiomyopathy':7, 'Restrictive cardiomyopathy':8,'Arrhythmogenic right ventricular cardiomyopathy':9, 'Takotsubo cardiomyopathy':10, 'Thoracic aortic aneurysm':11, 'Abdominal aortic aneurysm':12,'Proximal aortic aneurysm':13, 'Infrarenal aortic aneurysm':14, 'Thoracoabdominal aortic aneurysm':15, 'Acute pericarditis':16, 'Chronic pericarditis':17,'Constrictive pericarditis':18, 'Pericardial effusion with tamponade':19, 'Pericarditis with myocarditis':20, 'Acute native valve endocarditis':21,'Subacute native valve endocarditis':22, 'Infective endocarditis on prosthetic valve':23, 'Candidal endocarditis':24, 'Native valve endocarditis involving multiple valves':25,'Primary pulmonary hypertension':26, 'Secondary pulmonary hypertension due to COPD':27, 'Secondary pulmonary hypertension due to obesity and sleep apnea':28, 'Secondary pulmonary hypertension due to scleroderma':29,'Secondary pulmonary hypertension due to chronic thromboembolic disease':30}},inplace=True)\n",
    "test_data_final = test_data\n",
    "test_data_final.replace({'Cardiac CT':{\"Shows dilation of the proximal aorta\":36,\"Shows dilation of the infrarenal aorta\":37,\"Shows dilation of the abdominal aorta\":38,\"Shows dilation of the thoracic aorta\":39,\"Shows dilation of the thoracoabdominal aorta\":40,\"Shows blockage in the left main coronary artery\":41,\"Shows blockage in the left anterior descending coronary artery\":42,\"Shows blockage in the right coronary artery\":43,\"Shows blockage in the left circumflex coronary artery\":44}},inplace=True)\n",
    "test_data_final.head()\n",
    "\n",
    "# df.to_csv(r\"E:\\medical hackathon\\preprocessed_heart_training.csv\", index=False)"
   ]
  },
  {
   "cell_type": "markdown",
   "id": "72ab4900",
   "metadata": {},
   "source": [
    "### Checking for null values"
   ]
  },
  {
   "cell_type": "code",
   "execution_count": 38,
   "id": "471ba60f",
   "metadata": {},
   "outputs": [
    {
     "data": {
      "text/plain": [
       "Name                                               0\n",
       "Gender                                             0\n",
       "Age                                                0\n",
       "Chest pain                                         0\n",
       "Shortness of breath                                0\n",
       "Fatigue                                            0\n",
       "Systolic                                           0\n",
       "Diastolic                                          0\n",
       "Heart rate (bpm)                                   0\n",
       "Lung sounds                                        0\n",
       "Cholesterol level (mg/dL)                          0\n",
       "LDL level (mg/dL)                                  0\n",
       "HDL level (mg/dL)                                  0\n",
       "Diabetes                                           0\n",
       "Atrial fibrillation                                0\n",
       "Mitral valve prolapse                              0\n",
       "Rheumatic fever                                    0\n",
       "Mitral stenosis                                    0\n",
       "Aortic stenosis                                    0\n",
       "Tricuspid stenosis                                 0\n",
       "Pulmonary stenosis                                 0\n",
       "Dilated cardiomyopathy                             0\n",
       "Hypertrophic cardiomyopathy                        0\n",
       "Restrictive cardiomyopathy                         0\n",
       "Arrhythmogenic right ventricular cardiomyopathy    0\n",
       "Takotsubo cardiomyopathy                           0\n",
       "Drug use                                           0\n",
       "Fever                                              0\n",
       "Chills                                             0\n",
       "Joint pain                                         0\n",
       "Alcoholism                                         0\n",
       "Hypertension                                       0\n",
       "Fainting                                           0\n",
       "Dizziness                                          0\n",
       "Smoking                                            0\n",
       "High cholesterol                                   0\n",
       "Echocardiogram                                     0\n",
       "Blood culture                                      0\n",
       "EKG                                                0\n",
       "Cardiac CT                                         0\n",
       "Obesity                                            0\n",
       "Murmur                                             0\n",
       "Chest x-ray                                        0\n",
       "Previous illnesses                                 0\n",
       "Pulmonary function tests                           0\n",
       "Spirometry                                         0\n",
       "Diagnosis                                          0\n",
       "Medications                                        0\n",
       "Treatment                                          0\n",
       "dtype: int64"
      ]
     },
     "execution_count": 38,
     "metadata": {},
     "output_type": "execute_result"
    }
   ],
   "source": [
    "train_data.isnull().sum()"
   ]
  },
  {
   "cell_type": "markdown",
   "id": "5c6ab28f",
   "metadata": {},
   "source": [
    "### Counting the number of datas for different Diagnosis"
   ]
  },
  {
   "cell_type": "code",
   "execution_count": 39,
   "id": "423675bb",
   "metadata": {},
   "outputs": [
    {
     "data": {
      "text/plain": [
       "30    12\n",
       "20    12\n",
       "29    12\n",
       "28    11\n",
       "24    10\n",
       "22    10\n",
       "21    10\n",
       "0     10\n",
       "19     9\n",
       "23     9\n",
       "12     9\n",
       "13     9\n",
       "14     9\n",
       "27     9\n",
       "16     9\n",
       "17     9\n",
       "18     9\n",
       "26     9\n",
       "25     9\n",
       "2      8\n",
       "3      8\n",
       "4      8\n",
       "8      8\n",
       "5      8\n",
       "6      8\n",
       "7      8\n",
       "9      8\n",
       "1      8\n",
       "11     8\n",
       "10     8\n",
       "15     8\n",
       "Name: Diagnosis, dtype: int64"
      ]
     },
     "execution_count": 39,
     "metadata": {},
     "output_type": "execute_result"
    }
   ],
   "source": [
    "train_data['Diagnosis'].value_counts()"
   ]
  },
  {
   "cell_type": "markdown",
   "id": "d770204c",
   "metadata": {},
   "source": [
    "### Splitting the input and target values"
   ]
  },
  {
   "cell_type": "code",
   "execution_count": 40,
   "id": "893534d4",
   "metadata": {},
   "outputs": [],
   "source": [
    "# iloc: takes interger values of [rows, columns]\n",
    "X_train = train_data.iloc[:, 1:46]\n",
    "X_test = test_data.iloc[:, 1:46]\n",
    "\n",
    "# taking second last column\n",
    "y_train = train_data.iloc[:, -3]\n",
    "y_test = test_data.iloc[:, -3]"
   ]
  },
  {
   "cell_type": "code",
   "execution_count": 41,
   "id": "aa6a83b2",
   "metadata": {},
   "outputs": [
    {
     "data": {
      "text/plain": [
       "0       0\n",
       "1       0\n",
       "2       0\n",
       "3       0\n",
       "4       0\n",
       "       ..\n",
       "277    18\n",
       "278    18\n",
       "279    18\n",
       "280    18\n",
       "281    18\n",
       "Name: Diagnosis, Length: 282, dtype: int64"
      ]
     },
     "execution_count": 41,
     "metadata": {},
     "output_type": "execute_result"
    }
   ],
   "source": [
    "y_train"
   ]
  },
  {
   "cell_type": "markdown",
   "id": "d27e4dd7",
   "metadata": {},
   "source": [
    "### Splitting the data for train and test"
   ]
  },
  {
   "cell_type": "code",
   "execution_count": null,
   "id": "ca77b3b5",
   "metadata": {},
   "outputs": [],
   "source": []
  },
  {
   "cell_type": "markdown",
   "id": "cbebfa78",
   "metadata": {},
   "source": [
    "### Use of Random Forest Classifier"
   ]
  },
  {
   "cell_type": "code",
   "execution_count": 42,
   "id": "0b21e7a4",
   "metadata": {},
   "outputs": [],
   "source": [
    "ranforcls = RandomForestClassifier(criterion = \"gini\", max_depth= 8, min_samples_split = 10, random_state = 42)"
   ]
  },
  {
   "cell_type": "code",
   "execution_count": 43,
   "id": "5bc949e1",
   "metadata": {},
   "outputs": [
    {
     "data": {
      "text/html": [
       "<style>#sk-container-id-2 {color: black;background-color: white;}#sk-container-id-2 pre{padding: 0;}#sk-container-id-2 div.sk-toggleable {background-color: white;}#sk-container-id-2 label.sk-toggleable__label {cursor: pointer;display: block;width: 100%;margin-bottom: 0;padding: 0.3em;box-sizing: border-box;text-align: center;}#sk-container-id-2 label.sk-toggleable__label-arrow:before {content: \"▸\";float: left;margin-right: 0.25em;color: #696969;}#sk-container-id-2 label.sk-toggleable__label-arrow:hover:before {color: black;}#sk-container-id-2 div.sk-estimator:hover label.sk-toggleable__label-arrow:before {color: black;}#sk-container-id-2 div.sk-toggleable__content {max-height: 0;max-width: 0;overflow: hidden;text-align: left;background-color: #f0f8ff;}#sk-container-id-2 div.sk-toggleable__content pre {margin: 0.2em;color: black;border-radius: 0.25em;background-color: #f0f8ff;}#sk-container-id-2 input.sk-toggleable__control:checked~div.sk-toggleable__content {max-height: 200px;max-width: 100%;overflow: auto;}#sk-container-id-2 input.sk-toggleable__control:checked~label.sk-toggleable__label-arrow:before {content: \"▾\";}#sk-container-id-2 div.sk-estimator input.sk-toggleable__control:checked~label.sk-toggleable__label {background-color: #d4ebff;}#sk-container-id-2 div.sk-label input.sk-toggleable__control:checked~label.sk-toggleable__label {background-color: #d4ebff;}#sk-container-id-2 input.sk-hidden--visually {border: 0;clip: rect(1px 1px 1px 1px);clip: rect(1px, 1px, 1px, 1px);height: 1px;margin: -1px;overflow: hidden;padding: 0;position: absolute;width: 1px;}#sk-container-id-2 div.sk-estimator {font-family: monospace;background-color: #f0f8ff;border: 1px dotted black;border-radius: 0.25em;box-sizing: border-box;margin-bottom: 0.5em;}#sk-container-id-2 div.sk-estimator:hover {background-color: #d4ebff;}#sk-container-id-2 div.sk-parallel-item::after {content: \"\";width: 100%;border-bottom: 1px solid gray;flex-grow: 1;}#sk-container-id-2 div.sk-label:hover label.sk-toggleable__label {background-color: #d4ebff;}#sk-container-id-2 div.sk-serial::before {content: \"\";position: absolute;border-left: 1px solid gray;box-sizing: border-box;top: 0;bottom: 0;left: 50%;z-index: 0;}#sk-container-id-2 div.sk-serial {display: flex;flex-direction: column;align-items: center;background-color: white;padding-right: 0.2em;padding-left: 0.2em;position: relative;}#sk-container-id-2 div.sk-item {position: relative;z-index: 1;}#sk-container-id-2 div.sk-parallel {display: flex;align-items: stretch;justify-content: center;background-color: white;position: relative;}#sk-container-id-2 div.sk-item::before, #sk-container-id-2 div.sk-parallel-item::before {content: \"\";position: absolute;border-left: 1px solid gray;box-sizing: border-box;top: 0;bottom: 0;left: 50%;z-index: -1;}#sk-container-id-2 div.sk-parallel-item {display: flex;flex-direction: column;z-index: 1;position: relative;background-color: white;}#sk-container-id-2 div.sk-parallel-item:first-child::after {align-self: flex-end;width: 50%;}#sk-container-id-2 div.sk-parallel-item:last-child::after {align-self: flex-start;width: 50%;}#sk-container-id-2 div.sk-parallel-item:only-child::after {width: 0;}#sk-container-id-2 div.sk-dashed-wrapped {border: 1px dashed gray;margin: 0 0.4em 0.5em 0.4em;box-sizing: border-box;padding-bottom: 0.4em;background-color: white;}#sk-container-id-2 div.sk-label label {font-family: monospace;font-weight: bold;display: inline-block;line-height: 1.2em;}#sk-container-id-2 div.sk-label-container {text-align: center;}#sk-container-id-2 div.sk-container {/* jupyter's `normalize.less` sets `[hidden] { display: none; }` but bootstrap.min.css set `[hidden] { display: none !important; }` so we also need the `!important` here to be able to override the default hidden behavior on the sphinx rendered scikit-learn.org. See: https://github.com/scikit-learn/scikit-learn/issues/21755 */display: inline-block !important;position: relative;}#sk-container-id-2 div.sk-text-repr-fallback {display: none;}</style><div id=\"sk-container-id-2\" class=\"sk-top-container\"><div class=\"sk-text-repr-fallback\"><pre>RandomForestClassifier(max_depth=8, min_samples_split=10, random_state=42)</pre><b>In a Jupyter environment, please rerun this cell to show the HTML representation or trust the notebook. <br />On GitHub, the HTML representation is unable to render, please try loading this page with nbviewer.org.</b></div><div class=\"sk-container\" hidden><div class=\"sk-item\"><div class=\"sk-estimator sk-toggleable\"><input class=\"sk-toggleable__control sk-hidden--visually\" id=\"sk-estimator-id-2\" type=\"checkbox\" checked><label for=\"sk-estimator-id-2\" class=\"sk-toggleable__label sk-toggleable__label-arrow\">RandomForestClassifier</label><div class=\"sk-toggleable__content\"><pre>RandomForestClassifier(max_depth=8, min_samples_split=10, random_state=42)</pre></div></div></div></div></div>"
      ],
      "text/plain": [
       "RandomForestClassifier(max_depth=8, min_samples_split=10, random_state=42)"
      ]
     },
     "execution_count": 43,
     "metadata": {},
     "output_type": "execute_result"
    }
   ],
   "source": [
    "ranforcls.fit(X_train, y_train)"
   ]
  },
  {
   "cell_type": "code",
   "execution_count": 44,
   "id": "45cfb9c5",
   "metadata": {},
   "outputs": [
    {
     "data": {
      "text/plain": [
       "array([ 0,  0,  1,  1,  2,  2,  3,  3,  4,  4,  5,  5,  6,  6,  7,  7,  8,\n",
       "        8,  9,  9, 10, 10, 11, 11, 12, 12, 13, 13, 14, 15, 15, 20, 16, 19,\n",
       "       18, 19, 19, 20, 20, 22, 21, 22, 22, 23, 24, 24, 24, 22, 22, 30, 26,\n",
       "       30, 27, 19, 20, 17, 14, 14, 23, 23, 18, 18], dtype=int64)"
      ]
     },
     "execution_count": 44,
     "metadata": {},
     "output_type": "execute_result"
    }
   ],
   "source": [
    "y_pred=ranforcls.predict(X_test)\n",
    "y_pred"
   ]
  },
  {
   "cell_type": "code",
   "execution_count": 45,
   "id": "2a1e73ed",
   "metadata": {},
   "outputs": [
    {
     "data": {
      "text/plain": [
       "array([0.00452629, 0.04009829, 0.00721817, 0.00613783, 0.00077694,\n",
       "       0.02099133, 0.01886908, 0.04617507, 0.0090031 , 0.01521072,\n",
       "       0.01494337, 0.02200022, 0.        , 0.        , 0.02120061,\n",
       "       0.01083625, 0.01840031, 0.01915009, 0.03019642, 0.02191162,\n",
       "       0.02596211, 0.01937433, 0.02021318, 0.02118411, 0.02229627,\n",
       "       0.00071338, 0.03213078, 0.02208552, 0.00750679, 0.        ,\n",
       "       0.009356  , 0.01301951, 0.01431111, 0.01778486, 0.00243381,\n",
       "       0.04819409, 0.04253253, 0.06637713, 0.08886425, 0.01940942,\n",
       "       0.02391148, 0.05390714, 0.02352645, 0.05673359, 0.02052644])"
      ]
     },
     "execution_count": 45,
     "metadata": {},
     "output_type": "execute_result"
    }
   ],
   "source": [
    "ranforcls.feature_importances_"
   ]
  },
  {
   "cell_type": "code",
   "execution_count": 46,
   "id": "150a927a",
   "metadata": {},
   "outputs": [
    {
     "data": {
      "text/plain": [
       "Index(['Gender', 'Age', 'Chest pain', 'Shortness of breath', 'Fatigue',\n",
       "       'Systolic', 'Diastolic', 'Heart rate (bpm)', 'Lung sounds',\n",
       "       'Cholesterol level (mg/dL)', 'LDL level (mg/dL)', 'HDL level (mg/dL)',\n",
       "       'Diabetes', 'Atrial fibrillation', 'Mitral valve prolapse',\n",
       "       'Rheumatic fever', 'Mitral stenosis', 'Aortic stenosis',\n",
       "       'Tricuspid stenosis', 'Pulmonary stenosis', 'Dilated cardiomyopathy',\n",
       "       'Hypertrophic cardiomyopathy', 'Restrictive cardiomyopathy',\n",
       "       'Arrhythmogenic right ventricular cardiomyopathy',\n",
       "       'Takotsubo cardiomyopathy', 'Drug use', 'Fever', 'Chills', 'Joint pain',\n",
       "       'Alcoholism', 'Hypertension', 'Fainting', 'Dizziness', 'Smoking',\n",
       "       'High cholesterol', 'Echocardiogram', 'Blood culture', 'EKG',\n",
       "       'Cardiac CT', 'Obesity', 'Murmur', 'Chest x-ray', 'Previous illnesses',\n",
       "       'Pulmonary function tests', 'Spirometry'],\n",
       "      dtype='object')"
      ]
     },
     "execution_count": 46,
     "metadata": {},
     "output_type": "execute_result"
    }
   ],
   "source": [
    "X_train.columns"
   ]
  },
  {
   "cell_type": "code",
   "execution_count": 47,
   "id": "dbe42f30",
   "metadata": {},
   "outputs": [],
   "source": [
    "# np.array([test_data.iloc[0,1:-3]])"
   ]
  },
  {
   "cell_type": "code",
   "execution_count": 48,
   "id": "e653a70b",
   "metadata": {},
   "outputs": [],
   "source": [
    "# y_pred = ranforcls.predict(np.array([test_data.iloc[0,1:-3]]))"
   ]
  },
  {
   "cell_type": "code",
   "execution_count": 49,
   "id": "4bc97d81",
   "metadata": {},
   "outputs": [],
   "source": [
    "# y_pred"
   ]
  },
  {
   "cell_type": "code",
   "execution_count": 50,
   "id": "96f0fc34",
   "metadata": {},
   "outputs": [],
   "source": [
    "# y_test"
   ]
  },
  {
   "cell_type": "markdown",
   "id": "7cea2caf",
   "metadata": {},
   "source": [
    "### Checking the accuracy of our model"
   ]
  },
  {
   "cell_type": "code",
   "execution_count": 51,
   "id": "62c11c76",
   "metadata": {},
   "outputs": [
    {
     "data": {
      "text/plain": [
       "0.8548387096774194"
      ]
     },
     "execution_count": 51,
     "metadata": {},
     "output_type": "execute_result"
    }
   ],
   "source": [
    "accuracy_score(y_test, y_pred)"
   ]
  },
  {
   "cell_type": "markdown",
   "id": "be0be85e",
   "metadata": {},
   "source": [
    "### Checking the accuracy of each folds of the model ( 6 different folds )"
   ]
  },
  {
   "cell_type": "code",
   "execution_count": 52,
   "id": "6fc53c99",
   "metadata": {},
   "outputs": [],
   "source": [
    "kf = KFold(n_splits = 6, shuffle= True, random_state=42)\n",
    "\n",
    "cv_scores = cross_val_score(ranforcls, X_train, y_train, cv=kf)"
   ]
  },
  {
   "cell_type": "code",
   "execution_count": 53,
   "id": "88b7a27e",
   "metadata": {},
   "outputs": [
    {
     "data": {
      "text/plain": [
       "array([0.93617021, 0.91489362, 0.78723404, 0.85106383, 0.80851064,\n",
       "       0.74468085])"
      ]
     },
     "execution_count": 53,
     "metadata": {},
     "output_type": "execute_result"
    }
   ],
   "source": [
    "cv_scores"
   ]
  },
  {
   "cell_type": "markdown",
   "id": "d9dbe832",
   "metadata": {},
   "source": [
    "### Testing of model by feeding new inputs"
   ]
  },
  {
   "cell_type": "code",
   "execution_count": 54,
   "id": "d3315f03",
   "metadata": {},
   "outputs": [],
   "source": [
    "input_sample=(1,55,1,1,1,140,90,100,1,220,150,40,0,0,0,0,0,0,0,0,0,0,0,0,0,0,0,0,0,0,1,0,0,1,1,0,0,18,17,0,1,0,0,0,0)\n",
    "# input_sample = (0,  68,   1,   1,   1, 130,  80,  95,   1, 210, 140,  40,   0,   1,   1,   0,   0,   0,\n",
    "#     0,   0,   0,   0,   0,   0,   0,   0,   0,   0,   0,   0,   1,   0,   0,   0,   1,   0,\n",
    "#     0,  24,  26,   0,   1,   0,   0,   0,   0)\n",
    "# test_data.iloc[0]\n",
    "input_np_array=np.asarray(input_sample)"
   ]
  },
  {
   "cell_type": "code",
   "execution_count": 55,
   "id": "31394d65",
   "metadata": {},
   "outputs": [],
   "source": [
    "# X.columns"
   ]
  },
  {
   "cell_type": "code",
   "execution_count": 56,
   "id": "53c0b5a9",
   "metadata": {},
   "outputs": [],
   "source": [
    "input_reshape=input_np_array.reshape(1,-1)"
   ]
  },
  {
   "cell_type": "code",
   "execution_count": 57,
   "id": "bcde5384",
   "metadata": {},
   "outputs": [
    {
     "data": {
      "text/plain": [
       "array([[  1,  55,   1,   1,   1, 140,  90, 100,   1, 220, 150,  40,   0,\n",
       "          0,   0,   0,   0,   0,   0,   0,   0,   0,   0,   0,   0,   0,\n",
       "          0,   0,   0,   0,   1,   0,   0,   1,   1,   0,   0,  18,  17,\n",
       "          0,   1,   0,   0,   0,   0]])"
      ]
     },
     "execution_count": 57,
     "metadata": {},
     "output_type": "execute_result"
    }
   ],
   "source": [
    "input_reshape"
   ]
  },
  {
   "cell_type": "code",
   "execution_count": null,
   "id": "af18f851",
   "metadata": {},
   "outputs": [],
   "source": []
  },
  {
   "cell_type": "code",
   "execution_count": 58,
   "id": "c577fff0",
   "metadata": {},
   "outputs": [
    {
     "ename": "OSError",
     "evalue": "No file or directory found at E:\\medical hackathon\\medical hackathon files\\Medical_Hackathon\\hdnn2",
     "output_type": "error",
     "traceback": [
      "\u001b[1;31m---------------------------------------------------------------------------\u001b[0m",
      "\u001b[1;31mOSError\u001b[0m                                   Traceback (most recent call last)",
      "Cell \u001b[1;32mIn [58], line 3\u001b[0m\n\u001b[0;32m      1\u001b[0m \u001b[38;5;28;01mimport\u001b[39;00m \u001b[38;5;21;01mtensorflow\u001b[39;00m \u001b[38;5;28;01mas\u001b[39;00m \u001b[38;5;21;01mtf\u001b[39;00m\n\u001b[1;32m----> 3\u001b[0m model \u001b[38;5;241m=\u001b[39m \u001b[43mtf\u001b[49m\u001b[38;5;241;43m.\u001b[39;49m\u001b[43mkeras\u001b[49m\u001b[38;5;241;43m.\u001b[39;49m\u001b[43mmodels\u001b[49m\u001b[38;5;241;43m.\u001b[39;49m\u001b[43mload_model\u001b[49m\u001b[43m(\u001b[49m\u001b[38;5;124;43mr\u001b[39;49m\u001b[38;5;124;43m'\u001b[39;49m\u001b[38;5;124;43mE:\u001b[39;49m\u001b[38;5;124;43m\\\u001b[39;49m\u001b[38;5;124;43mmedical hackathon\u001b[39;49m\u001b[38;5;124;43m\\\u001b[39;49m\u001b[38;5;124;43mmedical hackathon files\u001b[39;49m\u001b[38;5;124;43m\\\u001b[39;49m\u001b[38;5;124;43mMedical_Hackathon\u001b[39;49m\u001b[38;5;124;43m\\\u001b[39;49m\u001b[38;5;124;43mhdnn2\u001b[39;49m\u001b[38;5;124;43m'\u001b[39;49m\u001b[43m)\u001b[49m\n",
      "File \u001b[1;32m~\\AppData\\Local\\Programs\\Python\\Python310\\lib\\site-packages\\keras\\utils\\traceback_utils.py:70\u001b[0m, in \u001b[0;36mfilter_traceback.<locals>.error_handler\u001b[1;34m(*args, **kwargs)\u001b[0m\n\u001b[0;32m     67\u001b[0m     filtered_tb \u001b[38;5;241m=\u001b[39m _process_traceback_frames(e\u001b[38;5;241m.\u001b[39m__traceback__)\n\u001b[0;32m     68\u001b[0m     \u001b[38;5;66;03m# To get the full stack trace, call:\u001b[39;00m\n\u001b[0;32m     69\u001b[0m     \u001b[38;5;66;03m# `tf.debugging.disable_traceback_filtering()`\u001b[39;00m\n\u001b[1;32m---> 70\u001b[0m     \u001b[38;5;28;01mraise\u001b[39;00m e\u001b[38;5;241m.\u001b[39mwith_traceback(filtered_tb) \u001b[38;5;28;01mfrom\u001b[39;00m \u001b[38;5;28mNone\u001b[39m\n\u001b[0;32m     71\u001b[0m \u001b[38;5;28;01mfinally\u001b[39;00m:\n\u001b[0;32m     72\u001b[0m     \u001b[38;5;28;01mdel\u001b[39;00m filtered_tb\n",
      "File \u001b[1;32m~\\AppData\\Local\\Programs\\Python\\Python310\\lib\\site-packages\\keras\\saving\\legacy\\save.py:227\u001b[0m, in \u001b[0;36mload_model\u001b[1;34m(filepath, custom_objects, compile, options)\u001b[0m\n\u001b[0;32m    225\u001b[0m \u001b[38;5;28;01mif\u001b[39;00m \u001b[38;5;28misinstance\u001b[39m(filepath_str, \u001b[38;5;28mstr\u001b[39m):\n\u001b[0;32m    226\u001b[0m     \u001b[38;5;28;01mif\u001b[39;00m \u001b[38;5;129;01mnot\u001b[39;00m tf\u001b[38;5;241m.\u001b[39mio\u001b[38;5;241m.\u001b[39mgfile\u001b[38;5;241m.\u001b[39mexists(filepath_str):\n\u001b[1;32m--> 227\u001b[0m         \u001b[38;5;28;01mraise\u001b[39;00m \u001b[38;5;167;01mIOError\u001b[39;00m(\n\u001b[0;32m    228\u001b[0m             \u001b[38;5;124mf\u001b[39m\u001b[38;5;124m\"\u001b[39m\u001b[38;5;124mNo file or directory found at \u001b[39m\u001b[38;5;132;01m{\u001b[39;00mfilepath_str\u001b[38;5;132;01m}\u001b[39;00m\u001b[38;5;124m\"\u001b[39m\n\u001b[0;32m    229\u001b[0m         )\n\u001b[0;32m    231\u001b[0m     \u001b[38;5;28;01mif\u001b[39;00m tf\u001b[38;5;241m.\u001b[39mio\u001b[38;5;241m.\u001b[39mgfile\u001b[38;5;241m.\u001b[39misdir(filepath_str):\n\u001b[0;32m    232\u001b[0m         \u001b[38;5;28;01mreturn\u001b[39;00m saved_model_load\u001b[38;5;241m.\u001b[39mload(\n\u001b[0;32m    233\u001b[0m             filepath_str, \u001b[38;5;28mcompile\u001b[39m, options\n\u001b[0;32m    234\u001b[0m         )\n",
      "\u001b[1;31mOSError\u001b[0m: No file or directory found at E:\\medical hackathon\\medical hackathon files\\Medical_Hackathon\\hdnn2"
     ]
    }
   ],
   "source": [
    "import tensorflow as tf\n",
    "\n",
    "model = tf.keras.models.load_model(r'E:\\medical hackathon\\medical hackathon files\\Medical_Hackathon\\hdnn2')"
   ]
  },
  {
   "cell_type": "code",
   "execution_count": 59,
   "id": "4ef5a55c",
   "metadata": {},
   "outputs": [
    {
     "ename": "NameError",
     "evalue": "name 'model' is not defined",
     "output_type": "error",
     "traceback": [
      "\u001b[1;31m---------------------------------------------------------------------------\u001b[0m",
      "\u001b[1;31mNameError\u001b[0m                                 Traceback (most recent call last)",
      "Cell \u001b[1;32mIn [59], line 1\u001b[0m\n\u001b[1;32m----> 1\u001b[0m prediction \u001b[38;5;241m=\u001b[39m \u001b[43mmodel\u001b[49m\u001b[38;5;241m.\u001b[39mpredict(input_reshape)\n\u001b[0;32m      2\u001b[0m prediction\n",
      "\u001b[1;31mNameError\u001b[0m: name 'model' is not defined"
     ]
    }
   ],
   "source": [
    "prediction = model.predict(input_reshape)\n",
    "prediction"
   ]
  },
  {
   "cell_type": "code",
   "execution_count": 60,
   "id": "39179efa",
   "metadata": {},
   "outputs": [
    {
     "name": "stderr",
     "output_type": "stream",
     "text": [
      "C:\\Users\\star\\AppData\\Local\\Programs\\Python\\Python310\\lib\\site-packages\\sklearn\\base.py:450: UserWarning: X does not have valid feature names, but RandomForestClassifier was fitted with feature names\n",
      "  warnings.warn(\n"
     ]
    },
    {
     "data": {
      "text/plain": [
       "array([13], dtype=int64)"
      ]
     },
     "execution_count": 60,
     "metadata": {},
     "output_type": "execute_result"
    }
   ],
   "source": [
    "predictionran = ranforcls.predict(input_reshape)\n",
    "predictionran"
   ]
  },
  {
   "cell_type": "code",
   "execution_count": null,
   "id": "a50d96ef",
   "metadata": {},
   "outputs": [],
   "source": [
    "# result = prediction.astype(int)\n",
    "# result\n",
    "\n",
    "max(max(prediction))"
   ]
  },
  {
   "cell_type": "code",
   "execution_count": null,
   "id": "38fb1195",
   "metadata": {},
   "outputs": [],
   "source": [
    "result = np.argmax(prediction)\n",
    "result"
   ]
  },
  {
   "cell_type": "code",
   "execution_count": null,
   "id": "a44f5b0b",
   "metadata": {},
   "outputs": [],
   "source": [
    "df1 = pd.read_csv(\"E:\\medical hackathon\\medical hackathon files\\Medical_Hackathon\\Dataset\\Dignosis.csv\")\n",
    "df1"
   ]
  },
  {
   "cell_type": "code",
   "execution_count": null,
   "id": "5bed5c1a",
   "metadata": {},
   "outputs": [],
   "source": [
    "print(\"Person is suffering from\", df1.iloc[:,predictionran.astype(int)].columns[0])"
   ]
  },
  {
   "cell_type": "code",
   "execution_count": null,
   "id": "6f2f7660",
   "metadata": {},
   "outputs": [],
   "source": [
    "print(\"Person is suffering from\", df1.iloc[:,result])"
   ]
  },
  {
   "cell_type": "code",
   "execution_count": 32,
   "id": "5d51a31c",
   "metadata": {},
   "outputs": [
    {
     "ename": "NameError",
     "evalue": "name 'predicted_value' is not defined",
     "output_type": "error",
     "traceback": [
      "\u001b[1;31m---------------------------------------------------------------------------\u001b[0m",
      "\u001b[1;31mNameError\u001b[0m                                 Traceback (most recent call last)",
      "Cell \u001b[1;32mIn [32], line 2\u001b[0m\n\u001b[0;32m      1\u001b[0m medication_data \u001b[38;5;241m=\u001b[39m pd\u001b[38;5;241m.\u001b[39mread_csv(\u001b[38;5;124m\"\u001b[39m\u001b[38;5;124mDataset/heart_disease_train_Data.csv\u001b[39m\u001b[38;5;124m\"\u001b[39m)\n\u001b[1;32m----> 2\u001b[0m medication\u001b[38;5;241m=\u001b[39mtrain_data[medication_data[\u001b[38;5;124m\"\u001b[39m\u001b[38;5;124mDiagnosis\u001b[39m\u001b[38;5;124m\"\u001b[39m]\u001b[38;5;241m==\u001b[39m\u001b[43mpredicted_value\u001b[49m]\n\u001b[0;32m      3\u001b[0m medication\u001b[38;5;241m.\u001b[39mset_index(\u001b[38;5;124m\"\u001b[39m\u001b[38;5;124mMedications\u001b[39m\u001b[38;5;124m\"\u001b[39m)\n\u001b[0;32m      4\u001b[0m all_medication\u001b[38;5;241m=\u001b[39mmedication[[\u001b[38;5;124m\"\u001b[39m\u001b[38;5;124mMedications\u001b[39m\u001b[38;5;124m\"\u001b[39m]]\u001b[38;5;241m.\u001b[39mdrop_duplicates()\n",
      "\u001b[1;31mNameError\u001b[0m: name 'predicted_value' is not defined"
     ]
    }
   ],
   "source": [
    "medication_data = pd.read_csv(\"Dataset/heart_disease_train_Data.csv\")\n",
    "medication=train_data[medication_data[\"Diagnosis\"]==predicted_value]\n",
    "medication.set_index(\"Medications\")\n",
    "all_medication=medication[[\"Medications\"]].drop_duplicates()\n",
    "list_of_medication=all_medication[\"Medications\"].tolist()\n",
    "list_of_medication"
   ]
  },
  {
   "cell_type": "code",
   "execution_count": 61,
   "id": "5ad19762",
   "metadata": {},
   "outputs": [
    {
     "ename": "NameError",
     "evalue": "name 'list_of_medication' is not defined",
     "output_type": "error",
     "traceback": [
      "\u001b[1;31m---------------------------------------------------------------------------\u001b[0m",
      "\u001b[1;31mNameError\u001b[0m                                 Traceback (most recent call last)",
      "Cell \u001b[1;32mIn [61], line 1\u001b[0m\n\u001b[1;32m----> 1\u001b[0m medications_string \u001b[38;5;241m=\u001b[39m \u001b[38;5;124m'\u001b[39m\u001b[38;5;124m,\u001b[39m\u001b[38;5;124m'\u001b[39m\u001b[38;5;241m.\u001b[39mjoin(\u001b[43mlist_of_medication\u001b[49m)\n\u001b[0;32m      2\u001b[0m medications_string\n\u001b[0;32m      4\u001b[0m medications_list \u001b[38;5;241m=\u001b[39m medications_string\u001b[38;5;241m.\u001b[39msplit(\u001b[38;5;124m'\u001b[39m\u001b[38;5;124m,\u001b[39m\u001b[38;5;124m'\u001b[39m)\n",
      "\u001b[1;31mNameError\u001b[0m: name 'list_of_medication' is not defined"
     ]
    }
   ],
   "source": [
    "medications_string = ','.join(list_of_medication)\n",
    "medications_string\n",
    "\n",
    "medications_list = medications_string.split(',')\n",
    "# print(medications_list)\n",
    "recommended_medications = list(set(medications_list))\n",
    "print(recommended_medications)"
   ]
  },
  {
   "cell_type": "code",
   "execution_count": 62,
   "id": "5a0041dc",
   "metadata": {},
   "outputs": [
    {
     "ename": "NameError",
     "evalue": "name 'recommended_medications' is not defined",
     "output_type": "error",
     "traceback": [
      "\u001b[1;31m---------------------------------------------------------------------------\u001b[0m",
      "\u001b[1;31mNameError\u001b[0m                                 Traceback (most recent call last)",
      "Cell \u001b[1;32mIn [62], line 1\u001b[0m\n\u001b[1;32m----> 1\u001b[0m medicine_data\u001b[38;5;241m=\u001b[39mpd\u001b[38;5;241m.\u001b[39mDataFrame({\u001b[38;5;124m'\u001b[39m\u001b[38;5;124mMedicine\u001b[39m\u001b[38;5;124m'\u001b[39m: \u001b[43mrecommended_medications\u001b[49m})\n\u001b[0;32m      2\u001b[0m \u001b[38;5;28mprint\u001b[39m(\u001b[38;5;124m\"\u001b[39m\u001b[38;5;124mRecommended medicines for the \u001b[39m\u001b[38;5;124m\"\u001b[39m\u001b[38;5;241m+\u001b[39mpredicted_value\u001b[38;5;241m+\u001b[39m\u001b[38;5;124m\"\u001b[39m\u001b[38;5;124m are \u001b[39m\u001b[38;5;124m\"\u001b[39m)\n\u001b[0;32m      3\u001b[0m \u001b[38;5;28mprint\u001b[39m(color\u001b[38;5;241m.\u001b[39mRED\u001b[38;5;241m+\u001b[39mmedicine_data\u001b[38;5;241m+\u001b[39mcolor\u001b[38;5;241m.\u001b[39mEND)\n",
      "\u001b[1;31mNameError\u001b[0m: name 'recommended_medications' is not defined"
     ]
    }
   ],
   "source": [
    "medicine_data=pd.DataFrame({'Medicine': recommended_medications})\n",
    "print(\"Recommended medicines for the \"+predicted_value+\" are \")\n",
    "print(color.RED+medicine_data+color.END)"
   ]
  },
  {
   "cell_type": "code",
   "execution_count": null,
   "id": "8e93e05f",
   "metadata": {},
   "outputs": [],
   "source": [
    "treatment_data = pd.read_csv(\"Dataset/heart_disease_train_Data.csv\")\n",
    "treatment=train_data[treatment_data[\"Diagnosis\"]==predicted_value]\n",
    "treatment.set_index(\"Treatment\")\n",
    "all_treatments=treatment[[\"Treatment\"]].drop_duplicates()\n",
    "list_of_treatment=all_treatments[\"Treatment\"].tolist()\n",
    "print(\"Treatments\")\n",
    "if list_of_treatment==['None']:\n",
    "    print(color.RED+\"Consult to the cardiologist\")\n",
    "else:\n",
    "    print(list_of_treatment)"
   ]
  }
 ],
 "metadata": {
  "kernelspec": {
   "display_name": "Python 3 (ipykernel)",
   "language": "python",
   "name": "python3"
  },
  "language_info": {
   "codemirror_mode": {
    "name": "ipython",
    "version": 3
   },
   "file_extension": ".py",
   "mimetype": "text/x-python",
   "name": "python",
   "nbconvert_exporter": "python",
   "pygments_lexer": "ipython3",
   "version": "3.10.7"
  }
 },
 "nbformat": 4,
 "nbformat_minor": 5
}
